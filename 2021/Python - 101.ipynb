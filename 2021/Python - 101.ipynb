{
 "cells": [
  {
   "cell_type": "code",
   "execution_count": 119,
   "id": "2140b5d5",
   "metadata": {},
   "outputs": [
    {
     "name": "stdout",
     "output_type": "stream",
     "text": [
      "Hola mundo\n"
     ]
    }
   ],
   "source": [
    "print(\"Hola mundo\")"
   ]
  },
  {
   "cell_type": "code",
   "execution_count": 120,
   "id": "74533da4",
   "metadata": {},
   "outputs": [
    {
     "name": "stdout",
     "output_type": "stream",
     "text": [
      "HOla mundo\n"
     ]
    }
   ],
   "source": [
    "# Este un comentario\n",
    "\n",
    "print(\"HOla mundo\")"
   ]
  },
  {
   "cell_type": "markdown",
   "id": "1ad3e583",
   "metadata": {},
   "source": [
    "## Creación de variables"
   ]
  },
  {
   "cell_type": "code",
   "execution_count": 121,
   "id": "535d420b",
   "metadata": {},
   "outputs": [
    {
     "name": "stdout",
     "output_type": "stream",
     "text": [
      "30\n"
     ]
    }
   ],
   "source": [
    "edad = 30\n",
    "\n",
    "print(edad)"
   ]
  },
  {
   "cell_type": "code",
   "execution_count": 122,
   "id": "697d0469",
   "metadata": {},
   "outputs": [
    {
     "name": "stdout",
     "output_type": "stream",
     "text": [
      "30\n"
     ]
    }
   ],
   "source": [
    "print(edad)"
   ]
  },
  {
   "cell_type": "code",
   "execution_count": 123,
   "id": "bf06f1aa",
   "metadata": {},
   "outputs": [
    {
     "name": "stdout",
     "output_type": "stream",
     "text": [
      "25\n"
     ]
    }
   ],
   "source": [
    "edad = 25\n",
    "print(edad)"
   ]
  },
  {
   "cell_type": "code",
   "execution_count": 124,
   "id": "6dbb9048",
   "metadata": {},
   "outputs": [
    {
     "name": "stdout",
     "output_type": "stream",
     "text": [
      "128.5\n"
     ]
    }
   ],
   "source": [
    "dinero = 128.50\n",
    "print(dinero)"
   ]
  },
  {
   "cell_type": "code",
   "execution_count": 125,
   "id": "1eabb387",
   "metadata": {},
   "outputs": [
    {
     "name": "stdout",
     "output_type": "stream",
     "text": [
      "El dinero recibido es  128.5\n"
     ]
    }
   ],
   "source": [
    "mensaje = 'El dinero recibido es '\n",
    "\n",
    "print(mensaje, dinero)"
   ]
  },
  {
   "cell_type": "code",
   "execution_count": 126,
   "id": "b82b5507",
   "metadata": {},
   "outputs": [
    {
     "name": "stdout",
     "output_type": "stream",
     "text": [
      "Allan Avendaño\n"
     ]
    }
   ],
   "source": [
    "nombre = 'Allan '\n",
    "apellido = 'Avendaño'\n",
    "\n",
    "\n",
    "print(nombre + apellido)"
   ]
  },
  {
   "cell_type": "markdown",
   "id": "fe7fde1f",
   "metadata": {},
   "source": [
    "## Identificadores "
   ]
  },
  {
   "cell_type": "code",
   "execution_count": 127,
   "id": "63476ccc",
   "metadata": {},
   "outputs": [
    {
     "name": "stdout",
     "output_type": "stream",
     "text": [
      "Arelis\n"
     ]
    }
   ],
   "source": [
    "nombre2 = 'Arelis'\n",
    "print(nombre2)"
   ]
  },
  {
   "cell_type": "code",
   "execution_count": 128,
   "id": "50a0dafe",
   "metadata": {},
   "outputs": [
    {
     "ename": "NameError",
     "evalue": "name 'Nombre2' is not defined",
     "output_type": "error",
     "traceback": [
      "\u001b[1;31m---------------------------------------------------------------------------\u001b[0m",
      "\u001b[1;31mNameError\u001b[0m                                 Traceback (most recent call last)",
      "\u001b[1;32mC:\\Users\\Public\\Documents\\Wondershare\\CreatorTemp/ipykernel_22968/3601226045.py\u001b[0m in \u001b[0;36m<module>\u001b[1;34m\u001b[0m\n\u001b[1;32m----> 1\u001b[1;33m \u001b[0mprint\u001b[0m\u001b[1;33m(\u001b[0m\u001b[0mNombre2\u001b[0m\u001b[1;33m)\u001b[0m\u001b[1;33m\u001b[0m\u001b[1;33m\u001b[0m\u001b[0m\n\u001b[0m",
      "\u001b[1;31mNameError\u001b[0m: name 'Nombre2' is not defined"
     ]
    }
   ],
   "source": [
    "print(Nombre2)"
   ]
  },
  {
   "cell_type": "code",
   "execution_count": null,
   "id": "a81d1149",
   "metadata": {},
   "outputs": [],
   "source": [
    "2nombre = 'Allison'\n",
    "print(2nombre)"
   ]
  },
  {
   "cell_type": "markdown",
   "id": "a1f78bce",
   "metadata": {},
   "source": [
    "# Salida por pantalla"
   ]
  },
  {
   "cell_type": "code",
   "execution_count": null,
   "id": "c4bdbeaa",
   "metadata": {},
   "outputs": [],
   "source": [
    "print(\"Nombre: \", nombre, \" apellido: \", apellido)"
   ]
  },
  {
   "cell_type": "code",
   "execution_count": null,
   "id": "5fbeacc5",
   "metadata": {},
   "outputs": [],
   "source": [
    "print( \"Nombre: {} apellido: {}\".format( nombre, apellido  )    )"
   ]
  },
  {
   "cell_type": "markdown",
   "id": "31019e16",
   "metadata": {},
   "source": [
    "## Operadores"
   ]
  },
  {
   "cell_type": "code",
   "execution_count": 129,
   "id": "0de5284b",
   "metadata": {},
   "outputs": [
    {
     "name": "stdout",
     "output_type": "stream",
     "text": [
      "Total: 36.599999999999994\n"
     ]
    }
   ],
   "source": [
    "# Crear tres variables: precio, cantidad y total \n",
    "# Asignen valores entero y flotantes\n",
    "# Realicen las operaciones total = precio * cantidad\n",
    "# Muestre por pantalla el total\n",
    "\n",
    "precio = 12.2\n",
    "cantidad = 3\n",
    "total = precio * cantidad\n",
    "\n",
    "print(\"Total: {}\".format(total) )"
   ]
  },
  {
   "cell_type": "code",
   "execution_count": null,
   "id": "292ed962",
   "metadata": {},
   "outputs": [],
   "source": [
    "# Calcular el valor del iva\n",
    "# Mostrar el totalAPagar = total + iva\n",
    "\n",
    "\n",
    "iva = total * 12 / 100 \n",
    "totalAPagar = total + iva\n",
    "print(\"Total a pagar ${:.0f} \".format(totalAPagar))\n",
    "\n",
    "print(\"Total a pagar $\", totalAPagar)"
   ]
  },
  {
   "cell_type": "markdown",
   "id": "db86125e",
   "metadata": {},
   "source": [
    "## Ingreso de datos"
   ]
  },
  {
   "cell_type": "code",
   "execution_count": null,
   "id": "723e4f95",
   "metadata": {},
   "outputs": [],
   "source": [
    "nombre = input(\"Ingrese su nombre: \")\n",
    "print(nombre)"
   ]
  },
  {
   "cell_type": "code",
   "execution_count": null,
   "id": "3fb6024f",
   "metadata": {},
   "outputs": [],
   "source": [
    "print(nombre)"
   ]
  },
  {
   "cell_type": "code",
   "execution_count": null,
   "id": "c5440ce4",
   "metadata": {},
   "outputs": [],
   "source": [
    "# Ingrese su nombre y apellido \n",
    "# Muestre por pantalla, uno después de otro\n",
    "\n",
    "nombre = input(\"Ingrese su nombre: \")\n",
    "apellido = input(\"Ingrese su apellido: \")\n",
    "\n",
    "print(\"Bienvenido \", nombre + apellido)"
   ]
  },
  {
   "cell_type": "code",
   "execution_count": null,
   "id": "da5d9a65",
   "metadata": {},
   "outputs": [],
   "source": [
    "# Ingrese el precio y la cantidad\n",
    "# Calcular el total\n",
    "\n",
    "precio = int( input(\"Ingrese el precio del artículo: \") )\n",
    "print(\"El precio es ${}\".format(precio))"
   ]
  },
  {
   "cell_type": "code",
   "execution_count": null,
   "id": "cf477914",
   "metadata": {},
   "outputs": [],
   "source": [
    "# Ingrese el precio y la cantidad\n",
    "# Calcule el total\n",
    "# Calcule el iva\n",
    "# Calcule el total a pagar\n",
    "# Muestre por pantalla\n",
    "\n",
    "precio = float(input(\"Ingrese el precio: \"))\n",
    "cantidad = int(input(\"Ingrese el cantidad: \"))\n",
    "total = precio * cantidad\n",
    "iva = total * 0.12\n",
    "totalAPagar = total + iva\n",
    "print(\"El total a pagar: ${}\".format(totalAPagar))"
   ]
  },
  {
   "cell_type": "markdown",
   "id": "04a4e626",
   "metadata": {},
   "source": [
    "## Valores de verdad"
   ]
  },
  {
   "cell_type": "code",
   "execution_count": null,
   "id": "dde93d65",
   "metadata": {},
   "outputs": [],
   "source": [
    "encendido = False\n",
    "print(encendido)"
   ]
  },
  {
   "cell_type": "code",
   "execution_count": null,
   "id": "228e4e67",
   "metadata": {},
   "outputs": [],
   "source": [
    "edad = 22 \n",
    "esMayorEdad = edad >= 18\n",
    "print(esMayorEdad)"
   ]
  },
  {
   "cell_type": "code",
   "execution_count": null,
   "id": "e4657fee",
   "metadata": {},
   "outputs": [],
   "source": [
    "estaEncendido = encendido == True\n",
    "print(estaEncendido)"
   ]
  },
  {
   "cell_type": "markdown",
   "id": "acd95e03",
   "metadata": {},
   "source": [
    "## Estructura condicional"
   ]
  },
  {
   "cell_type": "code",
   "execution_count": null,
   "id": "69e5d4ca",
   "metadata": {},
   "outputs": [],
   "source": [
    "if <condicion> :\n",
    "    print()\n",
    "    print()\n",
    "    print()\n",
    "    "
   ]
  },
  {
   "cell_type": "code",
   "execution_count": null,
   "id": "db413889",
   "metadata": {},
   "outputs": [],
   "source": [
    "edad = 18\n",
    "\n",
    "if edad >= 18:\n",
    "    print(\"Es mayor de edad\")\n",
    "    print(\"Tiene {} años\".format(edad))"
   ]
  },
  {
   "cell_type": "code",
   "execution_count": null,
   "id": "a0d62075",
   "metadata": {},
   "outputs": [],
   "source": [
    "# Ingrese un precio\n",
    "# Si el precio es menor o igual que 15 debe mostrar un mensaje con \"Está en descuento\"\n",
    "\n",
    "precio = float(input(\"Ingrese el precio: \"))\n",
    "\n",
    "if precio <= 15:\n",
    "    print(\"Está en descuento\")"
   ]
  },
  {
   "cell_type": "code",
   "execution_count": null,
   "id": "032371c8",
   "metadata": {},
   "outputs": [],
   "source": [
    "edad = 15\n",
    "\n",
    "if edad >= 18:\n",
    "    print(\"Es mayor de edad\")\n",
    "    print(\"Tiene {} años\".format(edad))\n",
    "else:\n",
    "    print(\"Es menor de edad\")\n",
    "    print(\"Tiene {} años\".format(edad))"
   ]
  },
  {
   "cell_type": "code",
   "execution_count": null,
   "id": "3cd5422a",
   "metadata": {},
   "outputs": [],
   "source": [
    "edad = 28\n",
    "\n",
    "if edad >= 18:\n",
    "    print(\"Es mayor de edad\")\n",
    "    print(\"Tiene {} años\".format(edad))  \n",
    "elif edad > 0 and edad <= 12:\n",
    "    print(\"Es un infante\")\n",
    "else:\n",
    "    print(\"Es menor de edad\")\n",
    "    print(\"Tiene {} años\".format(edad))"
   ]
  },
  {
   "cell_type": "code",
   "execution_count": null,
   "id": "6773abee",
   "metadata": {},
   "outputs": [],
   "source": [
    "# Ingrese un precio y una cantidad\n",
    "# Dependiendo de la cantidad tendrá un descuento\n",
    "# En caso de ser mayor que 100, el descuento es del 15%\n",
    "# En caso de estar entre 10 y 100, el descuento es del 12%\n",
    "# Para cualquier otro caso, no hay descuento\n",
    "# Al final, muestre el total a pagar\n",
    "\n",
    "precio = float(input(\"Ingrese el precio: \"))\n",
    "cantidad = float(input(\"Ingrese el cantidad: \"))\n",
    "\n",
    "if cantidad > 100:\n",
    "    descuento = 15\n",
    "elif 10 < cantidad <= 100:\n",
    "    descuento = 12\n",
    "else:\n",
    "    descuento = 0\n",
    "    \n",
    "total = precio * cantidad\n",
    "totalDescuento = total * descuento / 100\n",
    "totalAPagar = total - totalDescuento\n",
    "\n",
    "print(\"Total a pagar {}\".format(totalAPagar))"
   ]
  },
  {
   "cell_type": "markdown",
   "id": "5d1ec3c6",
   "metadata": {},
   "source": [
    "## Listas y estructuras de repetición"
   ]
  },
  {
   "cell_type": "code",
   "execution_count": 130,
   "id": "c6d71015",
   "metadata": {},
   "outputs": [
    {
     "name": "stdout",
     "output_type": "stream",
     "text": [
      "[3.4, 5, 2, 6]\n"
     ]
    }
   ],
   "source": [
    "precios = [ 3.4 , 5, 2, 6 ]\n",
    "print(precios)"
   ]
  },
  {
   "cell_type": "code",
   "execution_count": null,
   "id": "8817fdc3",
   "metadata": {},
   "outputs": [],
   "source": [
    "# Lista de nombres \n",
    "# muestre los nombres por pantalla\n",
    "\n",
    "nombres = [ \"Martha\" , \"Andrea\", \"Camila\" ]\n",
    "print(nombres)\n"
   ]
  },
  {
   "cell_type": "code",
   "execution_count": 132,
   "id": "a1df8b28",
   "metadata": {},
   "outputs": [
    {
     "name": "stdout",
     "output_type": "stream",
     "text": [
      "[]\n"
     ]
    }
   ],
   "source": [
    "nombres = []\n",
    "print(nombres)"
   ]
  },
  {
   "cell_type": "code",
   "execution_count": 133,
   "id": "99694d58",
   "metadata": {},
   "outputs": [
    {
     "name": "stdout",
     "output_type": "stream",
     "text": [
      "['Arelis']\n"
     ]
    }
   ],
   "source": [
    "nombres.append(\"Arelis\")\n",
    "print(nombres)\n"
   ]
  },
  {
   "cell_type": "code",
   "execution_count": 134,
   "id": "585dab5f",
   "metadata": {},
   "outputs": [
    {
     "name": "stdout",
     "output_type": "stream",
     "text": [
      "['Allison', 'Arelis']\n"
     ]
    }
   ],
   "source": [
    "nombres.insert(0, 'Allison')\n",
    "print(nombres)"
   ]
  },
  {
   "cell_type": "code",
   "execution_count": null,
   "id": "4005c6e6",
   "metadata": {},
   "outputs": [],
   "source": [
    "for <variable-local> in  <variable-a-iterar>:\n",
    "    ..."
   ]
  },
  {
   "cell_type": "code",
   "execution_count": null,
   "id": "fd53c149",
   "metadata": {},
   "outputs": [],
   "source": [
    "nombres = 12"
   ]
  },
  {
   "cell_type": "code",
   "execution_count": 137,
   "id": "fd5ce172",
   "metadata": {},
   "outputs": [
    {
     "name": "stdout",
     "output_type": "stream",
     "text": [
      "Allison\n",
      "Arelis\n"
     ]
    }
   ],
   "source": [
    "for nombre in nombres:\n",
    "    print(nombre)"
   ]
  },
  {
   "cell_type": "code",
   "execution_count": 141,
   "id": "33d022d7",
   "metadata": {},
   "outputs": [
    {
     "name": "stdout",
     "output_type": "stream",
     "text": [
      "Ingrese un nombre: A\n",
      "Ingrese un nombre: B\n",
      "Ingrese un nombre: C\n",
      "Ingrese un nombre: D\n",
      "Ingrese un nombre: E\n",
      "['A', 'B', 'C', 'D', 'E']\n"
     ]
    }
   ],
   "source": [
    "# Ingresar 5 nombres\n",
    "# Mostrar cada nombre por separado\n",
    "\n",
    "nombres = []\n",
    "\n",
    "for el in range(0,100):\n",
    "    nombre = input(\"Ingrese un nombre: \")\n",
    "    nombres.append(nombre)\n",
    "    \n",
    "print(nombres)\n"
   ]
  },
  {
   "cell_type": "code",
   "execution_count": 143,
   "id": "0183d8fa",
   "metadata": {},
   "outputs": [
    {
     "name": "stdout",
     "output_type": "stream",
     "text": [
      "['A', 'B', 'C', 'D', 'E']\n"
     ]
    }
   ],
   "source": [
    "print(nombres)"
   ]
  },
  {
   "cell_type": "code",
   "execution_count": 146,
   "id": "d200c45e",
   "metadata": {},
   "outputs": [
    {
     "name": "stdout",
     "output_type": "stream",
     "text": [
      "D\n"
     ]
    }
   ],
   "source": [
    "print( nombres[3] )"
   ]
  },
  {
   "cell_type": "code",
   "execution_count": 149,
   "id": "afd6a85d",
   "metadata": {},
   "outputs": [
    {
     "name": "stdout",
     "output_type": "stream",
     "text": [
      "['A', 'B', 'C', 'D', 'Z']\n"
     ]
    }
   ],
   "source": [
    "nombres[4] = 'Z'\n",
    "\n",
    "print(nombres)"
   ]
  },
  {
   "cell_type": "code",
   "execution_count": 150,
   "id": "208b75a9",
   "metadata": {},
   "outputs": [
    {
     "name": "stdout",
     "output_type": "stream",
     "text": [
      "['A', 'B', 'C', 'D', 'N']\n"
     ]
    }
   ],
   "source": [
    "nombres[-1] = 'N'\n",
    "print(nombres)"
   ]
  }
 ],
 "metadata": {
  "kernelspec": {
   "display_name": "Python 3 (ipykernel)",
   "language": "python",
   "name": "python3"
  },
  "language_info": {
   "codemirror_mode": {
    "name": "ipython",
    "version": 3
   },
   "file_extension": ".py",
   "mimetype": "text/x-python",
   "name": "python",
   "nbconvert_exporter": "python",
   "pygments_lexer": "ipython3",
   "version": "3.9.5"
  }
 },
 "nbformat": 4,
 "nbformat_minor": 5
}
