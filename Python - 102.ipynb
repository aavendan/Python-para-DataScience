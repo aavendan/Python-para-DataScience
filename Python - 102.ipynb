{
 "cells": [
  {
   "cell_type": "code",
   "execution_count": 1,
   "id": "02175f5a",
   "metadata": {},
   "outputs": [],
   "source": [
    "# Dadas las listas prestamos y personas\n",
    "# Muestre por pantalla el nombre y el valor del prestamo correspondiente\n",
    "\n",
    "prestamos = [2300, 3214, 3450, 1980, 2020, 4530]\n",
    "personas = [ \"Juan\", \"María\", \"Andrés\", \"Carlos\", \"Vanessa\", \"Lucía\"]"
   ]
  },
  {
   "cell_type": "code",
   "execution_count": 3,
   "id": "1112c8c7",
   "metadata": {},
   "outputs": [
    {
     "name": "stdout",
     "output_type": "stream",
     "text": [
      "Juan tiene un préstamo de $2300\n",
      "María tiene un préstamo de $3214\n",
      "Andrés tiene un préstamo de $3450\n",
      "Carlos tiene un préstamo de $1980\n",
      "Vanessa tiene un préstamo de $2020\n",
      "Lucía tiene un préstamo de $4530\n"
     ]
    }
   ],
   "source": [
    "for i in range(0, len(prestamos)):\n",
    "    print(\"{} tiene un préstamo de ${}\".format(personas[i] , prestamos[i]))"
   ]
  },
  {
   "cell_type": "code",
   "execution_count": 4,
   "id": "10a35d03",
   "metadata": {},
   "outputs": [
    {
     "name": "stdout",
     "output_type": "stream",
     "text": [
      "Juan tiene un préstamo de $2300\n",
      "María tiene un préstamo de $3214\n",
      "Andrés tiene un préstamo de $3450\n",
      "Vanessa tiene un préstamo de $2020\n",
      "Lucía tiene un préstamo de $4530\n"
     ]
    }
   ],
   "source": [
    "# Mostrar el nombre y el valor de préstamo, cuyo valor de préstamo sea mayor o igual que $2000\n",
    "\n",
    "for i in range(0, len(prestamos)):\n",
    "    if prestamos[i] >= 2000:\n",
    "        print(\"{} tiene un préstamo de ${}\".format(personas[i] , prestamos[i]))\n"
   ]
  },
  {
   "cell_type": "markdown",
   "id": "8dc5be82",
   "metadata": {},
   "source": [
    "## Rebanadas (slicing)"
   ]
  },
  {
   "cell_type": "code",
   "execution_count": 6,
   "id": "15fb1354",
   "metadata": {},
   "outputs": [
    {
     "name": "stdout",
     "output_type": "stream",
     "text": [
      "['Juan', 'María', 'Andrés']\n"
     ]
    }
   ],
   "source": [
    "rebanada = personas[0:3]\n",
    "print(rebanada)"
   ]
  },
  {
   "cell_type": "code",
   "execution_count": 12,
   "id": "fff4b17f",
   "metadata": {},
   "outputs": [
    {
     "name": "stdout",
     "output_type": "stream",
     "text": [
      "['Carlos', 'Vanessa', 'Lucía']\n"
     ]
    }
   ],
   "source": [
    "#Opción 1: Dejar vacío el último índice    [3: ]\n",
    "#Opción 2: Colocar la longitud de la lista [3:len(personas)]\n",
    "\n",
    "ultimos = personas[-3:]\n",
    "print(ultimos)"
   ]
  },
  {
   "cell_type": "code",
   "execution_count": 15,
   "id": "dd84f5c0",
   "metadata": {},
   "outputs": [
    {
     "name": "stdout",
     "output_type": "stream",
     "text": [
      "Juan tiene un préstamo de $2300\n",
      "María tiene un préstamo de $3214\n",
      "Andrés tiene un préstamo de $3450\n"
     ]
    }
   ],
   "source": [
    "# Mostrar las tres primeras personas con sus respectivos valores de préstamos \n",
    "\n",
    "personasR1 = personas[0:3]\n",
    "prestamosR1 = prestamos[0:3]\n",
    "\n",
    "for i in range(0, len(personasR1)):\n",
    "    print(\"{} tiene un préstamo de ${}\".format(personasR1[i] , prestamosR1[i]))"
   ]
  },
  {
   "cell_type": "markdown",
   "id": "e98ac218",
   "metadata": {},
   "source": [
    "## Máximos y mínimos"
   ]
  },
  {
   "cell_type": "code",
   "execution_count": 18,
   "id": "a44d503e",
   "metadata": {},
   "outputs": [
    {
     "name": "stdout",
     "output_type": "stream",
     "text": [
      "El valor máximo es $4530\n"
     ]
    }
   ],
   "source": [
    "#max( ), min( )\n",
    "\n",
    "valorMaximo = max(prestamos)\n",
    "print(\"El valor máximo es ${}\".format(valorMaximo))"
   ]
  },
  {
   "cell_type": "code",
   "execution_count": 20,
   "id": "2323f79a",
   "metadata": {},
   "outputs": [
    {
     "name": "stdout",
     "output_type": "stream",
     "text": [
      "El valor mínimo es $1980\n"
     ]
    }
   ],
   "source": [
    "# Muestre el valor mínimo de los préstamos\n",
    "\n",
    "valorMinimo = min(prestamos)\n",
    "print(\"El valor mínimo es ${}\".format(valorMinimo))"
   ]
  },
  {
   "cell_type": "code",
   "execution_count": 31,
   "id": "ed128000",
   "metadata": {},
   "outputs": [
    {
     "name": "stdout",
     "output_type": "stream",
     "text": [
      " ['Lucía'] tiene el préstamo de mayor valor $4530\n"
     ]
    }
   ],
   "source": [
    "# index\n",
    "\n",
    "indiceMaximo = prestamos.index(valorMaximo)\n",
    "#print(indiceMaximo)\n",
    "\n",
    "personaMaximo = personas[indiceMaximo]\n",
    "\n",
    "print(\" {} tiene el préstamo de mayor valor ${}\".format( personaMaximo, valorMaximo ))"
   ]
  },
  {
   "cell_type": "code",
   "execution_count": 30,
   "id": "5ddb0607",
   "metadata": {},
   "outputs": [
    {
     "data": {
      "text/plain": [
       "(['Lucía'], 'Lucía')"
      ]
     },
     "execution_count": 30,
     "metadata": {},
     "output_type": "execute_result"
    }
   ],
   "source": [
    "# No es lo mismo rebanadas (slicing) que indexación\n",
    "personas[5:], personas[5]"
   ]
  },
  {
   "cell_type": "code",
   "execution_count": 36,
   "id": "548528c9",
   "metadata": {},
   "outputs": [
    {
     "name": "stdout",
     "output_type": "stream",
     "text": [
      " Carlos tiene el préstamo de menor valor $1980\n"
     ]
    }
   ],
   "source": [
    "# Muestre el valor mínimo de los préstamos y el nombre de la persona relacionada\n",
    "\n",
    "valorMinimo = min(prestamos)\n",
    "indiceMinimo = prestamos.index(valorMinimo)\n",
    "\n",
    "personaMinimo = personas[indiceMinimo]\n",
    "\n",
    "print(\" {} tiene el préstamo de menor valor ${}\".format( personaMinimo, valorMinimo ))"
   ]
  },
  {
   "cell_type": "markdown",
   "id": "01c3725a",
   "metadata": {},
   "source": [
    "### Ejercicio"
   ]
  },
  {
   "cell_type": "code",
   "execution_count": 38,
   "id": "bc2375d8",
   "metadata": {},
   "outputs": [
    {
     "name": "stdout",
     "output_type": "stream",
     "text": [
      "Ingrese el valor a pagar: 34.5\n",
      "Ingrese el valor a pagar: 223.\n",
      "Ingrese el valor a pagar: 24\n",
      "Ingrese el valor a pagar: 90.4\n",
      "Ingrese el valor a pagar: 34.9\n",
      "Ingrese el valor a pagar: 56.3\n",
      "Juan tiene un saldo de $2265.5\n",
      "María tiene un saldo de $2991.0\n",
      "Andrés tiene un saldo de $3426.0\n",
      "Carlos tiene un saldo de $1889.6\n",
      "Vanessa tiene un saldo de $1985.1\n",
      "Lucía tiene un saldo de $4473.7\n"
     ]
    }
   ],
   "source": [
    "# Ingrese y guarde los pagos de todas personas.\n",
    "# Muestre el saldo a pagar por cada persona.\n",
    "\n",
    "pagos = []\n",
    "saldo = []\n",
    "\n",
    "for i in range(0,len(personas)):\n",
    "    pago = float(input(\"Ingrese el valor a pagar: \"))\n",
    "    pagos.append(pago)\n",
    "    \n",
    "    saldo.append( prestamos[i] - pago )\n",
    "    \n",
    "for i in range(0,len(personas)):\n",
    "    print(\"{} tiene un saldo de ${}\".format(personas[i], saldo[i]))"
   ]
  },
  {
   "cell_type": "markdown",
   "id": "5d2caf68",
   "metadata": {},
   "source": [
    "## Arreglos o vectores"
   ]
  },
  {
   "cell_type": "code",
   "execution_count": 1,
   "id": "043f72d2",
   "metadata": {},
   "outputs": [],
   "source": [
    "import numpy as np"
   ]
  },
  {
   "cell_type": "code",
   "execution_count": 2,
   "id": "1fa0fb80",
   "metadata": {},
   "outputs": [],
   "source": [
    "prestamos = [2300, 3214, 3450, 1980, 2020, 4530]\n",
    "personas = [ \"Juan\", \"María\", \"Andrés\", \"Carlos\", \"Vanessa\", \"Lucía\"]"
   ]
  },
  {
   "cell_type": "code",
   "execution_count": 3,
   "id": "f83a5d57",
   "metadata": {},
   "outputs": [],
   "source": [
    "arrPrestamos = np.array(prestamos)\n",
    "arrPersonas = np.array(personas)"
   ]
  },
  {
   "cell_type": "code",
   "execution_count": 6,
   "id": "f79eee5e",
   "metadata": {},
   "outputs": [
    {
     "name": "stdout",
     "output_type": "stream",
     "text": [
      "[2300 3214 3450 1980 2020 4530]\n",
      "['Juan' 'María' 'Andrés' 'Carlos' 'Vanessa' 'Lucía']\n"
     ]
    }
   ],
   "source": [
    "print(arrPrestamos)\n",
    "print(arrPersonas)"
   ]
  },
  {
   "cell_type": "code",
   "execution_count": 8,
   "id": "0a4ec4ef",
   "metadata": {},
   "outputs": [
    {
     "name": "stdout",
     "output_type": "stream",
     "text": [
      "Vanessa tiene $2020 préstamo\n"
     ]
    }
   ],
   "source": [
    "# Muestre la persona y el valor del préstamo que se encuentra en el indice 4 \n",
    "# Utilice los arreglos.\n",
    "\n",
    "print(\"{} tiene ${} préstamo\".format(arrPersonas[4], arrPrestamos[4]))"
   ]
  },
  {
   "cell_type": "code",
   "execution_count": 11,
   "id": "637445c3",
   "metadata": {},
   "outputs": [
    {
     "name": "stdout",
     "output_type": "stream",
     "text": [
      "Juan tiene $2300 préstamo\n",
      "María tiene $3214 préstamo\n",
      "Andrés tiene $3450 préstamo\n",
      "Carlos tiene $1980 préstamo\n",
      "Vanessa tiene $2020 préstamo\n",
      "Lucía tiene $4530 préstamo\n"
     ]
    }
   ],
   "source": [
    "# Muestre cada persona y el valor del préstamo \n",
    "# Utilice los arreglos.\n",
    "\n",
    "for i in range( arrPersonas.size ):\n",
    "    print(\"{} tiene ${} préstamo\".format(arrPersonas[i], arrPrestamos[i]))"
   ]
  },
  {
   "cell_type": "code",
   "execution_count": 13,
   "id": "8cca459d",
   "metadata": {},
   "outputs": [
    {
     "name": "stdout",
     "output_type": "stream",
     "text": [
      "Carlos tiene $1980 préstamo\n",
      "Vanessa tiene $2020 préstamo\n"
     ]
    }
   ],
   "source": [
    "# Muestre cada persona y el valor del préstamo, si el valor es menor que $2200\n",
    "# Utilice los arreglos.\n",
    "\n",
    "for i in range( arrPersonas.size ):\n",
    "    if arrPrestamos[i] < 2200:\n",
    "        print(\"{} tiene ${} préstamo\".format(arrPersonas[i], arrPrestamos[i]))\n"
   ]
  },
  {
   "cell_type": "markdown",
   "id": "b84c6e74",
   "metadata": {},
   "source": [
    "## Indexación booleana"
   ]
  },
  {
   "cell_type": "code",
   "execution_count": 21,
   "id": "b04683e7",
   "metadata": {},
   "outputs": [
    {
     "name": "stdout",
     "output_type": "stream",
     "text": [
      "[2300 3214 3450 1980 2020 4530]\n"
     ]
    }
   ],
   "source": [
    "print(arrPrestamos)"
   ]
  },
  {
   "cell_type": "code",
   "execution_count": 17,
   "id": "ac5a23d1",
   "metadata": {},
   "outputs": [
    {
     "name": "stdout",
     "output_type": "stream",
     "text": [
      "[False False False  True  True False]\n"
     ]
    }
   ],
   "source": [
    "# Broadcasting\n",
    "\n",
    "arrCondicion = arrPrestamos < 2200\n",
    "print(arrCondicion)"
   ]
  },
  {
   "cell_type": "code",
   "execution_count": 19,
   "id": "faba37f6",
   "metadata": {},
   "outputs": [
    {
     "name": "stdout",
     "output_type": "stream",
     "text": [
      "[1980 2020]\n"
     ]
    }
   ],
   "source": [
    "arrResultado = arrPrestamos[ arrCondicion ]\n",
    "print(arrResultado)"
   ]
  },
  {
   "cell_type": "code",
   "execution_count": 24,
   "id": "0ae537b9",
   "metadata": {},
   "outputs": [
    {
     "name": "stdout",
     "output_type": "stream",
     "text": [
      "['Carlos' 'Vanessa']\n"
     ]
    }
   ],
   "source": [
    "# Filtre los nombres de las personas de acuerdo con el arreglo booleano arrCondicion\n",
    "\n",
    "arrPersonaResultado = arrPersonas[ arrCondicion ]\n",
    "print(arrPersonaResultado)"
   ]
  },
  {
   "cell_type": "code",
   "execution_count": 29,
   "id": "0b4f9ae3",
   "metadata": {},
   "outputs": [
    {
     "name": "stdout",
     "output_type": "stream",
     "text": [
      "[ True False False False  True False]\n"
     ]
    }
   ],
   "source": [
    "# Muestre los nombres de personas cuyo valor de préstamo se encuentre entre [2000, 3100]\n",
    "\n",
    "arrCondicion = (arrPrestamos >= 2000) & (arrPrestamos <= 3100)\n",
    "print(condicion)"
   ]
  },
  {
   "cell_type": "code",
   "execution_count": 35,
   "id": "a5d7f3f0",
   "metadata": {},
   "outputs": [
    {
     "name": "stdout",
     "output_type": "stream",
     "text": [
      "Juan tiene $2300\n",
      "Vanessa tiene $2020\n"
     ]
    }
   ],
   "source": [
    "arrResultado = arrPrestamos[arrCondicion]\n",
    "arrPersonasResultado = arrPersonas[arrCondicion]\n",
    "\n",
    "for i in range(arrResultado.size ):\n",
    "    print(\"{} tiene ${}\".format(arrPersonasResultado[i], arrResultado[i]))"
   ]
  },
  {
   "cell_type": "markdown",
   "id": "02427a95",
   "metadata": {},
   "source": [
    "## Broadcasting"
   ]
  },
  {
   "cell_type": "code",
   "execution_count": 37,
   "id": "afd171b5",
   "metadata": {},
   "outputs": [],
   "source": [
    "arrPrecios = np.array([23, 45, 15, 290, 19, 34])"
   ]
  },
  {
   "cell_type": "code",
   "execution_count": 39,
   "id": "5b0f4a2b",
   "metadata": {},
   "outputs": [
    {
     "name": "stdout",
     "output_type": "stream",
     "text": [
      "[ 25  47  17 292  21  36]\n"
     ]
    }
   ],
   "source": [
    "arrResultante = arrPrecios + 2\n",
    "print(arrResultante)"
   ]
  },
  {
   "cell_type": "code",
   "execution_count": 41,
   "id": "9ab48b20",
   "metadata": {},
   "outputs": [
    {
     "name": "stdout",
     "output_type": "stream",
     "text": [
      "[ 2.76  5.4   1.8  34.8   2.28  4.08]\n"
     ]
    }
   ],
   "source": [
    "# Calcule y muestre el valor a pagar iva del arreglo de precios\n",
    "\n",
    "arrIvaPagar = arrPrecios * 0.12\n",
    "print(arrIvaPagar)"
   ]
  },
  {
   "cell_type": "code",
   "execution_count": 44,
   "id": "9745118b",
   "metadata": {},
   "outputs": [
    {
     "name": "stdout",
     "output_type": "stream",
     "text": [
      "[ 25.76  50.4   16.8  324.8   21.28  38.08]\n"
     ]
    }
   ],
   "source": [
    "# Calcule y muestre el total a pagar (Precio + ivaPagar)\n",
    "\n",
    "arrTotal = arrPrecios + arrIvaPagar\n",
    "print(arrTotal)"
   ]
  },
  {
   "cell_type": "markdown",
   "id": "e4eaefcc",
   "metadata": {},
   "source": [
    "## Ordenamiento"
   ]
  },
  {
   "cell_type": "code",
   "execution_count": 45,
   "id": "b6d8a8eb",
   "metadata": {},
   "outputs": [],
   "source": [
    "prestamos = [2300, 3214, 3450, 1980, 2020, 4530]\n",
    "personas = [ \"Juan\", \"María\", \"Andrés\", \"Carlos\", \"Vanessa\", \"Lucía\"]"
   ]
  },
  {
   "cell_type": "code",
   "execution_count": 50,
   "id": "f0ade08c",
   "metadata": {},
   "outputs": [],
   "source": [
    "arrPrestamos = np.array(prestamos)\n",
    "arrPersonas = np.array(personas)"
   ]
  },
  {
   "cell_type": "code",
   "execution_count": 56,
   "id": "776b11cd",
   "metadata": {},
   "outputs": [
    {
     "name": "stdout",
     "output_type": "stream",
     "text": [
      "Original  [2300 3214 3450 1980 2020 4530]\n",
      "Ordenado  [1980 2020 2300 3214 3450 4530]\n"
     ]
    }
   ],
   "source": [
    "# En orden ascendente, muestre los nombres de las personas con el préstamo asignado\n",
    "\n",
    "arrOrdenado = np.sort(arrPrestamos)\n",
    "print(\"Original \", arrPrestamos)\n",
    "print(\"Ordenado \", arrOrdenado)"
   ]
  },
  {
   "cell_type": "markdown",
   "id": "e86c4e71",
   "metadata": {},
   "source": [
    "## Indexación entera"
   ]
  },
  {
   "cell_type": "code",
   "execution_count": 61,
   "id": "3686a2ec",
   "metadata": {},
   "outputs": [
    {
     "name": "stdout",
     "output_type": "stream",
     "text": [
      "[3 4 0 1 2 5]\n",
      "['Carlos' 'Vanessa' 'Juan' 'María' 'Andrés' 'Lucía']\n"
     ]
    }
   ],
   "source": [
    "arrIndicesOrdenado = np.argsort(arrPrestamos)\n",
    "print(arrIndicesOrdenado)\n",
    "\n",
    "\n",
    "arrPersonasOrdenado = arrPersonas[arrIndicesOrdenado]\n",
    "print(arrPersonasOrdenado)"
   ]
  },
  {
   "cell_type": "code",
   "execution_count": 65,
   "id": "9898d1bb",
   "metadata": {},
   "outputs": [
    {
     "name": "stdout",
     "output_type": "stream",
     "text": [
      "Lucía tiene $4530\n",
      "Andrés tiene $3450\n",
      "María tiene $3214\n"
     ]
    }
   ],
   "source": [
    "# Muestre el top-3 de nombres con el mayor valor de préstamo recibido \n",
    "\n",
    "arrPrestamosOrdenados = np.sort(arrPrestamos)\n",
    "arrIndicesOrdenados = np.argsort(arrPrestamos)\n",
    "\n",
    "arrPersonasOrdenados = arrPersonas[arrIndicesOrdenados]\n",
    "\n",
    "arrTop3Personas = np.flip(arrPersonasOrdenados[-3:])\n",
    "arrTop3Prestamos = np.flip(arrPrestamosOrdenados[-3:])\n",
    "\n",
    "for i in range( arrTop3Personas.size ):\n",
    "    print(\"{} tiene ${}\".format( arrTop3Personas[i], arrTop3Prestamos[i]  ))"
   ]
  },
  {
   "cell_type": "markdown",
   "id": "cb0ac446",
   "metadata": {},
   "source": [
    "## Matplotlib"
   ]
  },
  {
   "cell_type": "code",
   "execution_count": 22,
   "id": "6a34a247",
   "metadata": {},
   "outputs": [],
   "source": [
    "import numpy as np\n",
    "import matplotlib.pyplot as pt"
   ]
  },
  {
   "cell_type": "code",
   "execution_count": 2,
   "id": "7aba573d",
   "metadata": {},
   "outputs": [],
   "source": [
    "prestamos = [2300, 3214, 3450, 1980, 2020, 4530]\n",
    "personas = [ \"Juan\", \"María\", \"Andrés\", \"Carlos\", \"Vanessa\", \"Lucía\"]"
   ]
  },
  {
   "cell_type": "code",
   "execution_count": 5,
   "id": "84a76495",
   "metadata": {},
   "outputs": [],
   "source": [
    "arrPrestamos = np.array(prestamos)\n",
    "arrPersonas = np.array(personas)"
   ]
  },
  {
   "cell_type": "code",
   "execution_count": 24,
   "id": "c58c3820",
   "metadata": {},
   "outputs": [
    {
     "data": {
      "text/plain": [
       "Text(0.5, 1.0, 'Préstamos por cliente')"
      ]
     },
     "execution_count": 24,
     "metadata": {},
     "output_type": "execute_result"
    },
    {
     "data": {
      "image/png": "[encoded data removed]",
      "text/plain": [
       "<Figure size 432x288 with 1 Axes>"
      ]
     },
     "metadata": {
      "needs_background": "light"
     },
     "output_type": "display_data"
    }
   ],
   "source": [
    "pt.bar(arrPersonas, arrPrestamos)\n",
    "\n",
    "pt.xlabel('Clientes')\n",
    "pt.ylabel('Préstamos')\n",
    "\n",
    "pt.title(\"Préstamos por cliente\", fontsize = 20)"
   ]
  },
  {
   "cell_type": "code",
   "execution_count": 37,
   "id": "3e1e3396",
   "metadata": {},
   "outputs": [
    {
     "name": "stdout",
     "output_type": "stream",
     "text": [
      "[2300 3214 3450 1980 2020 4530]\n",
      "[ True False False  True  True False]\n",
      "[2300 1980 2020] ['Juan' 'Carlos' 'Vanessa']\n",
      "[0 2 1]\n",
      "[2300 2020 1980] ['Juan' 'Vanessa' 'Carlos']\n",
      "[2300 2020 1980] ['Juan' 'Vanessa' 'Carlos']\n"
     ]
    },
    {
     "data": {
      "text/plain": [
       "Text(0, 0.5, 'Préstamos')"
      ]
     },
     "execution_count": 37,
     "metadata": {},
     "output_type": "execute_result"
    },
    {
     "data": {
      "image/png": "[encoded data removed]",
      "text/plain": [
       "<Figure size 432x288 with 1 Axes>"
      ]
     },
     "metadata": {
      "needs_background": "light"
     },
     "output_type": "display_data"
    }
   ],
   "source": [
    "# Mostrar el top-3 de préstamos entre 1500 y 2300, en orden descendente. \n",
    "# Muestre el resultado con un gráfico de barras.\n",
    "\n",
    "#prestamos\n",
    "print(arrPrestamos)\n",
    "\n",
    "#condicion 1500 y 2300\n",
    "arrCondicion = (arrPrestamos >= 1500) & (arrPrestamos <= 2300)\n",
    "print(arrCondicion)\n",
    "\n",
    "#filtrar\n",
    "arrPrestamosFiltrado = arrPrestamos[arrCondicion]\n",
    "arrPersonasFiltrado = arrPersonas[arrCondicion]\n",
    "print(arrPrestamosFiltrado, arrPersonasFiltrado)\n",
    "\n",
    "\n",
    "#orden descendente\n",
    "arrIndicesOrdenados = np.flip(np.argsort(arrPrestamosFiltrado))\n",
    "print(arrIndicesOrdenados)\n",
    "\n",
    "arrPrestamosOrdenado = arrPrestamosFiltrado[arrIndicesOrdenados]\n",
    "arrPersonasOrdenado = arrPersonasFiltrado[arrIndicesOrdenados]\n",
    "\n",
    "print(arrPrestamosOrdenado, arrPersonasOrdenado)\n",
    "\n",
    "#top3\n",
    "\n",
    "top3Prestamos = arrPrestamosOrdenado[-3:]\n",
    "top3Personas = arrPersonasOrdenado[-3:]\n",
    "\n",
    "\n",
    "print(top3Prestamos, top3Personas)\n",
    "\n",
    "#gráfico de barras\n",
    "\n",
    "pt.bar(top3Personas, top3Prestamos)\n",
    "pt.title('Top-3 de préstamos entre \\$1500 y \\$2300, en orden descendente')\n",
    "pt.xlabel('Clientes')\n",
    "pt.ylabel('Préstamos')"
   ]
  }
 ],
 "metadata": {
  "kernelspec": {
   "display_name": "Python 3 (ipykernel)",
   "language": "python",
   "name": "python3"
  },
  "language_info": {
   "codemirror_mode": {
    "name": "ipython",
    "version": 3
   },
   "file_extension": ".py",
   "mimetype": "text/x-python",
   "name": "python",
   "nbconvert_exporter": "python",
   "pygments_lexer": "ipython3",
   "version": "3.9.5"
  }
 },
 "nbformat": 4,
 "nbformat_minor": 5
}
