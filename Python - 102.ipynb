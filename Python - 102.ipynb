{
 "cells": [
  {
   "cell_type": "code",
   "execution_count": null,
   "id": "02175f5a",
   "metadata": {},
   "outputs": [],
   "source": [
    "# Dadas las listas prestamos y personas\n",
    "# Muestre por pantalla el nombre y el valor del prestamo correspondiente\n",
    "\n",
    "prestamos = [2300, 3214, 3450, 1980, 2020, 4530]\n",
    "personas = [ \"Juan\", \"María\", \"Andrés\", \"Carlos\", \"Vanessa\", \"Lucía\"]\n"
   ]
  }
 ],
 "metadata": {
  "kernelspec": {
   "display_name": "Python 3 (ipykernel)",
   "language": "python",
   "name": "python3"
  },
  "language_info": {
   "codemirror_mode": {
    "name": "ipython",
    "version": 3
   },
   "file_extension": ".py",
   "mimetype": "text/x-python",
   "name": "python",
   "nbconvert_exporter": "python",
   "pygments_lexer": "ipython3",
   "version": "3.9.5"
  }
 },
 "nbformat": 4,
 "nbformat_minor": 5
}
