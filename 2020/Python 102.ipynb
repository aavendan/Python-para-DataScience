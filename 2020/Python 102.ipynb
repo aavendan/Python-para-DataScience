{
 "cells": [
  {
   "cell_type": "code",
   "execution_count": 1,
   "metadata": {},
   "outputs": [],
   "source": [
    "prestamos = [2300, 3214, 3450, 1980, 2020, 4530]\n",
    "personas = [ \"Juan\", \"María\", \"Andrés\", \"Carlos\", \"Vanessa\", \"Lucía\"]"
   ]
  },
  {
   "cell_type": "code",
   "execution_count": 2,
   "metadata": {},
   "outputs": [
    {
     "name": "stdout",
     "output_type": "stream",
     "text": [
      "Andrés  hizo un préstamos de $ 3450\n"
     ]
    }
   ],
   "source": [
    "print(personas[2], \" hizo un préstamos de $\", prestamos[2])"
   ]
  },
  {
   "cell_type": "code",
   "execution_count": 3,
   "metadata": {},
   "outputs": [
    {
     "name": "stdout",
     "output_type": "stream",
     "text": [
      "Juan  hizo un préstamos de $ 2300\n",
      "María  hizo un préstamos de $ 3214\n",
      "Andrés  hizo un préstamos de $ 3450\n",
      "Carlos  hizo un préstamos de $ 1980\n",
      "Vanessa  hizo un préstamos de $ 2020\n",
      "Lucía  hizo un préstamos de $ 4530\n"
     ]
    }
   ],
   "source": [
    "for indice in range(len(personas)):\n",
    "    print(personas[indice], \" hizo un préstamos de $\", prestamos[indice])"
   ]
  },
  {
   "cell_type": "markdown",
   "metadata": {},
   "source": [
    "## Ejercicio\n",
    "\n",
    "Muestre solo los nombres y el valor de los prestamos para montos mayores que 3500 o menores iguales que 2100\n",
    "\n",
    "`\n",
    "prestamos = [2300, 3214, 3450, 1980, 2020, 4530]\n",
    "personas = [ \"Juan\", \"María\", \"Andrés\", \"Carlos\", \"Vanessa\", \"Lucía\"]\n",
    "`"
   ]
  },
  {
   "cell_type": "code",
   "execution_count": 4,
   "metadata": {},
   "outputs": [
    {
     "name": "stdout",
     "output_type": "stream",
     "text": [
      "Carlos  hizo un préstamos de $ 1980\n",
      "Vanessa  hizo un préstamos de $ 2020\n",
      "Lucía  hizo un préstamos de $ 4530\n"
     ]
    }
   ],
   "source": [
    "for indice in range(len(prestamos)):\n",
    "    if prestamos[indice] < 2100 or prestamos[indice] > 3500:\n",
    "        print(personas[indice], \" hizo un préstamos de $\", prestamos[indice])"
   ]
  },
  {
   "cell_type": "markdown",
   "metadata": {},
   "source": [
    "## Slicing (Rebanadas)"
   ]
  },
  {
   "cell_type": "code",
   "execution_count": 5,
   "metadata": {},
   "outputs": [
    {
     "name": "stdout",
     "output_type": "stream",
     "text": [
      "Andrés  hizo un préstamos de $ 3450\n"
     ]
    }
   ],
   "source": [
    "print(personas[2], \" hizo un préstamos de $\", prestamos[2])"
   ]
  },
  {
   "cell_type": "code",
   "execution_count": 6,
   "metadata": {},
   "outputs": [
    {
     "name": "stdout",
     "output_type": "stream",
     "text": [
      "['Juan', 'María'] [2300, 3214]\n"
     ]
    }
   ],
   "source": [
    "print(personas[0:2], prestamos[0:2])"
   ]
  },
  {
   "cell_type": "markdown",
   "metadata": {},
   "source": [
    "## Ejercicio\n",
    "\n",
    "Mostrar las siguientes rebanadas\n",
    "\n",
    "* Los primeros 3 elementos\n",
    "* Los últimos 3 elementos \n",
    "* Desde el índice 1 hasta el 3\n",
    "* Desde el índice 3 hasta el 5"
   ]
  },
  {
   "cell_type": "code",
   "execution_count": 7,
   "metadata": {},
   "outputs": [
    {
     "name": "stdout",
     "output_type": "stream",
     "text": [
      "['Juan', 'María', 'Andrés', 'Carlos'] [2300, 3214, 3450, 1980]\n"
     ]
    }
   ],
   "source": [
    "print(personas[0:4], prestamos[0:4])"
   ]
  },
  {
   "cell_type": "code",
   "execution_count": 8,
   "metadata": {},
   "outputs": [
    {
     "name": "stdout",
     "output_type": "stream",
     "text": [
      "['Juan', 'María', 'Andrés', 'Carlos'] [2300, 3214, 3450, 1980]\n"
     ]
    }
   ],
   "source": [
    "print(personas[:4], prestamos[:4])"
   ]
  },
  {
   "cell_type": "code",
   "execution_count": 9,
   "metadata": {},
   "outputs": [
    {
     "name": "stdout",
     "output_type": "stream",
     "text": [
      "['Carlos', 'Vanessa', 'Lucía'] [1980, 2020, 4530]\n"
     ]
    }
   ],
   "source": [
    "# indice de inicio : indice de finalización - 1\n",
    "print(personas[3:6], prestamos[3:6])"
   ]
  },
  {
   "cell_type": "code",
   "execution_count": 10,
   "metadata": {},
   "outputs": [
    {
     "name": "stdout",
     "output_type": "stream",
     "text": [
      "['Carlos', 'Vanessa', 'Lucía'] [1980, 2020, 4530]\n"
     ]
    }
   ],
   "source": [
    "print(personas[3:], prestamos[3:])"
   ]
  },
  {
   "cell_type": "code",
   "execution_count": 12,
   "metadata": {},
   "outputs": [
    {
     "name": "stdout",
     "output_type": "stream",
     "text": [
      "['María', 'Andrés', 'Carlos'] [3214, 3450, 1980]\n"
     ]
    }
   ],
   "source": [
    "print(personas[1:4], prestamos[1:4])"
   ]
  },
  {
   "cell_type": "code",
   "execution_count": 13,
   "metadata": {},
   "outputs": [
    {
     "name": "stdout",
     "output_type": "stream",
     "text": [
      "['Carlos', 'Vanessa', 'Lucía'] [1980, 2020, 4530]\n"
     ]
    }
   ],
   "source": [
    "print(personas[3:6], prestamos[3:6])"
   ]
  },
  {
   "cell_type": "markdown",
   "metadata": {},
   "source": [
    "## Máximo y Mínimo"
   ]
  },
  {
   "cell_type": "code",
   "execution_count": 14,
   "metadata": {},
   "outputs": [
    {
     "name": "stdout",
     "output_type": "stream",
     "text": [
      "El valor máximo del préstamo es $ 4530\n"
     ]
    }
   ],
   "source": [
    "valorMaximo = max(prestamos)\n",
    "print(\"El valor máximo del préstamo es $\", valorMaximo)"
   ]
  },
  {
   "cell_type": "code",
   "execution_count": 15,
   "metadata": {},
   "outputs": [
    {
     "name": "stdout",
     "output_type": "stream",
     "text": [
      "La persona con el valor máximo del préstamo $  4530  es  Lucía\n"
     ]
    }
   ],
   "source": [
    "print(\"La persona con el valor máximo del préstamo $ \", valorMaximo, \" es \", personas[5])"
   ]
  },
  {
   "cell_type": "code",
   "execution_count": 16,
   "metadata": {},
   "outputs": [
    {
     "name": "stdout",
     "output_type": "stream",
     "text": [
      "El índice con el valor máximo es  5\n"
     ]
    }
   ],
   "source": [
    "indiceMaximo = prestamos.index(valorMaximo)\n",
    "print(\"El índice con el valor máximo es \", indiceMaximo)"
   ]
  },
  {
   "cell_type": "code",
   "execution_count": 18,
   "metadata": {},
   "outputs": [
    {
     "name": "stdout",
     "output_type": "stream",
     "text": [
      "La persona con el valor máximo del préstamo $  4530  es  Lucía\n"
     ]
    }
   ],
   "source": [
    "print(\"La persona con el valor máximo del préstamo $ \", valorMaximo, \" es \", personas[indiceMaximo])"
   ]
  },
  {
   "cell_type": "markdown",
   "metadata": {},
   "source": [
    "## Ejercicio\n",
    "\n",
    "Mostrar el valor mínimo y el nombre de la persona con el préstamo de valor mínimo"
   ]
  },
  {
   "cell_type": "code",
   "execution_count": 19,
   "metadata": {},
   "outputs": [
    {
     "name": "stdout",
     "output_type": "stream",
     "text": [
      "Carlos  tiene el mínimo de préstamo con $  1980\n"
     ]
    }
   ],
   "source": [
    "valorMinimo = min(prestamos)\n",
    "indiceMinimo = prestamos.index(valorMinimo)\n",
    "print(personas[indiceMinimo], \" tiene el mínimo de préstamo con $ \", valorMinimo)"
   ]
  },
  {
   "cell_type": "code",
   "execution_count": 20,
   "metadata": {},
   "outputs": [
    {
     "name": "stdout",
     "output_type": "stream",
     "text": [
      "Valor mínimo  1  en el índice  0\n",
      "Indice de valor menor:  0\n",
      "Indice de valor menor:  3\n"
     ]
    }
   ],
   "source": [
    "valores = [1,10, 32, 1]\n",
    "\n",
    "valorM = min(valores)\n",
    "indiceM = valores.index(valorM)\n",
    "print(\"Valor mínimo \", valorM, \" en el índice \", indiceM)\n",
    "\n",
    "for indice in range(len(valores)):\n",
    "    if valores[indice] == valorM:\n",
    "        print(\"Indice de valor menor: \",indice)"
   ]
  },
  {
   "cell_type": "code",
   "execution_count": 21,
   "metadata": {},
   "outputs": [
    {
     "name": "stdout",
     "output_type": "stream",
     "text": [
      "[]\n"
     ]
    }
   ],
   "source": [
    "pagos = []\n",
    "print(pagos)"
   ]
  },
  {
   "cell_type": "code",
   "execution_count": 21,
   "metadata": {},
   "outputs": [],
   "source": [
    "#pagos.append(100)\n",
    "#print(pagos)"
   ]
  },
  {
   "cell_type": "markdown",
   "metadata": {},
   "source": [
    "## Ejercicio\n",
    "\n",
    "Mediante un for, agregue el resto de pagos mediante el ingreso de valores a la lista `pagos`. De acuerdo a la cantidad de elementos en la lista `personas`"
   ]
  },
  {
   "cell_type": "code",
   "execution_count": 22,
   "metadata": {},
   "outputs": [
    {
     "ename": "KeyboardInterrupt",
     "evalue": "Interrupted by user",
     "output_type": "error",
     "traceback": [
      "\u001b[1;31m---------------------------------------------------------------------------\u001b[0m",
      "\u001b[1;31mKeyboardInterrupt\u001b[0m                         Traceback (most recent call last)",
      "\u001b[1;32m<ipython-input-22-b1c5e99d671a>\u001b[0m in \u001b[0;36m<module>\u001b[1;34m\u001b[0m\n\u001b[0;32m      1\u001b[0m \u001b[1;32mfor\u001b[0m \u001b[0mindice\u001b[0m \u001b[1;32min\u001b[0m \u001b[0mrange\u001b[0m\u001b[1;33m(\u001b[0m\u001b[0mlen\u001b[0m\u001b[1;33m(\u001b[0m\u001b[0mpersonas\u001b[0m\u001b[1;33m)\u001b[0m\u001b[1;33m)\u001b[0m\u001b[1;33m:\u001b[0m\u001b[1;33m\u001b[0m\u001b[1;33m\u001b[0m\u001b[0m\n\u001b[1;32m----> 2\u001b[1;33m     \u001b[0mpago\u001b[0m \u001b[1;33m=\u001b[0m \u001b[0mfloat\u001b[0m\u001b[1;33m(\u001b[0m\u001b[0minput\u001b[0m\u001b[1;33m(\u001b[0m\u001b[1;34m\"Ingrese el pago: \"\u001b[0m\u001b[1;33m)\u001b[0m\u001b[1;33m)\u001b[0m\u001b[1;33m\u001b[0m\u001b[1;33m\u001b[0m\u001b[0m\n\u001b[0m\u001b[0;32m      3\u001b[0m     \u001b[0mpagos\u001b[0m\u001b[1;33m.\u001b[0m\u001b[0mappend\u001b[0m\u001b[1;33m(\u001b[0m\u001b[0mpago\u001b[0m\u001b[1;33m)\u001b[0m\u001b[1;33m\u001b[0m\u001b[1;33m\u001b[0m\u001b[0m\n",
      "\u001b[1;32m~\\miniconda3\\lib\\site-packages\\ipykernel\\kernelbase.py\u001b[0m in \u001b[0;36mraw_input\u001b[1;34m(self, prompt)\u001b[0m\n\u001b[0;32m    858\u001b[0m                 \u001b[1;34m\"raw_input was called, but this frontend does not support input requests.\"\u001b[0m\u001b[1;33m\u001b[0m\u001b[1;33m\u001b[0m\u001b[0m\n\u001b[0;32m    859\u001b[0m             )\n\u001b[1;32m--> 860\u001b[1;33m         return self._input_request(str(prompt),\n\u001b[0m\u001b[0;32m    861\u001b[0m             \u001b[0mself\u001b[0m\u001b[1;33m.\u001b[0m\u001b[0m_parent_ident\u001b[0m\u001b[1;33m,\u001b[0m\u001b[1;33m\u001b[0m\u001b[1;33m\u001b[0m\u001b[0m\n\u001b[0;32m    862\u001b[0m             \u001b[0mself\u001b[0m\u001b[1;33m.\u001b[0m\u001b[0m_parent_header\u001b[0m\u001b[1;33m,\u001b[0m\u001b[1;33m\u001b[0m\u001b[1;33m\u001b[0m\u001b[0m\n",
      "\u001b[1;32m~\\miniconda3\\lib\\site-packages\\ipykernel\\kernelbase.py\u001b[0m in \u001b[0;36m_input_request\u001b[1;34m(self, prompt, ident, parent, password)\u001b[0m\n\u001b[0;32m    902\u001b[0m             \u001b[1;32mexcept\u001b[0m \u001b[0mKeyboardInterrupt\u001b[0m\u001b[1;33m:\u001b[0m\u001b[1;33m\u001b[0m\u001b[1;33m\u001b[0m\u001b[0m\n\u001b[0;32m    903\u001b[0m                 \u001b[1;31m# re-raise KeyboardInterrupt, to truncate traceback\u001b[0m\u001b[1;33m\u001b[0m\u001b[1;33m\u001b[0m\u001b[1;33m\u001b[0m\u001b[0m\n\u001b[1;32m--> 904\u001b[1;33m                 \u001b[1;32mraise\u001b[0m \u001b[0mKeyboardInterrupt\u001b[0m\u001b[1;33m(\u001b[0m\u001b[1;34m\"Interrupted by user\"\u001b[0m\u001b[1;33m)\u001b[0m \u001b[1;32mfrom\u001b[0m \u001b[1;32mNone\u001b[0m\u001b[1;33m\u001b[0m\u001b[1;33m\u001b[0m\u001b[0m\n\u001b[0m\u001b[0;32m    905\u001b[0m             \u001b[1;32mexcept\u001b[0m \u001b[0mException\u001b[0m \u001b[1;32mas\u001b[0m \u001b[0me\u001b[0m\u001b[1;33m:\u001b[0m\u001b[1;33m\u001b[0m\u001b[1;33m\u001b[0m\u001b[0m\n\u001b[0;32m    906\u001b[0m                 \u001b[0mself\u001b[0m\u001b[1;33m.\u001b[0m\u001b[0mlog\u001b[0m\u001b[1;33m.\u001b[0m\u001b[0mwarning\u001b[0m\u001b[1;33m(\u001b[0m\u001b[1;34m\"Invalid Message:\"\u001b[0m\u001b[1;33m,\u001b[0m \u001b[0mexc_info\u001b[0m\u001b[1;33m=\u001b[0m\u001b[1;32mTrue\u001b[0m\u001b[1;33m)\u001b[0m\u001b[1;33m\u001b[0m\u001b[1;33m\u001b[0m\u001b[0m\n",
      "\u001b[1;31mKeyboardInterrupt\u001b[0m: Interrupted by user"
     ]
    }
   ],
   "source": [
    "for indice in range(len(personas)):\n",
    "    pago = float(input(\"Ingrese el pago: \"))\n",
    "    pagos.append(pago)"
   ]
  },
  {
   "cell_type": "code",
   "execution_count": null,
   "metadata": {},
   "outputs": [],
   "source": [
    "print(pagos)"
   ]
  },
  {
   "cell_type": "code",
   "execution_count": null,
   "metadata": {},
   "outputs": [],
   "source": [
    "argumentos = input(\"Ingrese los argumentos: \")"
   ]
  },
  {
   "cell_type": "code",
   "execution_count": null,
   "metadata": {},
   "outputs": [],
   "source": [
    "print(argumentos)"
   ]
  },
  {
   "cell_type": "code",
   "execution_count": null,
   "metadata": {},
   "outputs": [],
   "source": [
    "resultado = argumentos.split(' ')\n",
    "print(resultado)"
   ]
  },
  {
   "cell_type": "markdown",
   "metadata": {},
   "source": [
    "## Ejercicio\n",
    "\n",
    "Contamos con dos listas paralelas y relacionadas con las listas anteriores\n",
    "\n",
    "`\n",
    "moraJunio = [20, 0, 10, 12, 10, 15]\n",
    "moraJulio = [0 , 0,  0, 10, 15, 10]\n",
    "`\n",
    "\n",
    "<br>\n",
    "Muestre el total de mora por cada persona"
   ]
  },
  {
   "cell_type": "code",
   "execution_count": 22,
   "metadata": {},
   "outputs": [
    {
     "name": "stdout",
     "output_type": "stream",
     "text": [
      "Juan  tiene un valor de préstamo de  2300  con una mora de  20\n",
      "María  tiene un valor de préstamo de  3214  con una mora de  0\n",
      "Andrés  tiene un valor de préstamo de  3450  con una mora de  10\n",
      "Carlos  tiene un valor de préstamo de  1980  con una mora de  22\n",
      "Vanessa  tiene un valor de préstamo de  2020  con una mora de  25\n",
      "Lucía  tiene un valor de préstamo de  4530  con una mora de  25\n"
     ]
    }
   ],
   "source": [
    "moraJunio = [20, 0, 10, 12, 10, 15]\n",
    "moraJulio = [0 , 0,  0, 10, 15, 10]\n",
    "\n",
    "\n",
    "moraTotal = []\n",
    "for indice in range(len(moraJunio)):\n",
    "    moraTotal.append(moraJunio[indice] + moraJulio[indice])\n",
    "    \n",
    "for indice in range(len(prestamos)):\n",
    "    print(personas[indice], \" tiene un valor de préstamo de \" ,prestamos[indice], \" con una mora de \", moraTotal[indice] )"
   ]
  },
  {
   "cell_type": "code",
   "execution_count": 23,
   "metadata": {},
   "outputs": [
    {
     "name": "stdout",
     "output_type": "stream",
     "text": [
      "Juan tiene un prestamo de 2300 y debe un total de 20\n",
      "María tiene un prestamo de 3214 y debe un total de 0\n",
      "Andrés tiene un prestamo de 3450 y debe un total de 10\n",
      "Carlos tiene un prestamo de 1980 y debe un total de 22\n",
      "Vanessa tiene un prestamo de 2020 y debe un total de 25\n",
      "Lucía tiene un prestamo de 4530 y debe un total de 25\n"
     ]
    }
   ],
   "source": [
    "moraJunio = [20,0,10,12,10,15]\n",
    "moraJulio = [0,0,0,10,15,10]\n",
    "\n",
    "for persona,prestamo,mora_junio,mora_julio in zip(personas,prestamos,moraJunio,moraJulio):\n",
    "    print(f\"{persona} tiene un prestamo de {prestamo} y debe un total de {mora_junio+mora_julio}\")\n"
   ]
  },
  {
   "cell_type": "markdown",
   "metadata": {},
   "source": [
    "## Arreglos (Numpy)"
   ]
  },
  {
   "cell_type": "code",
   "execution_count": 24,
   "metadata": {},
   "outputs": [],
   "source": [
    "import numpy as np"
   ]
  },
  {
   "cell_type": "code",
   "execution_count": 32,
   "metadata": {},
   "outputs": [],
   "source": [
    "aPrestamos = np.array([2300, 3214, 3450, 1980, 2020, 4530])\n",
    "aPersonas = np.array(personas)"
   ]
  },
  {
   "cell_type": "code",
   "execution_count": 33,
   "metadata": {},
   "outputs": [
    {
     "name": "stdout",
     "output_type": "stream",
     "text": [
      "[2300 3214 3450 1980 2020 4530]\n"
     ]
    }
   ],
   "source": [
    "print(aPrestamos)"
   ]
  },
  {
   "cell_type": "code",
   "execution_count": 34,
   "metadata": {},
   "outputs": [
    {
     "name": "stdout",
     "output_type": "stream",
     "text": [
      "['Juan' 'María' 'Andrés' 'Carlos' 'Vanessa' 'Lucía']\n"
     ]
    }
   ],
   "source": [
    "print(aPersonas)"
   ]
  },
  {
   "cell_type": "code",
   "execution_count": 35,
   "metadata": {},
   "outputs": [
    {
     "name": "stdout",
     "output_type": "stream",
     "text": [
      "Juan\n"
     ]
    }
   ],
   "source": [
    "print(aPersonas[0])"
   ]
  },
  {
   "cell_type": "markdown",
   "metadata": {},
   "source": [
    "## Ejercicio \n",
    "\n",
    "Mostrar los nombres y los montos de préstamos de los arreglos"
   ]
  },
  {
   "cell_type": "code",
   "execution_count": 36,
   "metadata": {},
   "outputs": [
    {
     "name": "stdout",
     "output_type": "stream",
     "text": [
      "Juan 2300\n",
      "María 3214\n",
      "Andrés 3450\n",
      "Carlos 1980\n",
      "Vanessa 2020\n",
      "Lucía 4530\n"
     ]
    }
   ],
   "source": [
    "for indice in range(aPersonas.size):\n",
    "    print(aPersonas[indice], aPrestamos[indice])"
   ]
  },
  {
   "cell_type": "code",
   "execution_count": 37,
   "metadata": {},
   "outputs": [
    {
     "name": "stdout",
     "output_type": "stream",
     "text": [
      "['Juan' 'María' 'Andrés' 'Carlos']\n"
     ]
    }
   ],
   "source": [
    "print(aPersonas[0:4])"
   ]
  },
  {
   "cell_type": "code",
   "execution_count": 39,
   "metadata": {},
   "outputs": [
    {
     "name": "stdout",
     "output_type": "stream",
     "text": [
      "['Andrés' 'Carlos' 'Vanessa' 'Lucía']\n"
     ]
    }
   ],
   "source": [
    "print(aPersonas[2:])"
   ]
  },
  {
   "cell_type": "markdown",
   "metadata": {},
   "source": [
    "## Máximos y mínimos en Arreglos"
   ]
  },
  {
   "cell_type": "code",
   "execution_count": 41,
   "metadata": {},
   "outputs": [
    {
     "name": "stdout",
     "output_type": "stream",
     "text": [
      "1980\n",
      "3\n"
     ]
    }
   ],
   "source": [
    "minimo = aPrestamos.min()\n",
    "print(minimo)\n",
    "\n",
    "indiceMinimo = np.argmin(aPrestamos)\n",
    "print(indiceMinimo)"
   ]
  },
  {
   "cell_type": "markdown",
   "metadata": {},
   "source": [
    "## Ejercicio\n",
    "\n",
    "Mostrar el valor máximo y el índice del valor máximo del arreglo aPrestamos. Intente con el arreglo aPersonas."
   ]
  },
  {
   "cell_type": "code",
   "execution_count": 42,
   "metadata": {},
   "outputs": [
    {
     "name": "stdout",
     "output_type": "stream",
     "text": [
      "El máximo es  4530\n",
      "El índice del máximo es  5\n"
     ]
    }
   ],
   "source": [
    "maximo = np.max(aPrestamos)\n",
    "print(\"El máximo es \", maximo)\n",
    "\n",
    "\n",
    "indiceMaximo = aPrestamos.argmax()\n",
    "print(\"El índice del máximo es \", indiceMaximo)"
   ]
  },
  {
   "cell_type": "code",
   "execution_count": 43,
   "metadata": {},
   "outputs": [
    {
     "ename": "TypeError",
     "evalue": "cannot perform reduce with flexible type",
     "output_type": "error",
     "traceback": [
      "\u001b[1;31m---------------------------------------------------------------------------\u001b[0m",
      "\u001b[1;31mTypeError\u001b[0m                                 Traceback (most recent call last)",
      "\u001b[1;32m<ipython-input-43-b13e15ea1b03>\u001b[0m in \u001b[0;36m<module>\u001b[1;34m\u001b[0m\n\u001b[0;32m      2\u001b[0m \u001b[1;31m#print(\"El máximo es \", maximo)\u001b[0m\u001b[1;33m\u001b[0m\u001b[1;33m\u001b[0m\u001b[1;33m\u001b[0m\u001b[0m\n\u001b[0;32m      3\u001b[0m \u001b[1;33m\u001b[0m\u001b[0m\n\u001b[1;32m----> 4\u001b[1;33m \u001b[0mmaximo\u001b[0m \u001b[1;33m=\u001b[0m \u001b[0mnp\u001b[0m\u001b[1;33m.\u001b[0m\u001b[0mmax\u001b[0m\u001b[1;33m(\u001b[0m\u001b[0maPersonas\u001b[0m\u001b[1;33m)\u001b[0m\u001b[1;33m\u001b[0m\u001b[1;33m\u001b[0m\u001b[0m\n\u001b[0m\u001b[0;32m      5\u001b[0m \u001b[0mprint\u001b[0m\u001b[1;33m(\u001b[0m\u001b[1;34m\"El máximo es \"\u001b[0m\u001b[1;33m,\u001b[0m \u001b[0mmaximo\u001b[0m\u001b[1;33m)\u001b[0m\u001b[1;33m\u001b[0m\u001b[1;33m\u001b[0m\u001b[0m\n",
      "\u001b[1;32m<__array_function__ internals>\u001b[0m in \u001b[0;36mamax\u001b[1;34m(*args, **kwargs)\u001b[0m\n",
      "\u001b[1;32m~\\miniconda3\\lib\\site-packages\\numpy\\core\\fromnumeric.py\u001b[0m in \u001b[0;36mamax\u001b[1;34m(a, axis, out, keepdims, initial, where)\u001b[0m\n\u001b[0;32m   2703\u001b[0m     \u001b[1;36m5\u001b[0m\u001b[1;33m\u001b[0m\u001b[1;33m\u001b[0m\u001b[0m\n\u001b[0;32m   2704\u001b[0m     \"\"\"\n\u001b[1;32m-> 2705\u001b[1;33m     return _wrapreduction(a, np.maximum, 'max', axis, None, out,\n\u001b[0m\u001b[0;32m   2706\u001b[0m                           keepdims=keepdims, initial=initial, where=where)\n\u001b[0;32m   2707\u001b[0m \u001b[1;33m\u001b[0m\u001b[0m\n",
      "\u001b[1;32m~\\miniconda3\\lib\\site-packages\\numpy\\core\\fromnumeric.py\u001b[0m in \u001b[0;36m_wrapreduction\u001b[1;34m(obj, ufunc, method, axis, dtype, out, **kwargs)\u001b[0m\n\u001b[0;32m     85\u001b[0m                 \u001b[1;32mreturn\u001b[0m \u001b[0mreduction\u001b[0m\u001b[1;33m(\u001b[0m\u001b[0maxis\u001b[0m\u001b[1;33m=\u001b[0m\u001b[0maxis\u001b[0m\u001b[1;33m,\u001b[0m \u001b[0mout\u001b[0m\u001b[1;33m=\u001b[0m\u001b[0mout\u001b[0m\u001b[1;33m,\u001b[0m \u001b[1;33m**\u001b[0m\u001b[0mpasskwargs\u001b[0m\u001b[1;33m)\u001b[0m\u001b[1;33m\u001b[0m\u001b[1;33m\u001b[0m\u001b[0m\n\u001b[0;32m     86\u001b[0m \u001b[1;33m\u001b[0m\u001b[0m\n\u001b[1;32m---> 87\u001b[1;33m     \u001b[1;32mreturn\u001b[0m \u001b[0mufunc\u001b[0m\u001b[1;33m.\u001b[0m\u001b[0mreduce\u001b[0m\u001b[1;33m(\u001b[0m\u001b[0mobj\u001b[0m\u001b[1;33m,\u001b[0m \u001b[0maxis\u001b[0m\u001b[1;33m,\u001b[0m \u001b[0mdtype\u001b[0m\u001b[1;33m,\u001b[0m \u001b[0mout\u001b[0m\u001b[1;33m,\u001b[0m \u001b[1;33m**\u001b[0m\u001b[0mpasskwargs\u001b[0m\u001b[1;33m)\u001b[0m\u001b[1;33m\u001b[0m\u001b[1;33m\u001b[0m\u001b[0m\n\u001b[0m\u001b[0;32m     88\u001b[0m \u001b[1;33m\u001b[0m\u001b[0m\n\u001b[0;32m     89\u001b[0m \u001b[1;33m\u001b[0m\u001b[0m\n",
      "\u001b[1;31mTypeError\u001b[0m: cannot perform reduce with flexible type"
     ]
    }
   ],
   "source": [
    "#maximo = max(aPersonas)\n",
    "#print(\"El máximo es \", maximo)\n",
    "\n",
    "maximo = np.max(aPersonas)\n",
    "print(\"El máximo es \", maximo)\n"
   ]
  },
  {
   "cell_type": "markdown",
   "metadata": {},
   "source": [
    "## Ordenamiento"
   ]
  },
  {
   "cell_type": "code",
   "execution_count": 60,
   "metadata": {},
   "outputs": [
    {
     "name": "stdout",
     "output_type": "stream",
     "text": [
      "Original  [2300 3214 3450 1980 2020 4530]\n",
      "Ordenado  [1980 2020 2300 3214 3450 4530]\n"
     ]
    }
   ],
   "source": [
    "aPrestamosOrd = np.sort(aPrestamos)\n",
    "\n",
    "\n",
    "print(\"Original \", aPrestamos)\n",
    "print(\"Ordenado \", aPrestamosOrd)"
   ]
  },
  {
   "cell_type": "code",
   "execution_count": 58,
   "metadata": {},
   "outputs": [
    {
     "name": "stdout",
     "output_type": "stream",
     "text": [
      "Original  [1980 2020 2300 3214 3450 4530]\n",
      "Original  [1980 2020 2300 3214 3450 4530]\n"
     ]
    }
   ],
   "source": [
    "#print(\"Original \", aPrestamos)\n",
    "\n",
    "#Al llamarse así se modifica el arreglo original\n",
    "#aPrestamos.sort()\n",
    "\n",
    "#print(\"Original \", aPrestamos)"
   ]
  },
  {
   "cell_type": "code",
   "execution_count": 44,
   "metadata": {},
   "outputs": [
    {
     "name": "stdout",
     "output_type": "stream",
     "text": [
      "[3 4 0 1 2 5]\n"
     ]
    }
   ],
   "source": [
    "indicesOrdenados = np.argsort(aPrestamos)\n",
    "print(indicesOrdenados)"
   ]
  },
  {
   "cell_type": "markdown",
   "metadata": {},
   "source": [
    "## Indices enteros"
   ]
  },
  {
   "cell_type": "code",
   "execution_count": 45,
   "metadata": {},
   "outputs": [
    {
     "name": "stdout",
     "output_type": "stream",
     "text": [
      "Personas original  ['Juan' 'María' 'Andrés' 'Carlos' 'Vanessa' 'Lucía']\n",
      "Personas ordenadas  ['Carlos' 'Vanessa' 'Juan' 'María' 'Andrés' 'Lucía']\n"
     ]
    }
   ],
   "source": [
    "aPersonasOrdenados = aPersonas[indicesOrdenados]\n",
    "print( \"Personas original \",  aPersonas )\n",
    "print( \"Personas ordenadas \", aPersonasOrdenados )"
   ]
  },
  {
   "cell_type": "markdown",
   "metadata": {},
   "source": [
    "## Ejercicio\n",
    "\n",
    "Mostrar los nombres y los montos de los arreglos ordenados de mayor a menor."
   ]
  },
  {
   "cell_type": "code",
   "execution_count": 46,
   "metadata": {},
   "outputs": [
    {
     "name": "stdout",
     "output_type": "stream",
     "text": [
      "[3 4 0 1 2 5]\n"
     ]
    }
   ],
   "source": [
    "print(indicesOrdenados)"
   ]
  },
  {
   "cell_type": "code",
   "execution_count": 47,
   "metadata": {},
   "outputs": [
    {
     "name": "stdout",
     "output_type": "stream",
     "text": [
      "[5 2 1 0 4 3]\n",
      "['Lucía' 'Andrés' 'María' 'Juan' 'Vanessa' 'Carlos']\n"
     ]
    }
   ],
   "source": [
    "indicesOrdenadosReverso = np.flip(indicesOrdenados)\n",
    "print(indicesOrdenadosReverso)\n",
    "print(aPersonas[indicesOrdenadosReverso])"
   ]
  },
  {
   "cell_type": "code",
   "execution_count": 48,
   "metadata": {},
   "outputs": [
    {
     "name": "stdout",
     "output_type": "stream",
     "text": [
      "[5 2 1 0 4 3]\n"
     ]
    }
   ],
   "source": [
    "indicesOrdenadosReverso = indicesOrdenados[::-1]\n",
    "print(indicesOrdenadosReverso)"
   ]
  },
  {
   "cell_type": "markdown",
   "metadata": {},
   "source": [
    "## Broadcasting (Difusión)"
   ]
  },
  {
   "cell_type": "code",
   "execution_count": 75,
   "metadata": {},
   "outputs": [
    {
     "name": "stdout",
     "output_type": "stream",
     "text": [
      "[2300 3214 3450 1980 2020 4530]\n",
      "[-2300 -3214 -3450 -1980 -2020 -4530]\n",
      "[5 2 1 0 4 3]\n"
     ]
    }
   ],
   "source": [
    "print(aPrestamos)\n",
    "aPrestamosNegativo = aPrestamos * -1\n",
    "print(aPrestamosNegativo)\n",
    "\n",
    "indicesOrdenadosNegativo = np.argsort(aPrestamosNegativo)\n",
    "print(indicesOrdenadosNegativo)"
   ]
  },
  {
   "cell_type": "markdown",
   "metadata": {},
   "source": [
    "## Ejercicio\n",
    "\n",
    "Aplique el impuesto de mora del 2% a los prestamos y muestre los valores de impuesto de mora"
   ]
  },
  {
   "cell_type": "code",
   "execution_count": 49,
   "metadata": {},
   "outputs": [
    {
     "name": "stdout",
     "output_type": "stream",
     "text": [
      "[46.   64.28 69.   39.6  40.4  90.6 ]\n"
     ]
    }
   ],
   "source": [
    "mora = aPrestamos * 2 / 100\n",
    "print(mora)"
   ]
  },
  {
   "cell_type": "markdown",
   "metadata": {},
   "source": [
    "## Indices Booleanos"
   ]
  },
  {
   "cell_type": "code",
   "execution_count": 50,
   "metadata": {},
   "outputs": [
    {
     "name": "stdout",
     "output_type": "stream",
     "text": [
      "[2300 3214 3450 1980 2020 4530]\n"
     ]
    }
   ],
   "source": [
    "print(aPrestamos)"
   ]
  },
  {
   "cell_type": "code",
   "execution_count": 79,
   "metadata": {},
   "outputs": [
    {
     "name": "stdout",
     "output_type": "stream",
     "text": [
      "[False  True  True False False  True]\n"
     ]
    }
   ],
   "source": [
    "# Elementos mayores que 3000\n",
    "\n",
    "condicion = aPrestamos > 3000\n",
    "print(condicion)"
   ]
  },
  {
   "cell_type": "code",
   "execution_count": 85,
   "metadata": {},
   "outputs": [
    {
     "name": "stdout",
     "output_type": "stream",
     "text": [
      "['Juan' 'María' 'Andrés' 'Carlos' 'Vanessa' 'Lucía']\n",
      "['María' 'Andrés' 'Lucía']\n"
     ]
    }
   ],
   "source": [
    "print(aPersonas)\n",
    "\n",
    "# Filtrar solo los que cumplen con la condición (True)\n",
    "# Mostrar los nombres de las personas con un préstamos mayor que 3000\n",
    "\n",
    "print(aPersonas[condicion])"
   ]
  },
  {
   "cell_type": "markdown",
   "metadata": {},
   "source": [
    "## Ejercicio\n",
    "\n",
    "Mostrar el top3 de montos de préstamos mayores que 2100"
   ]
  },
  {
   "cell_type": "code",
   "execution_count": 51,
   "metadata": {},
   "outputs": [
    {
     "name": "stdout",
     "output_type": "stream",
     "text": [
      "[ True  True  True False False  True]\n"
     ]
    }
   ],
   "source": [
    "condicion = aPrestamos > 2100\n",
    "print(condicion)"
   ]
  },
  {
   "cell_type": "code",
   "execution_count": 52,
   "metadata": {},
   "outputs": [
    {
     "name": "stdout",
     "output_type": "stream",
     "text": [
      "[2300 3214 3450 4530]\n"
     ]
    }
   ],
   "source": [
    "filtrado = aPrestamos[condicion]\n",
    "print(filtrado)"
   ]
  },
  {
   "cell_type": "code",
   "execution_count": 53,
   "metadata": {},
   "outputs": [
    {
     "name": "stdout",
     "output_type": "stream",
     "text": [
      "[2300 3214 3450 4530]\n"
     ]
    }
   ],
   "source": [
    "ordenado = np.sort(filtrado)\n",
    "print(ordenado)"
   ]
  },
  {
   "cell_type": "code",
   "execution_count": 54,
   "metadata": {},
   "outputs": [
    {
     "name": "stdout",
     "output_type": "stream",
     "text": [
      "[4530 3450 3214 2300]\n"
     ]
    }
   ],
   "source": [
    "invertido = np.flip(ordenado)\n",
    "print(invertido)"
   ]
  },
  {
   "cell_type": "code",
   "execution_count": 55,
   "metadata": {},
   "outputs": [
    {
     "name": "stdout",
     "output_type": "stream",
     "text": [
      "[4530 3450 3214]\n"
     ]
    }
   ],
   "source": [
    "top3 = invertido[:3]\n",
    "print(top3)"
   ]
  },
  {
   "cell_type": "markdown",
   "metadata": {},
   "source": [
    "## Broadcasting (arreglos)"
   ]
  },
  {
   "cell_type": "code",
   "execution_count": 56,
   "metadata": {},
   "outputs": [],
   "source": [
    "aPagoEnero = np.array([1200, 3200, 392, 230, 340, 1200])\n",
    "aPagoFebrero = np.array([1100, 0, 1292, 1500, 1040, 1500])"
   ]
  },
  {
   "cell_type": "code",
   "execution_count": 58,
   "metadata": {},
   "outputs": [
    {
     "name": "stdout",
     "output_type": "stream",
     "text": [
      "Total  [2300 3200 1684 1730 1380 2700]\n"
     ]
    }
   ],
   "source": [
    "# Suma cada elemento de los arreglos y retorna un nuevo arreglo\n",
    "\n",
    "aPagoTotal  = aPagoEnero + aPagoFebrero\n",
    "print(\"Total \", aPagoTotal)"
   ]
  },
  {
   "cell_type": "markdown",
   "metadata": {},
   "source": [
    "## Ejercicio\n",
    "\n",
    "\n",
    "Mostrar los nombres de las personas que tengan menos de $500 pendientes por pagar"
   ]
  },
  {
   "cell_type": "code",
   "execution_count": 59,
   "metadata": {},
   "outputs": [
    {
     "name": "stdout",
     "output_type": "stream",
     "text": [
      "[2300 3214 3450 1980 2020 4530]\n",
      "['Juan' 'María' 'Andrés' 'Carlos' 'Vanessa' 'Lucía']\n"
     ]
    }
   ],
   "source": [
    "print(aPrestamos)\n",
    "print(aPersonas)"
   ]
  },
  {
   "cell_type": "code",
   "execution_count": 60,
   "metadata": {},
   "outputs": [
    {
     "name": "stdout",
     "output_type": "stream",
     "text": [
      "[2300 3200 1684 1730 1380 2700]\n"
     ]
    }
   ],
   "source": [
    "print(aPagoTotal)"
   ]
  },
  {
   "cell_type": "code",
   "execution_count": 62,
   "metadata": {},
   "outputs": [
    {
     "name": "stdout",
     "output_type": "stream",
     "text": [
      "[   0   14 1766  250  640 1830]\n"
     ]
    }
   ],
   "source": [
    "aPendiente = aPrestamos - aPagoTotal\n",
    "print(aPendiente)"
   ]
  },
  {
   "cell_type": "code",
   "execution_count": 63,
   "metadata": {},
   "outputs": [
    {
     "name": "stdout",
     "output_type": "stream",
     "text": [
      "[ True  True False  True False False]\n"
     ]
    }
   ],
   "source": [
    "condicion = aPendiente < 500\n",
    "print(condicion)"
   ]
  },
  {
   "cell_type": "code",
   "execution_count": 65,
   "metadata": {},
   "outputs": [
    {
     "name": "stdout",
     "output_type": "stream",
     "text": [
      "['Juan' 'María' 'Carlos'] [  0  14 250]\n"
     ]
    }
   ],
   "source": [
    "print(aPersonas[condicion], aPendiente[condicion])"
   ]
  },
  {
   "cell_type": "code",
   "execution_count": 118,
   "metadata": {},
   "outputs": [],
   "source": [
    "#aPendienteOrdenados = np.flip(np.sort(aPendiente[condicion]))\n",
    "#print(aPendienteOrdenados)"
   ]
  },
  {
   "cell_type": "markdown",
   "metadata": {},
   "source": [
    "## Gráficos"
   ]
  },
  {
   "cell_type": "code",
   "execution_count": 66,
   "metadata": {},
   "outputs": [
    {
     "name": "stdout",
     "output_type": "stream",
     "text": [
      "['Juan' 'María' 'Andrés' 'Carlos' 'Vanessa' 'Lucía']\n",
      "[2300 3214 3450 1980 2020 4530]\n"
     ]
    }
   ],
   "source": [
    "print(aPersonas)\n",
    "print(aPrestamos)"
   ]
  },
  {
   "cell_type": "code",
   "execution_count": 68,
   "metadata": {},
   "outputs": [],
   "source": [
    "import matplotlib.pyplot as plt"
   ]
  },
  {
   "cell_type": "code",
   "execution_count": 72,
   "metadata": {},
   "outputs": [
    {
     "data": {
      "text/plain": [
       "Text(0.5, 1.0, 'Monto de pago por cliente')"
      ]
     },
     "execution_count": 72,
     "metadata": {},
     "output_type": "execute_result"
    },
    {
     "data": {
      "image/png": "[encoded data removed]",
      "text/plain": [
       "<Figure size 432x288 with 1 Axes>"
      ]
     },
     "metadata": {
      "needs_background": "light"
     },
     "output_type": "display_data"
    }
   ],
   "source": [
    "plt.bar(aPersonas, aPrestamos)\n",
    "plt.ylabel('Pago total dólares')\n",
    "plt.xlabel('Personas')\n",
    "plt.title('Monto de pago por cliente',fontsize=16)"
   ]
  }
 ],
 "metadata": {
  "kernelspec": {
   "display_name": "Python 3",
   "language": "python",
   "name": "python3"
  },
  "language_info": {
   "codemirror_mode": {
    "name": "ipython",
    "version": 3
   },
   "file_extension": ".py",
   "mimetype": "text/x-python",
   "name": "python",
   "nbconvert_exporter": "python",
   "pygments_lexer": "ipython3",
   "version": "3.8.3"
  }
 },
 "nbformat": 4,
 "nbformat_minor": 4
}
