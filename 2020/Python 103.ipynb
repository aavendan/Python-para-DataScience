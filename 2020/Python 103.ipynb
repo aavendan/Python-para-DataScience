{
 "cells": [
  {
   "cell_type": "markdown",
   "metadata": {},
   "source": [
    "# Procesamiento de datasets con Numpy"
   ]
  },
  {
   "cell_type": "markdown",
   "metadata": {},
   "source": [
    "## Ecommerce Wish \n",
    "\n",
    "Para la siguiente práctica, se tomó parte del dataset de las <a href='https://www.kaggle.com/jmmvutu/summer-products-and-sales-in-ecommerce-wish'>ventas de productos de verano de E-commerce Wish</a> que aparece en <a href='https://www.kaggle.com/'>Kaggle</a>."
   ]
  },
  {
   "cell_type": "code",
   "execution_count": 110,
   "metadata": {},
   "outputs": [],
   "source": [
    "import numpy as np\n",
    "import matplotlib.pyplot as plt"
   ]
  },
  {
   "cell_type": "code",
   "execution_count": 6,
   "metadata": {},
   "outputs": [
    {
     "data": {
      "text/plain": [
       "(62,)"
      ]
     },
     "execution_count": 6,
     "metadata": {},
     "output_type": "execute_result"
    }
   ],
   "source": [
    "nombres = np.loadtxt('datos/summer_products/nombres.csv',encoding='utf-8', dtype='str', delimiter='\\n')\n",
    "nombres.shape"
   ]
  },
  {
   "cell_type": "code",
   "execution_count": 7,
   "metadata": {},
   "outputs": [
    {
     "data": {
      "text/plain": [
       "62"
      ]
     },
     "execution_count": 7,
     "metadata": {},
     "output_type": "execute_result"
    }
   ],
   "source": [
    "nombres.size"
   ]
  },
  {
   "cell_type": "code",
   "execution_count": 8,
   "metadata": {},
   "outputs": [
    {
     "data": {
      "text/plain": [
       "array([\"5 Color Women's Fashion Summer Slim Sleeveless Camouflage Print Dress High Waist Lace Up Casual Pocket Mini Dresses Plus Size S-5XL\",\n",
       "       'Sexy Solid Ruffled Chiffon Sling Top Pure Color Women Summer Tank Top Plus Size',\n",
       "       'Women Fashion Short Jumpsuit Spaghetti Strap Sleeveless Rompers Summer One Piece Set Casual Summer Outfits',\n",
       "       '2018 New Fashion Women Casual Playsuit Ladies Jumpsuit Romper Summer Floral Playsuit Brand New (3 Colors)',\n",
       "       'Summer Fashion Women Round Neck Sleeveless Pure Color Casual Pocket Dress'],\n",
       "      dtype='<U181')"
      ]
     },
     "execution_count": 8,
     "metadata": {},
     "output_type": "execute_result"
    }
   ],
   "source": [
    "# Nombre de los 5 primeros productos\n",
    "nombres[:5]"
   ]
  },
  {
   "cell_type": "code",
   "execution_count": 10,
   "metadata": {},
   "outputs": [
    {
     "data": {
      "text/plain": [
       "(62,)"
      ]
     },
     "execution_count": 10,
     "metadata": {},
     "output_type": "execute_result"
    }
   ],
   "source": [
    "etiquetas = np.loadtxt('datos/summer_products/etiquetas.csv',encoding='utf-8', dtype='str', delimiter='\\n')\n",
    "etiquetas.shape"
   ]
  },
  {
   "cell_type": "code",
   "execution_count": 11,
   "metadata": {},
   "outputs": [
    {
     "data": {
      "text/plain": [
       "array(['\"Summer,Plus Size,Lace,Mini,Dress,slim,camouflage,Mini dress,Pocket,high waist,Women\\'s Fashion,Fashion,Lace Up,t,print dress,Print,sleeveless,bodycon,Casual,Women Fashion,Waist\"',\n",
       "       '\"Summer,Plus Size,ruffle,ruffled,chiffon,Tank,Pure Color,Cami,tank top,Women\\'s Fashion,Fashion,V-neck,blousesampshirt,sexy,Tops,Women\"',\n",
       "       '\"Summer,Shorts,Women,shortromper,Spaghetti,onepiece,Spaghetti Strap,One-Piece Suits,shortjumpsuit,Women\\'s Fashion,Fashion,Casual,summerjumpsuit,sleeveless,Rompers,women Jumpsuit,playsuit,jumpsuit\"',\n",
       "       '\"Summer,Shorts,Rompers,Casual,Ladies,Women\\'s Fashion,Fashion,off shoulder,sexy,Floral,sleeveless,Women,Beach,playsuit,jumpsuit\"',\n",
       "       '\"Round neck,Plus Size,Necks,Summer,Dress,Loose,Pocket,Women\\'s Fashion,Fashion,Pure Color,sleeveless,Casual,Women\"'],\n",
       "      dtype='<U368')"
      ]
     },
     "execution_count": 11,
     "metadata": {},
     "output_type": "execute_result"
    }
   ],
   "source": [
    "# Etiquetas de los 5 primeros productos \n",
    "etiquetas[:5]"
   ]
  },
  {
   "cell_type": "code",
   "execution_count": 14,
   "metadata": {},
   "outputs": [
    {
     "data": {
      "text/plain": [
       "(62, 8)"
      ]
     },
     "execution_count": 14,
     "metadata": {},
     "output_type": "execute_result"
    }
   ],
   "source": [
    "ventas = np.genfromtxt('datos/summer_products/ventas.csv', delimiter=',', dtype='float')\n",
    "\n",
    "#62 filas, 8 columnas\n",
    "ventas.shape"
   ]
  },
  {
   "cell_type": "code",
   "execution_count": 16,
   "metadata": {},
   "outputs": [
    {
     "data": {
      "text/plain": [
       "array([[1.30e+01, 1.30e+01, 1.00e+03, 8.20e+01, 2.70e+01, 1.00e+01,\n",
       "        7.00e+00, 1.20e+01],\n",
       "       [9.00e+00, 8.00e+00, 5.00e+03, 4.00e+02, 1.42e+02, 1.03e+02,\n",
       "        4.50e+01, 5.30e+01],\n",
       "       [7.00e+00, 6.00e+00, 1.00e+02, 3.00e+01, 1.40e+01, 5.00e+00,\n",
       "        1.00e+00, 3.00e+00],\n",
       "       [1.10e+01, 1.00e+01, 5.00e+03, 4.47e+02, 2.01e+02, 1.35e+02,\n",
       "        8.10e+01, 1.44e+02],\n",
       "       [7.00e+00, 9.00e+00, 1.00e+03, 1.01e+02, 3.60e+01, 3.80e+01,\n",
       "        1.50e+01, 2.90e+01]])"
      ]
     },
     "execution_count": 16,
     "metadata": {},
     "output_type": "execute_result"
    }
   ],
   "source": [
    "# 'precio','precio al por menor', 'unidades vendidas', 'votos por 5 estrellas', 'votos por 4 estrellas', 'votos por 3 estrellas','votos por 2 estrellas', 'votos por 1 estrellas'\n",
    "# Todos las columnas de los 5 primeros productos (filas)\n",
    "ventas[:5,:]"
   ]
  },
  {
   "cell_type": "code",
   "execution_count": 18,
   "metadata": {},
   "outputs": [
    {
     "data": {
      "text/plain": [
       "array([  13.,   13., 1000.,   82.,   27.,   10.,    7.,   12.])"
      ]
     },
     "execution_count": 18,
     "metadata": {},
     "output_type": "execute_result"
    }
   ],
   "source": [
    "ventas[0][:]"
   ]
  },
  {
   "cell_type": "code",
   "execution_count": 20,
   "metadata": {},
   "outputs": [
    {
     "data": {
      "text/plain": [
       "array([  13.,   13., 1000.,   82.,   27.,   10.,    7.,   12.])"
      ]
     },
     "execution_count": 20,
     "metadata": {},
     "output_type": "execute_result"
    }
   ],
   "source": [
    "ventas[0,:]"
   ]
  },
  {
   "cell_type": "code",
   "execution_count": 26,
   "metadata": {},
   "outputs": [
    {
     "name": "stdout",
     "output_type": "stream",
     "text": [
      "5 Color Women's Fashion Summer Slim Sleeveless Camouflage Print Dress High Waist Lace Up Casual Pocket Mini Dresses Plus Size S-5XL 13.0 13.0 1000.0\n"
     ]
    }
   ],
   "source": [
    "# Producto fila 0, 'Precio', 'precio al por menor',  'unidades vendidas'\n",
    "print(nombres[0], ventas[0,0], ventas[0,1], ventas[0,2])"
   ]
  },
  {
   "cell_type": "code",
   "execution_count": 61,
   "metadata": {},
   "outputs": [
    {
     "data": {
      "text/plain": [
       "array([13.  ,  9.  ,  7.  , 11.  ,  7.  , 11.  , 19.  , 11.  , 11.  ,\n",
       "        8.  , 13.  , 11.  ,  2.66,  3.67, 12.  ,  7.  ,  4.73, 11.  ,\n",
       "       11.  ,  7.  ,  5.  , 11.  ,  7.  , 11.  ,  8.  ,  9.  ,  9.  ,\n",
       "        5.74,  9.  , 11.  , 12.  ,  5.74, 12.  ,  7.  ,  3.  ,  6.  ,\n",
       "        9.  ,  7.  ,  8.  ,  2.  , 11.  , 12.  ,  8.  ,  3.86,  1.86,\n",
       "        9.  ,  7.  , 12.  ,  5.  , 12.  ,  7.  ,  5.  ,  7.  ,  5.65,\n",
       "        8.  ,  8.  , 16.  ,  7.  , 16.  ,  6.  , 11.  , 13.  ])"
      ]
     },
     "execution_count": 61,
     "metadata": {},
     "output_type": "execute_result"
    }
   ],
   "source": [
    "# precio de los 62 productos\n",
    "ventas[:,0]"
   ]
  },
  {
   "cell_type": "code",
   "execution_count": 27,
   "metadata": {},
   "outputs": [
    {
     "data": {
      "text/plain": [
       "array([ 1000.,  5000.,   100.,  5000.,  1000.,   100.,  5000.,  1000.,\n",
       "       20000.,   100.,   100., 20000.,   100.,  5000., 10000.,   100.,\n",
       "         100., 20000.,   100.,   100.,  1000.,  1000.,  1000., 20000.,\n",
       "       10000.,  1000.,  1000.,   100., 10000.,   100.,  1000., 10000.,\n",
       "       20000.,  1000.,   100.,  5000.,   100.,  1000.,   100.,  1000.,\n",
       "       20000.,  1000.,  1000.,   100.,  1000.,  1000.,  1000.,  1000.,\n",
       "        5000.,  5000.,  1000.,  1000., 10000.,  1000.,   100.,  1000.,\n",
       "        5000.,  1000., 10000., 10000., 20000., 10000.])"
      ]
     },
     "execution_count": 27,
     "metadata": {},
     "output_type": "execute_result"
    }
   ],
   "source": [
    "# unidades vendidas de los 62 productos\n",
    "ventas[:,2]"
   ]
  },
  {
   "cell_type": "code",
   "execution_count": 30,
   "metadata": {},
   "outputs": [
    {
     "name": "stdout",
     "output_type": "stream",
     "text": [
      "5 Color Women's Fashion Summer Slim Sleeveless Camouflage Print Dress High Waist Lace Up Casual Pocket Mini Dresses Plus Size S-5XL\n",
      "[  13.   13. 1000.   82.   27.   10.    7.   12.]\n"
     ]
    }
   ],
   "source": [
    "# Valores del primer producto\n",
    "print(nombres[0])\n",
    "print(ventas[0,:])"
   ]
  },
  {
   "cell_type": "code",
   "execution_count": 33,
   "metadata": {},
   "outputs": [
    {
     "data": {
      "text/plain": [
       "array([13.  ,  9.  ,  7.  , 11.  ,  7.  , 11.  , 19.  , 11.  , 11.  ,\n",
       "        8.  , 13.  , 11.  ,  2.66,  3.67, 12.  ,  7.  ,  4.73, 11.  ,\n",
       "       11.  ,  7.  ,  5.  , 11.  ,  7.  , 11.  ,  8.  ,  9.  ,  9.  ,\n",
       "        5.74,  9.  , 11.  , 12.  ,  5.74, 12.  ,  7.  ,  3.  ,  6.  ,\n",
       "        9.  ,  7.  ,  8.  ,  2.  , 11.  , 12.  ,  8.  ,  3.86,  1.86,\n",
       "        9.  ,  7.  , 12.  ,  5.  , 12.  ,  7.  ,  5.  ,  7.  ,  5.65,\n",
       "        8.  ,  8.  , 16.  ,  7.  , 16.  ,  6.  , 11.  , 13.  ])"
      ]
     },
     "execution_count": 33,
     "metadata": {},
     "output_type": "execute_result"
    }
   ],
   "source": [
    "# Precio de los 62 productos\n",
    "ventas[:,0]"
   ]
  },
  {
   "cell_type": "markdown",
   "metadata": {},
   "source": [
    "## Ejercicio\n",
    "\n",
    "* Muestre las estrellas recibidas y el nombre del producto en el indice 34\n",
    "* Muestre el precio y el precio al por menor del producto con el nombre 'Summer Fashion Dabbing Pug T-Shirt Newest Men Funny T Shirts  Tops Hip Hop Tee'\n"
   ]
  },
  {
   "cell_type": "code",
   "execution_count": 35,
   "metadata": {},
   "outputs": [
    {
     "name": "stdout",
     "output_type": "stream",
     "text": [
      "Women Fashion Casual Thai Harem Trousers Summer Hippy High Waist Pants Loose Yoga Pants\n",
      "Estrellas recibidas:  [22. 13.  6.  4.  2.]\n"
     ]
    }
   ],
   "source": [
    "print(nombres[34])\n",
    "print(\"Estrellas recibidas: \", ventas[34,3:])"
   ]
  },
  {
   "cell_type": "code",
   "execution_count": 42,
   "metadata": {},
   "outputs": [
    {
     "name": "stdout",
     "output_type": "stream",
     "text": [
      "[False False False False False False False False False False False False\n",
      " False False False False False False False False False False False False\n",
      " False False  True False False False False False False False False False\n",
      " False False False False False False False False False False False False\n",
      " False False False False False False False False False False False False\n",
      " False False]\n"
     ]
    }
   ],
   "source": [
    "nombre = 'Summer Fashion Dabbing Pug T-Shirt Newest Men Funny T Shirts  Tops Hip Hop Tee'\n",
    "condicion = nombres == nombre\n",
    "print(condicion)"
   ]
  },
  {
   "cell_type": "code",
   "execution_count": 41,
   "metadata": {},
   "outputs": [
    {
     "data": {
      "text/plain": [
       "array([[ 9., 38.]])"
      ]
     },
     "execution_count": 41,
     "metadata": {},
     "output_type": "execute_result"
    }
   ],
   "source": [
    "ventas[condicion,:2]"
   ]
  },
  {
   "cell_type": "markdown",
   "metadata": {},
   "source": [
    "### Puntuación total\n",
    "\n",
    "La **puntuación total** de un producto resulta al multiplicar **los votos por estrella** y **el número de estrellas**, por ejemplo:\n",
    "\n",
    "| 5 estrellas | 4 estrellas | 3 estrellas | 2 estrellas | 1 estrella |\n",
    "|-------------|-------------|-------------|-------------|------------|\n",
    "|      2      |      1      |      0      |      3      |     10     |\n",
    "\n",
    "total = 2\\***5** + 1\\***4** + 0\\***3** + 3\\***2** + 10\\***1**\n",
    "\n",
    "total = 30"
   ]
  },
  {
   "cell_type": "markdown",
   "metadata": {},
   "source": [
    "# Ejercicio \n",
    "\n",
    "* Muestre la calificación total del producto 'Women Summer Fashion Tank Tops Sexy Sleeveless Crop Tops Casual Style Women Cotton Print Lace Stitching Irregular Blouse Tops（XS-5XL)'"
   ]
  },
  {
   "cell_type": "code",
   "execution_count": 52,
   "metadata": {},
   "outputs": [
    {
     "data": {
      "text/plain": [
       "array([False, False, False, False, False, False, False, False, False,\n",
       "       False, False, False, False, False, False, False, False, False,\n",
       "       False, False, False, False, False, False, False, False, False,\n",
       "       False, False, False, False, False, False, False, False, False,\n",
       "       False, False, False,  True, False, False, False, False, False,\n",
       "       False, False, False, False, False, False, False, False, False,\n",
       "       False, False, False, False, False, False, False, False])"
      ]
     },
     "execution_count": 52,
     "metadata": {},
     "output_type": "execute_result"
    }
   ],
   "source": [
    "nombre = 'Women Summer Fashion Tank Tops Sexy Sleeveless Crop Tops Casual Style Women Cotton Print Lace Stitching Irregular Blouse Tops（XS-5XL)'\n",
    "condicion = nombres == nombre\n",
    "condicion"
   ]
  },
  {
   "cell_type": "code",
   "execution_count": 60,
   "metadata": {},
   "outputs": [
    {
     "data": {
      "text/plain": [
       "array([50., 14.,  6.,  4.,  7.])"
      ]
     },
     "execution_count": 60,
     "metadata": {},
     "output_type": "execute_result"
    }
   ],
   "source": [
    "ventas[condicion][0][3:]"
   ]
  },
  {
   "cell_type": "code",
   "execution_count": 78,
   "metadata": {},
   "outputs": [
    {
     "name": "stdout",
     "output_type": "stream",
     "text": [
      "339.0\n"
     ]
    }
   ],
   "source": [
    "estrellas = np.array([5,4,3,2,1])\n",
    "total = np.sum(ventas[condicion,3:]*estrellas)\n",
    "print(total)"
   ]
  },
  {
   "cell_type": "markdown",
   "metadata": {},
   "source": [
    "## Ejercicio\n",
    "\n",
    "* Muestre la calificación de todos los productos"
   ]
  },
  {
   "cell_type": "code",
   "execution_count": 93,
   "metadata": {},
   "outputs": [],
   "source": [
    "## suprimir la notación científica\n",
    "np.set_printoptions(suppress=True)"
   ]
  },
  {
   "cell_type": "code",
   "execution_count": 94,
   "metadata": {},
   "outputs": [
    {
     "data": {
      "text/plain": [
       "(62, 5)"
      ]
     },
     "execution_count": 94,
     "metadata": {},
     "output_type": "execute_result"
    }
   ],
   "source": [
    "calificacionTodosProductos = ventas[:, 3:] * np.array([5, 4, 3, 2, 1])\n",
    "calificacionTodosProductos.shape"
   ]
  },
  {
   "cell_type": "code",
   "execution_count": 103,
   "metadata": {},
   "outputs": [
    {
     "data": {
      "text/plain": [
       "array([  574.,  3020.,   226.,  3750.,   822.,    83.,  6388.,   883.,\n",
       "        7964.,    82.,   270., 39792.,    32.,  1695., 14728.,    66.,\n",
       "         378., 25948.,    46.,   175.,   841.,   202.,   463., 12375.,\n",
       "        5423.,   326.,  1409.,   196.,  6667.,   194.,  1635.,  8548.,\n",
       "        7845.,   876.,   190.,  1820.,   165.,  2554.,   226.,   339.,\n",
       "       30203.,  1330.,   212.,    80.,   136.,   376.,   588.,   434.,\n",
       "        3338.,  2166.,   782.,   304.,  4592.,   650.,    64.,   320.,\n",
       "        6894.,   202.,  6484.,  4643., 23855., 11944.])"
      ]
     },
     "execution_count": 103,
     "metadata": {},
     "output_type": "execute_result"
    }
   ],
   "source": [
    "total = np.sum(calificacionTodosProductos, axis = 1)\n",
    "total"
   ]
  },
  {
   "cell_type": "markdown",
   "metadata": {},
   "source": [
    "## Ejercicio\n",
    "\n",
    "* ¿Cuáles son los nombres y el puntaje total de los diez productos con la mejor puntuación? \n",
    "* ¿Cuáles son los nombres y el puntaje total de los tres productos con la peor puntuación?\n",
    "* Muestre los gráficos"
   ]
  },
  {
   "cell_type": "code",
   "execution_count": 104,
   "metadata": {},
   "outputs": [],
   "source": [
    "indicesOrdenados = np.flip(np.argsort(total))"
   ]
  },
  {
   "cell_type": "code",
   "execution_count": 108,
   "metadata": {},
   "outputs": [
    {
     "name": "stdout",
     "output_type": "stream",
     "text": [
      "39792.0 Mayzero New Summer Women Long Beach Dress Boho Floral Print Sexy Split\n",
      "30203.0 Summer Fashion Trousers Women Leggings Ripped Pants Slim Pants Army Green Tights Pants\n",
      "25948.0 Black and White Boho Maxi Long Dress\n",
      "23855.0 Womens Summer Blouse Sexy Floral Shirt Loose Kimono Cardigan Casual Jacket Tops\n",
      "14728.0 Plus Size Women Floral Dress Spaghetti Strap Collect Waist A-line Summer Mini Dress\n",
      "12375.0 Sexy Women One-Piece Push Up Bikini Bandage Monokini Swimsuit Bathing Swimwear\n",
      "11944.0 Summer Fashion Women's Jumpsuit Floral Print Sleeveless 5 Colors Romper\n",
      "8548.0 2019 New Fashion Summer Women Casual Dress Round Neck Loose Big Swing Skirt Sleeveless Soild Color Beach dress\n",
      "7964.0 2019 New Fashion Women's Slim Plus Size Maxi Dress Ink Printing Spaghetti Strap Dress\n",
      "7845.0 2019 New Fashion Spring Summer Women's Long Pants Short Sleeves Off Shoulder Jumpsuit\n"
     ]
    }
   ],
   "source": [
    "top10 = indicesOrdenados[:10]\n",
    "\n",
    "for indice in top10:\n",
    "    print(total[indice], nombres[indice])"
   ]
  },
  {
   "cell_type": "code",
   "execution_count": 114,
   "metadata": {},
   "outputs": [
    {
     "data": {
      "text/plain": [
       "([0, 1, 2, 3, 4, 5, 6, 7, 8, 9],\n",
       " [Text(0, 0, ''),\n",
       "  Text(0, 0, ''),\n",
       "  Text(0, 0, ''),\n",
       "  Text(0, 0, ''),\n",
       "  Text(0, 0, ''),\n",
       "  Text(0, 0, ''),\n",
       "  Text(0, 0, ''),\n",
       "  Text(0, 0, ''),\n",
       "  Text(0, 0, ''),\n",
       "  Text(0, 0, '')])"
      ]
     },
     "execution_count": 114,
     "metadata": {},
     "output_type": "execute_result"
    },
    {
     "data": {
      "image/png": "[encoded data removed]",
      "text/plain": [
       "<Figure size 432x288 with 1 Axes>"
      ]
     },
     "metadata": {
      "needs_background": "light"
     },
     "output_type": "display_data"
    }
   ],
   "source": [
    "plt.bar(nombres[top10], total[top10])\n",
    "plt.ylabel('Calificaciones')\n",
    "plt.xlabel('Productos')\n",
    "plt.title('Calificaciones por producto',fontsize=16)\n",
    "plt.xticks(rotation=90)"
   ]
  },
  {
   "cell_type": "markdown",
   "metadata": {},
   "source": [
    "## Ejercicio\n",
    "\n",
    "* Muestre el promedio de unidades vendidas de todos los productos\n",
    "* ¿Cuántos y cuáles son los productos tienen el número de unidades vendidas mayor o igual que el promedio?"
   ]
  },
  {
   "cell_type": "code",
   "execution_count": 116,
   "metadata": {},
   "outputs": [
    {
     "name": "stdout",
     "output_type": "stream",
     "text": [
      "4590.322580645161\n"
     ]
    }
   ],
   "source": [
    "promedio = np.mean(ventas[:,2])\n",
    "print(promedio)"
   ]
  },
  {
   "cell_type": "code",
   "execution_count": 119,
   "metadata": {},
   "outputs": [
    {
     "name": "stdout",
     "output_type": "stream",
     "text": [
      "23\n"
     ]
    }
   ],
   "source": [
    "resultado = ventas[:,2]>=promedio\n",
    "print(np.sum(resultado))"
   ]
  },
  {
   "cell_type": "code",
   "execution_count": 122,
   "metadata": {},
   "outputs": [
    {
     "data": {
      "text/plain": [
       "array(['Sexy Solid Ruffled Chiffon Sling Top Pure Color Women Summer Tank Top Plus Size',\n",
       "       '2018 New Fashion Women Casual Playsuit Ladies Jumpsuit Romper Summer Floral Playsuit Brand New (3 Colors)',\n",
       "       \"Good Quality 2014 Summer Hot Sale Zipper Shorts Fashion Slim Men's Causual Ripped Jeans Cropped Trousers\",\n",
       "       \"2019 New Fashion Women's Slim Plus Size Maxi Dress Ink Printing Spaghetti Strap Dress\",\n",
       "       'Mayzero New Summer Women Long Beach Dress Boho Floral Print Sexy Split',\n",
       "       'Women Lace See Through Sexy Lace up Low Waist Hollow Bikini Lingerie Set',\n",
       "       'Plus Size Women Floral Dress Spaghetti Strap Collect Waist A-line Summer Mini Dress',\n",
       "       'Black and White Boho Maxi Long Dress',\n",
       "       'Sexy Women One-Piece Push Up Bikini Bandage Monokini Swimsuit Bathing Swimwear',\n",
       "       'Women Casual Tank Tops Hollow Out Cross Tee Shirt Summer Sleeveless Halter Loose Tunic Tops Vest',\n",
       "       '2019 Summer Plus Size Tank Top for Women Spaghetti Strap  Flower Print Sleeveless Casual Top (S-6XL)',\n",
       "       '2019 New Fashion Summer Women Casual Dress Round Neck Loose Big Swing Skirt Sleeveless Soild Color Beach dress',\n",
       "       \"2019 New Fashion Spring Summer Women's Long Pants Short Sleeves Off Shoulder Jumpsuit\",\n",
       "       \"Sexy Women's Summer Casual Sleeveless Evening Party Backless Beachwear Mini Dress\",\n",
       "       'Summer Fashion Trousers Women Leggings Ripped Pants Slim Pants Army Green Tights Pants',\n",
       "       'Plus Size S-3XL New Women Fashion Loose Pants High Waist Ninth Pant Linen Trousers',\n",
       "       'Mother and Daughter Casual Boho Stripe Maxi Dress Mom & Kids Matching Set Outfit',\n",
       "       'Women Bikini Set Swimsuit Bikinis Halter Swimwear Women Beach Wear Bathing Suit Tankini Monokini',\n",
       "       'Women Fashion Lace Party Cocktail Mini Dress Ladies Summer Short Sleeve Skater Dresses ',\n",
       "       'ZANZEA Damen Sommer Mode Lose Rundhals Baumwolle Leinen 3/4 Arm Shirt Bluse Hemd Kleid Dress',\n",
       "       'Women Casual Loose Linen Trousers Solid Color Sport Yoga Comfortable Women Pants',\n",
       "       'Womens Summer Blouse Sexy Floral Shirt Loose Kimono Cardigan Casual Jacket Tops',\n",
       "       \"Summer Fashion Women's Jumpsuit Floral Print Sleeveless 5 Colors Romper\"],\n",
       "      dtype='<U181')"
      ]
     },
     "execution_count": 122,
     "metadata": {},
     "output_type": "execute_result"
    }
   ],
   "source": [
    "nombres[resultado]"
   ]
  },
  {
   "cell_type": "code",
   "execution_count": 123,
   "metadata": {},
   "outputs": [],
   "source": [
    "# ¿Cuánto se vendió $ por los productos cuyo volumen de ventas es mayor que el promedio?"
   ]
  },
  {
   "cell_type": "code",
   "execution_count": 127,
   "metadata": {},
   "outputs": [
    {
     "name": "stdout",
     "output_type": "stream",
     "text": [
      "[ 45000.  55000.  95000. 220000. 220000.  18350. 120000. 220000. 220000.\n",
      "  80000.  90000.  57400. 240000.  30000. 220000.  25000.  60000.  70000.\n",
      "  80000. 160000.  60000. 220000. 130000.]\n"
     ]
    }
   ],
   "source": [
    "totalDolares = ventas[resultado,0] * ventas[resultado,2]\n",
    "print(totalDolares)"
   ]
  },
  {
   "cell_type": "code",
   "execution_count": 129,
   "metadata": {},
   "outputs": [
    {
     "name": "stdout",
     "output_type": "stream",
     "text": [
      "$  2735750.0\n"
     ]
    }
   ],
   "source": [
    "totalVentas = np.sum(totalDolares)\n",
    "print(\"$ \",totalVentas)"
   ]
  },
  {
   "cell_type": "markdown",
   "metadata": {},
   "source": [
    "## Análisis de texto\n",
    "\n",
    "* Objetivo\n",
    "* Datos (Dataset)\n",
    "* Pre procesamiento\n",
    "* Procesamiento\n",
    "* Interpretación de resultados"
   ]
  },
  {
   "cell_type": "markdown",
   "metadata": {},
   "source": [
    "**Objetivo**\n",
    "\n",
    "¿Qué información puedo obtener de las etiquetas que tiene cada producto?"
   ]
  },
  {
   "cell_type": "code",
   "execution_count": 132,
   "metadata": {},
   "outputs": [
    {
     "name": "stdout",
     "output_type": "stream",
     "text": [
      "\"Summer,sweetheart,Fashion,short dress,strappydres,goingout,Slim Fit,Floral dress,Shorts,Floral,Women's Fashion,Sheath Dress,A line dress,sweetheartdres,sexy,Above Knee dresses,Spaghetti,Dress,Women\"\n"
     ]
    }
   ],
   "source": [
    "et10 = etiquetas[10]\n",
    "print(et10)"
   ]
  },
  {
   "cell_type": "markdown",
   "metadata": {},
   "source": [
    "**Pre procesamiento**\n",
    "\n",
    "Por cada línea\n",
    "* Convertir a minúsculas\n",
    "* Eliminar caracteres o reemplazar caracteres especiales por caracteres más comunes\n",
    "* Dividir el texto por el caracter \n",
    "* Análisis lexicográfico (curso)"
   ]
  },
  {
   "cell_type": "code",
   "execution_count": 134,
   "metadata": {},
   "outputs": [
    {
     "name": "stdout",
     "output_type": "stream",
     "text": [
      "\"summer,sweetheart,fashion,short dress,strappydres,goingout,slim fit,floral dress,shorts,floral,women's fashion,sheath dress,a line dress,sweetheartdres,sexy,above knee dresses,spaghetti,dress,women\"\n"
     ]
    }
   ],
   "source": [
    "minusculas = et10.lower()\n",
    "print(minusculas)"
   ]
  },
  {
   "cell_type": "code",
   "execution_count": 138,
   "metadata": {},
   "outputs": [
    {
     "name": "stdout",
     "output_type": "stream",
     "text": [
      "summer,sweetheart,fashion,short dress,strappydres,goingout,slim fit,floral dress,shorts,floral,women's fashion,sheath dress,a line dress,sweetheartdres,sexy,above knee dresses,spaghetti,dress,women\n"
     ]
    }
   ],
   "source": [
    "sincomillas = minusculas.replace('\\\"','')\n",
    "print(sincomillas)"
   ]
  },
  {
   "cell_type": "code",
   "execution_count": 141,
   "metadata": {},
   "outputs": [
    {
     "name": "stdout",
     "output_type": "stream",
     "text": [
      "['summer', 'sweetheart', 'fashion', 'short dress', 'strappydres', 'goingout', 'slim fit', 'floral dress', 'shorts', 'floral', \"women's fashion\", 'sheath dress', 'a line dress', 'sweetheartdres', 'sexy', 'above knee dresses', 'spaghetti', 'dress', 'women']\n"
     ]
    }
   ],
   "source": [
    "listaEtiquetas = sincomillas.split(',')\n",
    "print(listaEtiquetas)"
   ]
  },
  {
   "cell_type": "code",
   "execution_count": 142,
   "metadata": {},
   "outputs": [],
   "source": [
    "aTodasEtiquetas = np.array([])\n",
    "\n",
    "for linea in etiquetas:\n",
    "    minusculas = linea.lower()\n",
    "    sincomillas = minusculas.replace('\\\"','')\n",
    "    listaEtiquetas = sincomillas.split(',')\n",
    "    aTodasEtiquetas = np.append(aTodasEtiquetas, listaEtiquetas)"
   ]
  },
  {
   "cell_type": "code",
   "execution_count": 147,
   "metadata": {},
   "outputs": [
    {
     "data": {
      "text/plain": [
       "(1085,)"
      ]
     },
     "execution_count": 147,
     "metadata": {},
     "output_type": "execute_result"
    }
   ],
   "source": [
    "aTodasEtiquetas.shape"
   ]
  },
  {
   "cell_type": "code",
   "execution_count": 146,
   "metadata": {},
   "outputs": [
    {
     "data": {
      "text/plain": [
       "array(['summer', 'plus size', 'lace', ..., 'clothing', 'rompers',\n",
       "       'jumpsuit'], dtype='<U68')"
      ]
     },
     "execution_count": 146,
     "metadata": {},
     "output_type": "execute_result"
    }
   ],
   "source": [
    "aTodasEtiquetas"
   ]
  },
  {
   "cell_type": "markdown",
   "metadata": {},
   "source": [
    "**Procesamiento** \n",
    "\n",
    "Pasos para cumplir con el **objetivo**, por ejemplo:\n",
    "\n",
    "¿Cuáles son las etiquetas más utilizadas?"
   ]
  },
  {
   "cell_type": "code",
   "execution_count": 149,
   "metadata": {},
   "outputs": [
    {
     "data": {
      "text/plain": [
       "(51,)"
      ]
     },
     "execution_count": 149,
     "metadata": {},
     "output_type": "execute_result"
    }
   ],
   "source": [
    "aTodasEtiquetas[aTodasEtiquetas == \"summer\"].shape"
   ]
  },
  {
   "cell_type": "markdown",
   "metadata": {},
   "source": [
    "**Pasos**\n",
    "\n",
    "* Obtener palabras únicas respecto con todas las etiquetas\n",
    "* Contar el número de repeticiones por cada palabra\n",
    "* Tomar las palabras más representativas (aparecen mayor número de veces)"
   ]
  },
  {
   "cell_type": "code",
   "execution_count": 151,
   "metadata": {},
   "outputs": [
    {
     "name": "stdout",
     "output_type": "stream",
     "text": [
      "(371,)\n"
     ]
    }
   ],
   "source": [
    "unicos = np.unique(aTodasEtiquetas)\n",
    "print(unicos.shape)"
   ]
  },
  {
   "cell_type": "code",
   "execution_count": 152,
   "metadata": {},
   "outputs": [],
   "source": [
    "conteo = np.array([])\n",
    "for etiquetaUnica in unicos:\n",
    "    veces = aTodasEtiquetas == etiquetaUnica\n",
    "    conteo = np.append(conteo, np.sum(veces))"
   ]
  },
  {
   "cell_type": "code",
   "execution_count": 163,
   "metadata": {},
   "outputs": [
    {
     "name": "stdout",
     "output_type": "stream",
     "text": [
      "(371,) (371,)\n"
     ]
    }
   ],
   "source": [
    "print(unicos.shape, conteo.shape)"
   ]
  },
  {
   "cell_type": "code",
   "execution_count": 162,
   "metadata": {},
   "outputs": [
    {
     "data": {
      "text/plain": [
       "array([ 1.,  1.,  1.,  1.,  1.,  1.,  3.,  1.,  1.,  1.,  1.,  2., 16.,\n",
       "       11.,  2.,  1.,  1.,  1.,  4.,  1.,  1.,  1.,  1.,  1.,  5.,  1.,\n",
       "        1.,  1.,  2.,  1.,  1.,  1.,  5.,  2.,  3.,  1.,  1.,  1.,  1.,\n",
       "        1.,  1.,  3.,  1.,  1., 38.,  3.,  2.,  5.,  2.,  1.,  1.,  1.,\n",
       "        1.,  1.,  1.,  1.,  2.,  1.,  1.,  1.,  1.,  3.,  1.,  1.,  1.,\n",
       "        1.,  1.,  1.,  2.,  1.,  2.,  1.,  1.,  1., 27.,  1.,  3.,  1.,\n",
       "        1.,  1.,  1.,  2.,  1., 47.,  1.,  3.,  1.,  1.,  1.,  1.,  1.,\n",
       "        1., 10.,  2.,  4.,  1.,  2.,  1.,  2.,  2.,  1.,  1.,  1.,  1.,\n",
       "        1.,  1.,  1.,  4.,  1.,  2.,  1.,  1.,  1.,  1.,  3.,  7.,  1.,\n",
       "        1.,  1.,  1.,  1.,  1.,  1.,  1.,  2.,  1.,  6.,  1.,  1.,  1.,\n",
       "        1.,  2.,  1.,  1.,  7.,  1.,  1.,  1.,  1.,  1.,  3.,  1.,  1.,\n",
       "        8.,  1.,  1.,  1.,  1.,  5.,  6.,  1.,  1.,  9.,  4.,  1.,  1.,\n",
       "        2.,  1.,  1.,  1.,  5.,  1.,  1.,  2.,  1.,  1.,  1.,  2.,  1.,\n",
       "        1.,  1.,  8., 10.,  1.,  1.,  1.,  1.,  1.,  1.,  7.,  4.,  1.,\n",
       "        1.,  2.,  1.,  1.,  1.,  1.,  9.,  1.,  1.,  6.,  4.,  1.,  2.,\n",
       "        2.,  1.,  1.,  3.,  1.,  1., 27.,  1.,  1.,  2.,  1.,  1.,  1.,\n",
       "        9.,  1.,  1.,  9.,  1.,  1.,  2.,  1.,  1.,  1.,  1.,  1.,  1.,\n",
       "        1.,  1.,  5.,  1.,  5.,  1.,  1.,  1., 13.,  1.,  1.,  1.,  1.,\n",
       "        1.,  1.,  7.,  3.,  3.,  1.,  1.,  1.,  1.,  6.,  1.,  1., 20.,\n",
       "        1.,  1.,  2.,  1.,  3.,  6.,  1., 25., 10.,  2.,  1., 11.,  6.,\n",
       "        4.,  1.,  1.,  1.,  2.,  1.,  1., 11.,  7.,  1.,  1.,  2.,  1.,\n",
       "        1.,  1.,  2.,  1.,  1.,  1.,  1.,  1.,  1.,  1.,  1.,  3., 51.,\n",
       "        8.,  2.,  2.,  1.,  3.,  2.,  1.,  1.,  1.,  1.,  2.,  1.,  1.,\n",
       "        1.,  1.,  1.,  1.,  1.,  4.,  1.,  4.,  1.,  3.,  1.,  1.,  3.,\n",
       "        3., 11.,  9.,  1.,  1., 13.,  3.,  1.,  1.,  1.,  1.,  7.,  1.,\n",
       "        1.,  1.,  1.,  1.,  1.,  7.,  2.,  1., 10.,  1., 39.,  1.,  1.,\n",
       "        1.,  1.,  4.,  3.,  5.,  1.,  1.,  1.,  1.,  4.,  1.,  1.,  2.,\n",
       "        3.,  2., 53.,  1.,  1.,  1.,  1.,  3.,  1.,  1.,  1.,  1.,  1.,\n",
       "        1.,  1.,  2.,  1.,  2.,  1.,  1.])"
      ]
     },
     "execution_count": 162,
     "metadata": {},
     "output_type": "execute_result"
    }
   ],
   "source": [
    "conteo"
   ]
  },
  {
   "cell_type": "code",
   "execution_count": 164,
   "metadata": {},
   "outputs": [
    {
     "name": "stdout",
     "output_type": "stream",
     "text": [
      "basketball 1.0\n",
      "funnytop 1.0\n"
     ]
    }
   ],
   "source": [
    "print(unicos[10], conteo[10])\n",
    "print(unicos[100], conteo[100])"
   ]
  },
  {
   "cell_type": "code",
   "execution_count": 166,
   "metadata": {},
   "outputs": [],
   "source": [
    "# Ordenar el resultado del conteo y mostrar las 10 palabras más frecuentes"
   ]
  },
  {
   "cell_type": "code",
   "execution_count": 168,
   "metadata": {},
   "outputs": [
    {
     "data": {
      "text/plain": [
       "array([353, 285,  83, 335,  44,  74, 201, 254, 246,  12], dtype=int64)"
      ]
     },
     "execution_count": 168,
     "metadata": {},
     "output_type": "execute_result"
    }
   ],
   "source": [
    "conteoOrdenado = np.flip(np.argsort(conteo))\n",
    "top10 = conteoOrdenado[:10]\n",
    "top10"
   ]
  },
  {
   "cell_type": "code",
   "execution_count": 172,
   "metadata": {},
   "outputs": [
    {
     "data": {
      "text/plain": [
       "(array([\"women's fashion\", 'summer', 'fashion', 'women', 'casual', 'dress',\n",
       "        'plus size', 'sleeveless', 'shorts', 'beach'], dtype='<U68'),\n",
       " array([53., 51., 47., 39., 38., 27., 27., 25., 20., 16.]))"
      ]
     },
     "execution_count": 172,
     "metadata": {},
     "output_type": "execute_result"
    }
   ],
   "source": [
    "unicos[top10], conteo[top10]"
   ]
  },
  {
   "cell_type": "code",
   "execution_count": 176,
   "metadata": {},
   "outputs": [
    {
     "data": {
      "text/plain": [
       "Text(0.5, 1.0, 'Conteo de etiquetas unicas')"
      ]
     },
     "execution_count": 176,
     "metadata": {},
     "output_type": "execute_result"
    },
    {
     "data": {
      "image/png": "[encoded data removed]",
      "text/plain": [
       "<Figure size 432x288 with 1 Axes>"
      ]
     },
     "metadata": {
      "needs_background": "light"
     },
     "output_type": "display_data"
    }
   ],
   "source": [
    "plt.bar(unicos[top10], conteo[top10])\n",
    "plt.xticks(rotation=90)\n",
    "plt.xlabel('Etiquetas')\n",
    "plt.ylabel('Conteo')\n",
    "plt.title('Conteo de etiquetas unicas')"
   ]
  },
  {
   "cell_type": "markdown",
   "metadata": {},
   "source": [
    "**Interpretación de resultados**\n",
    "\n",
    "¿Qué significan las palabras en conjunto?"
   ]
  }
 ],
 "metadata": {
  "kernelspec": {
   "display_name": "Python 3",
   "language": "python",
   "name": "python3"
  },
  "language_info": {
   "codemirror_mode": {
    "name": "ipython",
    "version": 3
   },
   "file_extension": ".py",
   "mimetype": "text/x-python",
   "name": "python",
   "nbconvert_exporter": "python",
   "pygments_lexer": "ipython3",
   "version": "3.8.3"
  }
 },
 "nbformat": 4,
 "nbformat_minor": 4
}
