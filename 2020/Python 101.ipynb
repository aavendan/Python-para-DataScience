{
 "cells": [
  {
   "cell_type": "code",
   "execution_count": 3,
   "metadata": {},
   "outputs": [
    {
     "name": "stdout",
     "output_type": "stream",
     "text": [
      "Bienvenidos al curso de Python para Data Science\n",
      "Año  2020 .\n"
     ]
    }
   ],
   "source": [
    "print(\"Bienvenidos al curso de Python para Data Science\")\n",
    "print(\"Año \", 2020, \".\")"
   ]
  },
  {
   "cell_type": "code",
   "execution_count": 8,
   "metadata": {},
   "outputs": [
    {
     "name": "stdout",
     "output_type": "stream",
     "text": [
      "Andrea Gonzalez\n",
      "30\n"
     ]
    }
   ],
   "source": [
    "nombre = \"Andrea Gonzalez\"\n",
    "print(nombre)\n",
    "\n",
    "\n",
    "edad = 30\n",
    "print(edad)"
   ]
  },
  {
   "cell_type": "code",
   "execution_count": 9,
   "metadata": {},
   "outputs": [
    {
     "ename": "SyntaxError",
     "evalue": "invalid syntax (<ipython-input-9-f27fbff8d253>, line 1)",
     "output_type": "error",
     "traceback": [
      "\u001b[1;36m  File \u001b[1;32m\"<ipython-input-9-f27fbff8d253>\"\u001b[1;36m, line \u001b[1;32m1\u001b[0m\n\u001b[1;33m    1nombre = \"Juanito\"\u001b[0m\n\u001b[1;37m     ^\u001b[0m\n\u001b[1;31mSyntaxError\u001b[0m\u001b[1;31m:\u001b[0m invalid syntax\n"
     ]
    }
   ],
   "source": [
    "1nombre = \"Juanito\"\n",
    "print(1nombre)"
   ]
  },
  {
   "cell_type": "code",
   "execution_count": 11,
   "metadata": {},
   "outputs": [
    {
     "ename": "SyntaxError",
     "evalue": "invalid syntax (<ipython-input-11-79119278097a>, line 1)",
     "output_type": "error",
     "traceback": [
      "\u001b[1;36m  File \u001b[1;32m\"<ipython-input-11-79119278097a>\"\u001b[1;36m, line \u001b[1;32m1\u001b[0m\n\u001b[1;33m    nombre apellido = \"Juanito Morales\"\u001b[0m\n\u001b[1;37m           ^\u001b[0m\n\u001b[1;31mSyntaxError\u001b[0m\u001b[1;31m:\u001b[0m invalid syntax\n"
     ]
    }
   ],
   "source": [
    "nombre apellido = \"Juanito Morales\"\n",
    "print(nombre apellido)"
   ]
  },
  {
   "cell_type": "code",
   "execution_count": 13,
   "metadata": {},
   "outputs": [
    {
     "name": "stdout",
     "output_type": "stream",
     "text": [
      "Juanito Morales\n"
     ]
    }
   ],
   "source": [
    "nombre_apellido = 'Juanito Morales'\n",
    "print(nombre_apellido)"
   ]
  },
  {
   "cell_type": "code",
   "execution_count": 17,
   "metadata": {},
   "outputs": [
    {
     "name": "stdout",
     "output_type": "stream",
     "text": [
      "Mi altura es:  1.68  cm\n"
     ]
    }
   ],
   "source": [
    "pi = 3.14\n",
    "altura = 1.68\n",
    "\n",
    "#La variable altura es de tipo flotante\n",
    "print(\"Mi altura es: \", altura, \" cm\")"
   ]
  },
  {
   "cell_type": "code",
   "execution_count": 18,
   "metadata": {},
   "outputs": [
    {
     "name": "stdout",
     "output_type": "stream",
     "text": [
      "Mi altura es:  1.68  cm\n"
     ]
    }
   ],
   "source": [
    "altura = \"1.68\"\n",
    "\n",
    "#La variable altura es de tipo cadena de texto\n",
    "print(\"Mi altura es: \", altura, \" cm\")"
   ]
  },
  {
   "cell_type": "code",
   "execution_count": 21,
   "metadata": {},
   "outputs": [
    {
     "name": "stdout",
     "output_type": "stream",
     "text": [
      "Mi altura es:  1.78  cm\n"
     ]
    }
   ],
   "source": [
    "altura = float(\"1.68\")\n",
    "\n",
    "altura = altura + 0.10\n",
    "print(\"Mi altura es: \", altura, \" cm\")"
   ]
  },
  {
   "cell_type": "code",
   "execution_count": 22,
   "metadata": {},
   "outputs": [
    {
     "ename": "TypeError",
     "evalue": "can only concatenate str (not \"float\") to str",
     "output_type": "error",
     "traceback": [
      "\u001b[1;31m---------------------------------------------------------------------------\u001b[0m",
      "\u001b[1;31mTypeError\u001b[0m                                 Traceback (most recent call last)",
      "\u001b[1;32m<ipython-input-22-6274d798da34>\u001b[0m in \u001b[0;36m<module>\u001b[1;34m\u001b[0m\n\u001b[0;32m      1\u001b[0m \u001b[0maltura\u001b[0m \u001b[1;33m=\u001b[0m \u001b[1;34m\"1.68\"\u001b[0m\u001b[1;33m\u001b[0m\u001b[1;33m\u001b[0m\u001b[0m\n\u001b[0;32m      2\u001b[0m \u001b[1;33m\u001b[0m\u001b[0m\n\u001b[1;32m----> 3\u001b[1;33m \u001b[0maltura\u001b[0m \u001b[1;33m=\u001b[0m \u001b[0maltura\u001b[0m \u001b[1;33m+\u001b[0m \u001b[1;36m0.10\u001b[0m\u001b[1;33m\u001b[0m\u001b[1;33m\u001b[0m\u001b[0m\n\u001b[0m\u001b[0;32m      4\u001b[0m \u001b[0mprint\u001b[0m\u001b[1;33m(\u001b[0m\u001b[1;34m\"Mi altura es: \"\u001b[0m\u001b[1;33m,\u001b[0m \u001b[0maltura\u001b[0m\u001b[1;33m,\u001b[0m \u001b[1;34m\" cm\"\u001b[0m\u001b[1;33m)\u001b[0m\u001b[1;33m\u001b[0m\u001b[1;33m\u001b[0m\u001b[0m\n",
      "\u001b[1;31mTypeError\u001b[0m: can only concatenate str (not \"float\") to str"
     ]
    }
   ],
   "source": [
    "altura = \"1.68\"\n",
    "\n",
    "altura = altura + 0.10\n",
    "print(\"Mi altura es: \", altura, \" cm\")"
   ]
  },
  {
   "cell_type": "code",
   "execution_count": 25,
   "metadata": {},
   "outputs": [
    {
     "name": "stdout",
     "output_type": "stream",
     "text": [
      "Subtotal:  320\n"
     ]
    }
   ],
   "source": [
    "valor1 = 200\n",
    "valor2 = 120\n",
    "subtotal = valor1 + valor2\n",
    "print(\"Subtotal: \",subtotal)"
   ]
  },
  {
   "cell_type": "code",
   "execution_count": 26,
   "metadata": {},
   "outputs": [
    {
     "name": "stdout",
     "output_type": "stream",
     "text": [
      "IVA:  38.4\n"
     ]
    }
   ],
   "source": [
    "iva = subtotal * 12 / 100\n",
    "print(\"IVA: \", iva)"
   ]
  },
  {
   "cell_type": "code",
   "execution_count": 28,
   "metadata": {},
   "outputs": [
    {
     "name": "stdout",
     "output_type": "stream",
     "text": [
      "Descuento:  32.0\n"
     ]
    }
   ],
   "source": [
    "descuento = subtotal * 0.10\n",
    "print(\"Descuento: \", descuento)"
   ]
  },
  {
   "cell_type": "code",
   "execution_count": 30,
   "metadata": {},
   "outputs": [
    {
     "name": "stdout",
     "output_type": "stream",
     "text": [
      "Total: $ 326.4\n"
     ]
    }
   ],
   "source": [
    "total = subtotal + iva - descuento\n",
    "print(\"Total: $\", total)"
   ]
  },
  {
   "cell_type": "code",
   "execution_count": 39,
   "metadata": {},
   "outputs": [],
   "source": [
    "#Formato de salida\n",
    "#print( \"{:.2f}\".format(3.1456889) )\n",
    "#print( \"%.2f\" % (3.141568)  )"
   ]
  },
  {
   "cell_type": "markdown",
   "metadata": {},
   "source": [
    "## Ingreso de datos"
   ]
  },
  {
   "cell_type": "code",
   "execution_count": 40,
   "metadata": {},
   "outputs": [
    {
     "name": "stdout",
     "output_type": "stream",
     "text": [
      "Ingrese su nombre: Alicia\n",
      "Bienvenido/a Alicia\n"
     ]
    }
   ],
   "source": [
    "# La función por defecto devuelve una  cadena de caracteres\n",
    "nombre = input( \"Ingrese su nombre: \" )\n",
    "\n",
    "# Aquí el signo + sirve para concatenar\n",
    "print(\"Bienvenido/a \"+nombre) "
   ]
  },
  {
   "cell_type": "code",
   "execution_count": 41,
   "metadata": {},
   "outputs": [
    {
     "name": "stdout",
     "output_type": "stream",
     "text": [
      "Ingrese su edad: 34\n",
      "Edad para el 2020:  33\n"
     ]
    }
   ],
   "source": [
    "# Ingresar la edad y el sueldo para luego mostrar los valores\n",
    "\n",
    "edad = input(\"Ingrese su edad: \")\n",
    "edad = int(edad)\n",
    "edad -= 1 # edad = edad - 1\n",
    "\n",
    "print(\"Edad para el 2020: \", edad)"
   ]
  },
  {
   "cell_type": "code",
   "execution_count": 46,
   "metadata": {},
   "outputs": [
    {
     "name": "stdout",
     "output_type": "stream",
     "text": [
      "Ingrese su sueldo: 200.2874392347\n",
      "Su sueldo $ 200.29\n"
     ]
    }
   ],
   "source": [
    "sueldo = float(input(\"Ingrese su sueldo: \"))\n",
    "print(\"Su sueldo $\", \"{:.2f}\".format(sueldo) )"
   ]
  },
  {
   "cell_type": "markdown",
   "metadata": {},
   "source": [
    "## Operadores matemáticos"
   ]
  },
  {
   "cell_type": "code",
   "execution_count": 47,
   "metadata": {},
   "outputs": [
    {
     "name": "stdout",
     "output_type": "stream",
     "text": [
      "Ingrese su edad: 18\n",
      "18\n"
     ]
    }
   ],
   "source": [
    "edad = int(input(\"Ingrese su edad: \"))\n",
    "print(edad)"
   ]
  },
  {
   "cell_type": "code",
   "execution_count": 49,
   "metadata": {},
   "outputs": [
    {
     "name": "stdout",
     "output_type": "stream",
     "text": [
      "¿Es mayor de edad?  True\n"
     ]
    }
   ],
   "source": [
    "mayorEdad = edad >= 18\n",
    "print(\"¿Es mayor de edad? \", mayorEdad)"
   ]
  },
  {
   "cell_type": "code",
   "execution_count": 51,
   "metadata": {},
   "outputs": [
    {
     "name": "stdout",
     "output_type": "stream",
     "text": [
      "¿Es adolescente?  False\n"
     ]
    }
   ],
   "source": [
    "esAdolescente =  12 <= edad and edad < 18   #12 <= edad < 18\n",
    "print(\"¿Es adolescente? \", esAdolescente)"
   ]
  },
  {
   "cell_type": "code",
   "execution_count": 58,
   "metadata": {},
   "outputs": [
    {
     "name": "stdout",
     "output_type": "stream",
     "text": [
      "Ingrese su edad: 12\n",
      "Préstamo denegado\n"
     ]
    }
   ],
   "source": [
    "# En caso que la edad ingresada sea mayor o igual que 18 entonces mostrar que 'Préstamo aprobado'\n",
    "# En caso que la edad sea menor que 18 entonces mostrar que 'Préstamo denegado'\n",
    "\n",
    "edad = int(input(\"Ingrese su edad: \"))\n",
    "\n",
    "if edad >= 18:\n",
    "    print('Préstamo aprobado')\n",
    "else:\n",
    "    print('Préstamo denegado')"
   ]
  },
  {
   "cell_type": "markdown",
   "metadata": {},
   "source": [
    "## Ejercicio\n",
    "Ingrese el nombre completo, el año nacimiento y el monto de un préstamo. En caso de ser menor de edad, se niega el préstamo. En caso de ser mayor de edad (>= 18 años) se otorgará el préstamo bajo las siguientes condiciones para el monto:\n",
    "\n",
    "* No se otorga préstamos para montos menores de \\\\$1999.\n",
    "* Si el monto está entre \\\\$2000 y \\\\$3999 debe calcular una tasa de interés del 2%\n",
    "* Si el monto está entre \\\\$4000 y \\\\$6000 debe calcular una tasa de interés del 1%"
   ]
  },
  {
   "cell_type": "code",
   "execution_count": 61,
   "metadata": {},
   "outputs": [
    {
     "name": "stdout",
     "output_type": "stream",
     "text": [
      "Ingrese el nombre completo: Juanita\n",
      "Ingrese el año: 1985\n",
      "Ingrese el monto: 90000000\n",
      "Tendrás un interés de:  900000.0\n"
     ]
    }
   ],
   "source": [
    "nombre = input(\"Ingrese el nombre completo: \")\n",
    "anio = int(input(\"Ingrese el año: \"))\n",
    "monto = float(input(\"Ingrese el monto: \"))\n",
    "\n",
    "edad = 2020 - anio\n",
    "\n",
    "if edad < 18:\n",
    "    print(\"Se niega el préstamo\")\n",
    "else:\n",
    "    \n",
    "    if monto <= 1999:\n",
    "        print(\"No se otorga préstamos para montos menores de $1999\")\n",
    "        \n",
    "    elif 2000 <= monto < 3999:\n",
    "        interes = monto * 0.02\n",
    "        print(\"Tendrás un interés de: \", interes)\n",
    "        \n",
    "    elif 4000 <= monto < 6000:\n",
    "        interes = monto * 0.01\n",
    "        print(\"Tendrás un interés de: \", interes)"
   ]
  },
  {
   "cell_type": "markdown",
   "metadata": {},
   "source": [
    "## Listas y estructura de repetición"
   ]
  },
  {
   "cell_type": "code",
   "execution_count": 63,
   "metadata": {},
   "outputs": [],
   "source": [
    "prestamos = [2300, 3214, 3450, 1980, 2020, 4530]\n",
    "personas = [ \"Juan\", \"María\", \"Andrés\", \"Carlos\", \"Vanessa\", \"Lucía\"]"
   ]
  },
  {
   "cell_type": "code",
   "execution_count": 65,
   "metadata": {},
   "outputs": [
    {
     "name": "stdout",
     "output_type": "stream",
     "text": [
      "[2300, 3214, 3450, 1980, 2020, 4530]\n",
      "['Juan', 'María', 'Andrés', 'Carlos', 'Vanessa', 'Lucía']\n"
     ]
    }
   ],
   "source": [
    "print( prestamos )\n",
    "print( personas )"
   ]
  },
  {
   "cell_type": "code",
   "execution_count": 67,
   "metadata": {},
   "outputs": [
    {
     "name": "stdout",
     "output_type": "stream",
     "text": [
      "El total es $ 17494\n"
     ]
    }
   ],
   "source": [
    "total = sum( prestamos )\n",
    "print(\"El total es $\", total)"
   ]
  },
  {
   "cell_type": "code",
   "execution_count": 68,
   "metadata": {},
   "outputs": [
    {
     "name": "stdout",
     "output_type": "stream",
     "text": [
      "La cantidad de préstamos otorgados son:  6\n"
     ]
    }
   ],
   "source": [
    "cantidades = len(prestamos)\n",
    "print(\"La cantidad de préstamos otorgados son: \", cantidades)"
   ]
  },
  {
   "cell_type": "code",
   "execution_count": 70,
   "metadata": {},
   "outputs": [
    {
     "name": "stdout",
     "output_type": "stream",
     "text": [
      "El promedio de préstamos es:  2915.67\n"
     ]
    }
   ],
   "source": [
    "promedio = sum(prestamos)/len(prestamos)\n",
    "print(\"El promedio de préstamos es: \", \"{:.2f}\".format(promedio))"
   ]
  },
  {
   "cell_type": "code",
   "execution_count": 71,
   "metadata": {},
   "outputs": [
    {
     "ename": "TypeError",
     "evalue": "unsupported operand type(s) for +: 'int' and 'str'",
     "output_type": "error",
     "traceback": [
      "\u001b[1;31m---------------------------------------------------------------------------\u001b[0m",
      "\u001b[1;31mTypeError\u001b[0m                                 Traceback (most recent call last)",
      "\u001b[1;32m<ipython-input-71-d2609baf8836>\u001b[0m in \u001b[0;36m<module>\u001b[1;34m\u001b[0m\n\u001b[1;32m----> 1\u001b[1;33m \u001b[0mtotal\u001b[0m \u001b[1;33m=\u001b[0m \u001b[0msum\u001b[0m\u001b[1;33m(\u001b[0m\u001b[0mpersonas\u001b[0m\u001b[1;33m)\u001b[0m\u001b[1;33m\u001b[0m\u001b[1;33m\u001b[0m\u001b[0m\n\u001b[0m\u001b[0;32m      2\u001b[0m \u001b[0mprint\u001b[0m\u001b[1;33m(\u001b[0m\u001b[0mtotal\u001b[0m\u001b[1;33m)\u001b[0m\u001b[1;33m\u001b[0m\u001b[1;33m\u001b[0m\u001b[0m\n",
      "\u001b[1;31mTypeError\u001b[0m: unsupported operand type(s) for +: 'int' and 'str'"
     ]
    }
   ],
   "source": [
    "total = sum(personas)\n",
    "print(total)"
   ]
  },
  {
   "cell_type": "markdown",
   "metadata": {},
   "source": [
    "# Listas paralelas"
   ]
  },
  {
   "cell_type": "code",
   "execution_count": 74,
   "metadata": {},
   "outputs": [
    {
     "name": "stdout",
     "output_type": "stream",
     "text": [
      "Juan 2300\n",
      "María 3214\n",
      "Andrés 3450\n",
      "Carlos 1980\n",
      "Vanessa 2020\n",
      "Lucía 4530\n"
     ]
    }
   ],
   "source": [
    "print( personas[0] , prestamos[0] )\n",
    "print( personas[1] , prestamos[1] )\n",
    "print( personas[2] , prestamos[2] )\n",
    "print( personas[3] , prestamos[3] )\n",
    "print( personas[4] , prestamos[4] )\n",
    "print( personas[5] , prestamos[5] )"
   ]
  },
  {
   "cell_type": "code",
   "execution_count": 76,
   "metadata": {},
   "outputs": [
    {
     "name": "stdout",
     "output_type": "stream",
     "text": [
      "Juan\n",
      "María\n",
      "Andrés\n",
      "Carlos\n",
      "Vanessa\n",
      "Lucía\n"
     ]
    }
   ],
   "source": [
    "for elemento in personas:\n",
    "    print(elemento)"
   ]
  },
  {
   "cell_type": "code",
   "execution_count": 78,
   "metadata": {},
   "outputs": [
    {
     "name": "stdout",
     "output_type": "stream",
     "text": [
      "2300\n",
      "3214\n",
      "3450\n",
      "1980\n",
      "2020\n",
      "4530\n"
     ]
    }
   ],
   "source": [
    "for elemento in prestamos:\n",
    "    print(elemento)"
   ]
  },
  {
   "cell_type": "code",
   "execution_count": 81,
   "metadata": {},
   "outputs": [
    {
     "name": "stdout",
     "output_type": "stream",
     "text": [
      "0 Juan 2300\n",
      "1 María 3214\n",
      "2 Andrés 3450\n",
      "3 Carlos 1980\n",
      "4 Vanessa 2020\n",
      "5 Lucía 4530\n"
     ]
    }
   ],
   "source": [
    "for indice in range(len(personas)):\n",
    "    print( indice, personas[indice], prestamos[indice] )"
   ]
  }
 ],
 "metadata": {
  "kernelspec": {
   "display_name": "Python 3",
   "language": "python",
   "name": "python3"
  },
  "language_info": {
   "codemirror_mode": {
    "name": "ipython",
    "version": 3
   },
   "file_extension": ".py",
   "mimetype": "text/x-python",
   "name": "python",
   "nbconvert_exporter": "python",
   "pygments_lexer": "ipython3",
   "version": "3.8.3"
  }
 },
 "nbformat": 4,
 "nbformat_minor": 4
}
