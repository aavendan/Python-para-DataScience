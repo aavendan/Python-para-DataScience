{
 "cells": [
  {
   "cell_type": "markdown",
   "id": "997d7afa",
   "metadata": {},
   "source": [
    "# Procesamiento de datasets con Numpy"
   ]
  },
  {
   "cell_type": "markdown",
   "id": "932ec1c4",
   "metadata": {},
   "source": [
    "## Ecommerce Wish"
   ]
  },
  {
   "cell_type": "markdown",
   "id": "70095237",
   "metadata": {},
   "source": [
    "Para la siguiente práctica, se tomó parte del dataset de las [ventas de productos de verano de E-commerce Wish](https://www.kaggle.com/jmmvutu/summer-products-and-sales-in-ecommerce-wish) que aparece en [Kaggle](https://www.kaggle.com/)."
   ]
  },
  {
   "cell_type": "code",
   "execution_count": 5,
   "id": "52d1f484",
   "metadata": {},
   "outputs": [],
   "source": [
    "# Importe numpy y matplotlib\n"
   ]
  },
  {
   "cell_type": "code",
   "execution_count": 7,
   "id": "e08faee8",
   "metadata": {},
   "outputs": [],
   "source": [
    "# Carga de datos desde un archivo \n",
    "# Referencia https://numpy.org/doc/stable/reference/generated/numpy.loadtxt.html\n",
    "\n",
    "nombres = np.loadtxt('summer_products/nombres.csv',encoding='utf-8', dtype='str', delimiter='\\n')"
   ]
  },
  {
   "cell_type": "code",
   "execution_count": 10,
   "id": "5dbd16af",
   "metadata": {},
   "outputs": [],
   "source": [
    "# Muestre los nombres de los 5 primeros productos\n"
   ]
  },
  {
   "cell_type": "code",
   "execution_count": 11,
   "id": "43c6d799",
   "metadata": {},
   "outputs": [],
   "source": [
    "# Cargue los datos de etiquetas.csv\n"
   ]
  },
  {
   "cell_type": "code",
   "execution_count": 13,
   "id": "00a81fe2",
   "metadata": {},
   "outputs": [],
   "source": [
    "# Muestre las dimensiones del arreglo con los datos de etiquetas.csv\n"
   ]
  },
  {
   "cell_type": "code",
   "execution_count": 14,
   "id": "6a7107fa",
   "metadata": {},
   "outputs": [],
   "source": [
    "# Muestre las etiquetas de los 5 últimos productos\n"
   ]
  },
  {
   "cell_type": "markdown",
   "id": "d03fe3a6",
   "metadata": {},
   "source": [
    "# Matrices"
   ]
  },
  {
   "cell_type": "code",
   "execution_count": 16,
   "id": "251b16a3",
   "metadata": {},
   "outputs": [],
   "source": [
    "# Cargue los datos en ventas.csv, con: genfromtxt\n",
    "# Referencia: https://numpy.org/doc/stable/reference/generated/numpy.genfromtxt.html\n",
    "\n"
   ]
  },
  {
   "cell_type": "code",
   "execution_count": 17,
   "id": "8ed499cb",
   "metadata": {},
   "outputs": [],
   "source": [
    "# Muestre los datos cargados en ventas.csv\n"
   ]
  },
  {
   "cell_type": "code",
   "execution_count": null,
   "id": "cbca681e",
   "metadata": {},
   "outputs": [],
   "source": [
    "# Muestre las dimensiones de la matriz con los datos de ventas.csv\n",
    "\n"
   ]
  },
  {
   "cell_type": "code",
   "execution_count": null,
   "id": "cf1be09f",
   "metadata": {},
   "outputs": [],
   "source": [
    "## suprmir la notación científica\n",
    "np.set_printoptions(suppress=True)"
   ]
  },
  {
   "cell_type": "raw",
   "id": "79a3b9f6",
   "metadata": {},
   "source": [
    "Las 8 columnas:  'precio', 'precio al por menor', 'unidades vendidas',  'votos por 5 estrellas', 'votos por 4 estrellas', 'votos por 3 estrellas','votos por 2 estrellas', 'votos por 1 estrella'\n",
    "Las 62 filas: productos"
   ]
  },
  {
   "cell_type": "code",
   "execution_count": null,
   "id": "e6a2e17b",
   "metadata": {},
   "outputs": [],
   "source": [
    "# Muestre el 'precio' de todos los productos\n"
   ]
  },
  {
   "cell_type": "code",
   "execution_count": 19,
   "id": "ab235fcf",
   "metadata": {},
   "outputs": [],
   "source": [
    "# Muestre las 'unidades vendidas' de todos los productos\n"
   ]
  },
  {
   "cell_type": "code",
   "execution_count": 21,
   "id": "93643b8d",
   "metadata": {},
   "outputs": [],
   "source": [
    "# Muestre todas las columnas del primer producto\n"
   ]
  },
  {
   "cell_type": "code",
   "execution_count": 23,
   "id": "699e5ada",
   "metadata": {},
   "outputs": [],
   "source": [
    "# Muestre todas las columnas del décimo producto\n"
   ]
  },
  {
   "cell_type": "code",
   "execution_count": 24,
   "id": "cfc1691d",
   "metadata": {},
   "outputs": [],
   "source": [
    "# Muestre todas las columnas de los diez primeros productos\n"
   ]
  },
  {
   "cell_type": "code",
   "execution_count": 25,
   "id": "da45a6b7",
   "metadata": {},
   "outputs": [],
   "source": [
    "# Muestre todas las columnas de los diez últimos productos\n"
   ]
  },
  {
   "cell_type": "markdown",
   "id": "f5fdd668",
   "metadata": {},
   "source": [
    "# Ejercicio\n",
    "* Muestre las estrellas recibidas y el nombre del producto en el indice 34\n",
    "* Muestre el precio y el precio al por menor del producto con el nombre'Summer Fashion Dabbing Pug T-Shirt Newest Men Funny T Shirts Tops Hip Hop Tee'"
   ]
  },
  {
   "cell_type": "code",
   "execution_count": null,
   "id": "70fab725",
   "metadata": {},
   "outputs": [],
   "source": []
  },
  {
   "cell_type": "markdown",
   "id": "39bcb4cd",
   "metadata": {},
   "source": [
    "## Operaciones\n",
    "### Puntuación total"
   ]
  },
  {
   "cell_type": "markdown",
   "id": "28bf4831",
   "metadata": {},
   "source": [
    "La **puntuación total** de un producto resulta al multiplicar **los votos por estrella** y **el número de estrellas**, por ejemplo:\n",
    "\n",
    "| 5 estrellas | 4 estrellas | 3 estrellas | 2 estrellas | 1 estrella |\n",
    "|-------------|-------------|-------------|-------------|------------|\n",
    "|      2      |      1      |      0      |      3      |     10     |\n",
    "\n",
    "total = 2\\***5** + 1\\***4** + 0\\***3** + 3\\***2** + 10\\***1**\n",
    "\n",
    "total = 30"
   ]
  },
  {
   "cell_type": "markdown",
   "id": "7ad5d39f",
   "metadata": {},
   "source": [
    "## Ejercicio\n",
    "\n",
    "Muestre la calificación total del producto con el índice 5"
   ]
  },
  {
   "cell_type": "code",
   "execution_count": null,
   "id": "787b8688",
   "metadata": {},
   "outputs": [],
   "source": []
  }
 ],
 "metadata": {
  "kernelspec": {
   "display_name": "Python 3 (ipykernel)",
   "language": "python",
   "name": "python3"
  },
  "language_info": {
   "codemirror_mode": {
    "name": "ipython",
    "version": 3
   },
   "file_extension": ".py",
   "mimetype": "text/x-python",
   "name": "python",
   "nbconvert_exporter": "python",
   "pygments_lexer": "ipython3",
   "version": "3.9.5"
  }
 },
 "nbformat": 4,
 "nbformat_minor": 5
}
