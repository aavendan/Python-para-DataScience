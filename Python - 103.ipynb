{
 "cells": [
  {
   "cell_type": "markdown",
   "id": "997d7afa",
   "metadata": {},
   "source": [
    "# Procesamiento de datasets con Numpy"
   ]
  },
  {
   "cell_type": "markdown",
   "id": "932ec1c4",
   "metadata": {},
   "source": [
    "## Ecommerce Wish"
   ]
  },
  {
   "cell_type": "markdown",
   "id": "70095237",
   "metadata": {},
   "source": [
    "Para la siguiente práctica, se tomó parte del dataset de las [ventas de productos de verano de E-commerce Wish](https://www.kaggle.com/jmmvutu/summer-products-and-sales-in-ecommerce-wish) que aparece en [Kaggle](https://www.kaggle.com/)."
   ]
  },
  {
   "cell_type": "code",
   "execution_count": 1,
   "id": "52d1f484",
   "metadata": {},
   "outputs": [],
   "source": [
    "# Importe numpy y matplotlib\n",
    "import numpy as np\n",
    "import matplotlib.pyplot as pt"
   ]
  },
  {
   "cell_type": "code",
   "execution_count": 2,
   "id": "e08faee8",
   "metadata": {},
   "outputs": [],
   "source": [
    "# Carga de datos desde un archivo \n",
    "# Referencia https://numpy.org/doc/stable/reference/generated/numpy.loadtxt.html\n",
    "\n",
    "nombres = np.loadtxt('summer_products/nombres.csv',encoding='utf-8', dtype='str', delimiter='\\n')"
   ]
  },
  {
   "cell_type": "code",
   "execution_count": 3,
   "id": "5dbd16af",
   "metadata": {},
   "outputs": [
    {
     "data": {
      "text/plain": [
       "array([\"5 Color Women's Fashion Summer Slim Sleeveless Camouflage Print Dress High Waist Lace Up Casual Pocket Mini Dresses Plus Size S-5XL\",\n",
       "       'Sexy Solid Ruffled Chiffon Sling Top Pure Color Women Summer Tank Top Plus Size',\n",
       "       'Women Fashion Short Jumpsuit Spaghetti Strap Sleeveless Rompers Summer One Piece Set Casual Summer Outfits',\n",
       "       '2018 New Fashion Women Casual Playsuit Ladies Jumpsuit Romper Summer Floral Playsuit Brand New (3 Colors)',\n",
       "       'Summer Fashion Women Round Neck Sleeveless Pure Color Casual Pocket Dress'],\n",
       "      dtype='<U181')"
      ]
     },
     "execution_count": 3,
     "metadata": {},
     "output_type": "execute_result"
    }
   ],
   "source": [
    "# Muestre los nombres de los 5 primeros productos\n",
    "nombres[:5]"
   ]
  },
  {
   "cell_type": "code",
   "execution_count": 4,
   "id": "43c6d799",
   "metadata": {},
   "outputs": [],
   "source": [
    "# Cargue los datos de etiquetas.csv\n",
    "etiquetas = np.loadtxt('summer_products/etiquetas.csv',encoding='utf-8', dtype='str', delimiter='\\n')"
   ]
  },
  {
   "cell_type": "code",
   "execution_count": 5,
   "id": "00a81fe2",
   "metadata": {},
   "outputs": [
    {
     "data": {
      "text/plain": [
       "(62,)"
      ]
     },
     "execution_count": 5,
     "metadata": {},
     "output_type": "execute_result"
    }
   ],
   "source": [
    "# Muestre las dimensiones del arreglo con los datos de etiquetas.csv\n",
    "etiquetas.shape"
   ]
  },
  {
   "cell_type": "code",
   "execution_count": 6,
   "id": "6a7107fa",
   "metadata": {},
   "outputs": [
    {
     "data": {
      "text/plain": [
       "array(['\"bohemia,Summer,Plus Size,Loose,tank top,Women\\'s Fashion,Fashion,sleeveless tops,Summer Fashion,Casual,Cotton,blouse,beachtshirt,Tank,Shirt,Tops,boho,women shirt,sleeveless,Women,Beach,printed\"',\n",
       "       '\"Fashion,Shirt,women dresses,Long Sleeve,plus size dress,Dress,pulloverdres,Women\\'s Fashion,Midi Dress,maxi dress,kaftandres,plaidchecked\"',\n",
       "       '\"Panties,sport pants,skinny pants,Casual pants,pants,yoga pants,Women\\'s Fashion,Long pants,trousersforwomen,trousers,Sports Pants,women trousers,Yoga,Sport,Casual,trouserswomen,Women\"',\n",
       "       '\"blouse,Summer,Fashion,Tops,kimono,Casual,Jacket,cardigan,Floral,sexy,summer tops\"',\n",
       "       '\"Summer,trousers,Floral print,Fashion,Print,Long pants,Women Clothing,Floral,sleeveless,sexy jumpsuit,Jumpers,Clothing,Rompers,jumpsuit\"'],\n",
       "      dtype='<U368')"
      ]
     },
     "execution_count": 6,
     "metadata": {},
     "output_type": "execute_result"
    }
   ],
   "source": [
    "# Muestre las etiquetas de los 5 últimos productos\n",
    "etiquetas[-5:]"
   ]
  },
  {
   "cell_type": "markdown",
   "id": "d03fe3a6",
   "metadata": {},
   "source": [
    "# Matrices"
   ]
  },
  {
   "cell_type": "code",
   "execution_count": 16,
   "id": "251b16a3",
   "metadata": {},
   "outputs": [],
   "source": [
    "# Cargue los datos en ventas.csv, con: genfromtxt\n",
    "# Referencia: https://numpy.org/doc/stable/reference/generated/numpy.genfromtxt.html\n",
    "\n",
    "ventas = np.genfromtxt('summer_products/ventas.csv', delimiter=',', dtype='float')"
   ]
  },
  {
   "cell_type": "code",
   "execution_count": 17,
   "id": "8ed499cb",
   "metadata": {},
   "outputs": [
    {
     "data": {
      "text/plain": [
       "array([[   13.  ,    13.  ,  1000.  ,    82.  ,    27.  ,    10.  ,\n",
       "            7.  ,    12.  ],\n",
       "       [    9.  ,     8.  ,  5000.  ,   400.  ,   142.  ,   103.  ,\n",
       "           45.  ,    53.  ],\n",
       "       [    7.  ,     6.  ,   100.  ,    30.  ,    14.  ,     5.  ,\n",
       "            1.  ,     3.  ],\n",
       "       [   11.  ,    10.  ,  5000.  ,   447.  ,   201.  ,   135.  ,\n",
       "           81.  ,   144.  ],\n",
       "       [    7.  ,     9.  ,  1000.  ,   101.  ,    36.  ,    38.  ,\n",
       "           15.  ,    29.  ],\n",
       "       [   11.  ,    89.  ,   100.  ,     8.  ,     5.  ,     6.  ,\n",
       "            0.  ,     5.  ],\n",
       "       [   19.  ,    21.  ,  5000.  ,   897.  ,   289.  ,   149.  ,\n",
       "           74.  ,   152.  ],\n",
       "       [   11.  ,    10.  ,  1000.  ,   103.  ,    59.  ,    33.  ,\n",
       "            7.  ,    19.  ],\n",
       "       [   11.  ,    10.  , 20000.  ,   985.  ,   356.  ,   320.  ,\n",
       "          156.  ,   343.  ],\n",
       "       [    8.  ,     7.  ,   100.  ,     9.  ,     7.  ,     2.  ,\n",
       "            0.  ,     3.  ],\n",
       "       [   13.  ,    25.  ,   100.  ,    29.  ,    16.  ,    10.  ,\n",
       "            7.  ,    17.  ],\n",
       "       [   11.  ,   106.  , 20000.  ,  4974.  ,  2091.  ,  1409.  ,\n",
       "          655.  ,  1021.  ],\n",
       "       [    2.66,     3.  ,   100.  ,     1.  ,     4.  ,     2.  ,\n",
       "            0.  ,     5.  ],\n",
       "       [    3.67,     9.  ,  5000.  ,   181.  ,    83.  ,    77.  ,\n",
       "           58.  ,   111.  ],\n",
       "       [   12.  ,    11.  , 10000.  ,  1950.  ,   776.  ,   428.  ,\n",
       "          184.  ,   222.  ],\n",
       "       [    7.  ,     6.  ,   100.  ,     7.  ,     3.  ,     5.  ,\n",
       "            1.  ,     2.  ],\n",
       "       [    4.73,     7.  ,   100.  ,    57.  ,    16.  ,     6.  ,\n",
       "            4.  ,     3.  ],\n",
       "       [   11.  ,    37.  , 20000.  ,  2679.  ,  1403.  ,  1317.  ,\n",
       "          793.  ,  1404.  ],\n",
       "       [   11.  ,    10.  ,   100.  ,     5.  ,     3.  ,     1.  ,\n",
       "            2.  ,     2.  ],\n",
       "       [    7.  ,     6.  ,   100.  ,    19.  ,    12.  ,     6.  ,\n",
       "            4.  ,     6.  ],\n",
       "       [    5.  ,     5.  ,  1000.  ,    80.  ,    44.  ,    57.  ,\n",
       "           23.  ,    48.  ],\n",
       "       [   11.  ,    10.  ,  1000.  ,    23.  ,    11.  ,    10.  ,\n",
       "            3.  ,     7.  ],\n",
       "       [    7.  ,     6.  ,  1000.  ,    44.  ,    29.  ,    21.  ,\n",
       "           17.  ,    30.  ],\n",
       "       [   11.  ,   250.  , 20000.  ,  1342.  ,   691.  ,   618.  ,\n",
       "          301.  ,   445.  ],\n",
       "       [    8.  ,     7.  , 10000.  ,   705.  ,   296.  ,   162.  ,\n",
       "           79.  ,    70.  ],\n",
       "       [    9.  ,     8.  ,  1000.  ,    40.  ,    12.  ,    10.  ,\n",
       "           11.  ,    26.  ],\n",
       "       [    9.  ,    38.  ,  1000.  ,   216.  ,    64.  ,    16.  ,\n",
       "            9.  ,     7.  ],\n",
       "       [    5.74,     5.  ,   100.  ,    24.  ,     6.  ,    11.  ,\n",
       "            2.  ,    15.  ],\n",
       "       [    9.  ,     8.  , 10000.  ,   894.  ,   303.  ,   224.  ,\n",
       "           92.  ,   129.  ],\n",
       "       [   11.  ,    84.  ,   100.  ,    23.  ,     9.  ,     8.  ,\n",
       "            3.  ,    13.  ],\n",
       "       [   12.  ,    11.  ,  1000.  ,   189.  ,   101.  ,    59.  ,\n",
       "           30.  ,    49.  ],\n",
       "       [    5.74,     5.  , 10000.  ,   981.  ,   434.  ,   368.  ,\n",
       "          220.  ,   363.  ],\n",
       "       [   12.  ,    11.  , 20000.  ,   932.  ,   422.  ,   317.  ,\n",
       "          151.  ,   244.  ],\n",
       "       [    7.  ,     6.  ,  1000.  ,   121.  ,    43.  ,    24.  ,\n",
       "            8.  ,    11.  ],\n",
       "       [    3.  ,     3.  ,   100.  ,    22.  ,    13.  ,     6.  ,\n",
       "            4.  ,     2.  ],\n",
       "       [    6.  ,    21.  ,  5000.  ,   174.  ,    96.  ,    97.  ,\n",
       "           69.  ,   137.  ],\n",
       "       [    9.  ,    21.  ,   100.  ,    17.  ,    10.  ,     6.  ,\n",
       "            8.  ,     6.  ],\n",
       "       [    7.  ,     7.  ,  1000.  ,   330.  ,   128.  ,    90.  ,\n",
       "           34.  ,    54.  ],\n",
       "       [    8.  ,     7.  ,   100.  ,    33.  ,    10.  ,     4.  ,\n",
       "            2.  ,     5.  ],\n",
       "       [    2.  ,     2.  ,  1000.  ,    50.  ,    14.  ,     6.  ,\n",
       "            4.  ,     7.  ],\n",
       "       [   11.  ,    14.  , 20000.  ,  3689.  ,  1502.  ,  1160.  ,\n",
       "          592.  ,  1086.  ],\n",
       "       [   12.  ,    31.  ,  1000.  ,   178.  ,    56.  ,    41.  ,\n",
       "           24.  ,    45.  ],\n",
       "       [    8.  ,     7.  ,  1000.  ,    27.  ,    12.  ,     6.  ,\n",
       "            2.  ,     7.  ],\n",
       "       [    3.86,     4.  ,   100.  ,     9.  ,     4.  ,     2.  ,\n",
       "            5.  ,     3.  ],\n",
       "       [    1.86,     2.  ,  1000.  ,    20.  ,     2.  ,     5.  ,\n",
       "            4.  ,     5.  ],\n",
       "       [    9.  ,     8.  ,  1000.  ,    32.  ,    20.  ,    26.  ,\n",
       "           12.  ,    34.  ],\n",
       "       [    7.  ,    30.  ,  1000.  ,    64.  ,    25.  ,    30.  ,\n",
       "           18.  ,    42.  ],\n",
       "       [   12.  ,    17.  ,  1000.  ,    60.  ,    20.  ,    13.  ,\n",
       "            5.  ,     5.  ],\n",
       "       [    5.  ,     5.  ,  5000.  ,   326.  ,   170.  ,   193.  ,\n",
       "          125.  ,   199.  ],\n",
       "       [   12.  ,   168.  ,  5000.  ,   288.  ,   113.  ,    60.  ,\n",
       "           26.  ,    42.  ],\n",
       "       [    7.  ,     6.  ,  1000.  ,    77.  ,    44.  ,    39.  ,\n",
       "           19.  ,    66.  ],\n",
       "       [    5.  ,     5.  ,  1000.  ,    33.  ,    13.  ,    10.  ,\n",
       "           11.  ,    35.  ],\n",
       "       [    7.  ,     7.  , 10000.  ,   550.  ,   257.  ,   171.  ,\n",
       "           86.  ,   129.  ],\n",
       "       [    5.65,     6.  ,  1000.  ,    86.  ,    26.  ,    28.  ,\n",
       "            8.  ,    16.  ],\n",
       "       [    8.  ,     7.  ,   100.  ,     9.  ,     2.  ,     1.  ,\n",
       "            1.  ,     6.  ],\n",
       "       [    8.  ,     7.  ,  1000.  ,    34.  ,    14.  ,    18.  ,\n",
       "           12.  ,    16.  ],\n",
       "       [   16.  ,    34.  ,  5000.  ,   976.  ,   328.  ,   162.  ,\n",
       "           70.  ,    76.  ],\n",
       "       [    7.  ,    13.  ,  1000.  ,    25.  ,     8.  ,    10.  ,\n",
       "            4.  ,     7.  ],\n",
       "       [   16.  ,   108.  , 10000.  ,   905.  ,   313.  ,   169.  ,\n",
       "           63.  ,    74.  ],\n",
       "       [    6.  ,     7.  , 10000.  ,   537.  ,   264.  ,   187.  ,\n",
       "           91.  ,   159.  ],\n",
       "       [   11.  ,    18.  , 20000.  ,  3125.  ,  1205.  ,   838.  ,\n",
       "          305.  ,   286.  ],\n",
       "       [   13.  ,    11.  , 10000.  ,  1573.  ,   606.  ,   399.  ,\n",
       "          135.  ,   188.  ]])"
      ]
     },
     "execution_count": 17,
     "metadata": {},
     "output_type": "execute_result"
    }
   ],
   "source": [
    "# Muestre los datos cargados en ventas.csv\n",
    "ventas"
   ]
  },
  {
   "cell_type": "code",
   "execution_count": 18,
   "id": "cbca681e",
   "metadata": {},
   "outputs": [
    {
     "data": {
      "text/plain": [
       "(62, 8)"
      ]
     },
     "execution_count": 18,
     "metadata": {},
     "output_type": "execute_result"
    }
   ],
   "source": [
    "# Muestre las dimensiones de la matriz con los datos de ventas.csv\n",
    "\n",
    "ventas.shape"
   ]
  },
  {
   "cell_type": "code",
   "execution_count": 20,
   "id": "cf1be09f",
   "metadata": {},
   "outputs": [],
   "source": [
    "## suprimir la notación científica\n",
    "np.set_printoptions(suppress=True)"
   ]
  },
  {
   "cell_type": "code",
   "execution_count": 21,
   "id": "de57f6c6",
   "metadata": {},
   "outputs": [
    {
     "data": {
      "text/plain": [
       "array([[   13.  ,    13.  ,  1000.  ,    82.  ,    27.  ,    10.  ,\n",
       "            7.  ,    12.  ],\n",
       "       [    9.  ,     8.  ,  5000.  ,   400.  ,   142.  ,   103.  ,\n",
       "           45.  ,    53.  ],\n",
       "       [    7.  ,     6.  ,   100.  ,    30.  ,    14.  ,     5.  ,\n",
       "            1.  ,     3.  ],\n",
       "       [   11.  ,    10.  ,  5000.  ,   447.  ,   201.  ,   135.  ,\n",
       "           81.  ,   144.  ],\n",
       "       [    7.  ,     9.  ,  1000.  ,   101.  ,    36.  ,    38.  ,\n",
       "           15.  ,    29.  ],\n",
       "       [   11.  ,    89.  ,   100.  ,     8.  ,     5.  ,     6.  ,\n",
       "            0.  ,     5.  ],\n",
       "       [   19.  ,    21.  ,  5000.  ,   897.  ,   289.  ,   149.  ,\n",
       "           74.  ,   152.  ],\n",
       "       [   11.  ,    10.  ,  1000.  ,   103.  ,    59.  ,    33.  ,\n",
       "            7.  ,    19.  ],\n",
       "       [   11.  ,    10.  , 20000.  ,   985.  ,   356.  ,   320.  ,\n",
       "          156.  ,   343.  ],\n",
       "       [    8.  ,     7.  ,   100.  ,     9.  ,     7.  ,     2.  ,\n",
       "            0.  ,     3.  ],\n",
       "       [   13.  ,    25.  ,   100.  ,    29.  ,    16.  ,    10.  ,\n",
       "            7.  ,    17.  ],\n",
       "       [   11.  ,   106.  , 20000.  ,  4974.  ,  2091.  ,  1409.  ,\n",
       "          655.  ,  1021.  ],\n",
       "       [    2.66,     3.  ,   100.  ,     1.  ,     4.  ,     2.  ,\n",
       "            0.  ,     5.  ],\n",
       "       [    3.67,     9.  ,  5000.  ,   181.  ,    83.  ,    77.  ,\n",
       "           58.  ,   111.  ],\n",
       "       [   12.  ,    11.  , 10000.  ,  1950.  ,   776.  ,   428.  ,\n",
       "          184.  ,   222.  ],\n",
       "       [    7.  ,     6.  ,   100.  ,     7.  ,     3.  ,     5.  ,\n",
       "            1.  ,     2.  ],\n",
       "       [    4.73,     7.  ,   100.  ,    57.  ,    16.  ,     6.  ,\n",
       "            4.  ,     3.  ],\n",
       "       [   11.  ,    37.  , 20000.  ,  2679.  ,  1403.  ,  1317.  ,\n",
       "          793.  ,  1404.  ],\n",
       "       [   11.  ,    10.  ,   100.  ,     5.  ,     3.  ,     1.  ,\n",
       "            2.  ,     2.  ],\n",
       "       [    7.  ,     6.  ,   100.  ,    19.  ,    12.  ,     6.  ,\n",
       "            4.  ,     6.  ],\n",
       "       [    5.  ,     5.  ,  1000.  ,    80.  ,    44.  ,    57.  ,\n",
       "           23.  ,    48.  ],\n",
       "       [   11.  ,    10.  ,  1000.  ,    23.  ,    11.  ,    10.  ,\n",
       "            3.  ,     7.  ],\n",
       "       [    7.  ,     6.  ,  1000.  ,    44.  ,    29.  ,    21.  ,\n",
       "           17.  ,    30.  ],\n",
       "       [   11.  ,   250.  , 20000.  ,  1342.  ,   691.  ,   618.  ,\n",
       "          301.  ,   445.  ],\n",
       "       [    8.  ,     7.  , 10000.  ,   705.  ,   296.  ,   162.  ,\n",
       "           79.  ,    70.  ],\n",
       "       [    9.  ,     8.  ,  1000.  ,    40.  ,    12.  ,    10.  ,\n",
       "           11.  ,    26.  ],\n",
       "       [    9.  ,    38.  ,  1000.  ,   216.  ,    64.  ,    16.  ,\n",
       "            9.  ,     7.  ],\n",
       "       [    5.74,     5.  ,   100.  ,    24.  ,     6.  ,    11.  ,\n",
       "            2.  ,    15.  ],\n",
       "       [    9.  ,     8.  , 10000.  ,   894.  ,   303.  ,   224.  ,\n",
       "           92.  ,   129.  ],\n",
       "       [   11.  ,    84.  ,   100.  ,    23.  ,     9.  ,     8.  ,\n",
       "            3.  ,    13.  ],\n",
       "       [   12.  ,    11.  ,  1000.  ,   189.  ,   101.  ,    59.  ,\n",
       "           30.  ,    49.  ],\n",
       "       [    5.74,     5.  , 10000.  ,   981.  ,   434.  ,   368.  ,\n",
       "          220.  ,   363.  ],\n",
       "       [   12.  ,    11.  , 20000.  ,   932.  ,   422.  ,   317.  ,\n",
       "          151.  ,   244.  ],\n",
       "       [    7.  ,     6.  ,  1000.  ,   121.  ,    43.  ,    24.  ,\n",
       "            8.  ,    11.  ],\n",
       "       [    3.  ,     3.  ,   100.  ,    22.  ,    13.  ,     6.  ,\n",
       "            4.  ,     2.  ],\n",
       "       [    6.  ,    21.  ,  5000.  ,   174.  ,    96.  ,    97.  ,\n",
       "           69.  ,   137.  ],\n",
       "       [    9.  ,    21.  ,   100.  ,    17.  ,    10.  ,     6.  ,\n",
       "            8.  ,     6.  ],\n",
       "       [    7.  ,     7.  ,  1000.  ,   330.  ,   128.  ,    90.  ,\n",
       "           34.  ,    54.  ],\n",
       "       [    8.  ,     7.  ,   100.  ,    33.  ,    10.  ,     4.  ,\n",
       "            2.  ,     5.  ],\n",
       "       [    2.  ,     2.  ,  1000.  ,    50.  ,    14.  ,     6.  ,\n",
       "            4.  ,     7.  ],\n",
       "       [   11.  ,    14.  , 20000.  ,  3689.  ,  1502.  ,  1160.  ,\n",
       "          592.  ,  1086.  ],\n",
       "       [   12.  ,    31.  ,  1000.  ,   178.  ,    56.  ,    41.  ,\n",
       "           24.  ,    45.  ],\n",
       "       [    8.  ,     7.  ,  1000.  ,    27.  ,    12.  ,     6.  ,\n",
       "            2.  ,     7.  ],\n",
       "       [    3.86,     4.  ,   100.  ,     9.  ,     4.  ,     2.  ,\n",
       "            5.  ,     3.  ],\n",
       "       [    1.86,     2.  ,  1000.  ,    20.  ,     2.  ,     5.  ,\n",
       "            4.  ,     5.  ],\n",
       "       [    9.  ,     8.  ,  1000.  ,    32.  ,    20.  ,    26.  ,\n",
       "           12.  ,    34.  ],\n",
       "       [    7.  ,    30.  ,  1000.  ,    64.  ,    25.  ,    30.  ,\n",
       "           18.  ,    42.  ],\n",
       "       [   12.  ,    17.  ,  1000.  ,    60.  ,    20.  ,    13.  ,\n",
       "            5.  ,     5.  ],\n",
       "       [    5.  ,     5.  ,  5000.  ,   326.  ,   170.  ,   193.  ,\n",
       "          125.  ,   199.  ],\n",
       "       [   12.  ,   168.  ,  5000.  ,   288.  ,   113.  ,    60.  ,\n",
       "           26.  ,    42.  ],\n",
       "       [    7.  ,     6.  ,  1000.  ,    77.  ,    44.  ,    39.  ,\n",
       "           19.  ,    66.  ],\n",
       "       [    5.  ,     5.  ,  1000.  ,    33.  ,    13.  ,    10.  ,\n",
       "           11.  ,    35.  ],\n",
       "       [    7.  ,     7.  , 10000.  ,   550.  ,   257.  ,   171.  ,\n",
       "           86.  ,   129.  ],\n",
       "       [    5.65,     6.  ,  1000.  ,    86.  ,    26.  ,    28.  ,\n",
       "            8.  ,    16.  ],\n",
       "       [    8.  ,     7.  ,   100.  ,     9.  ,     2.  ,     1.  ,\n",
       "            1.  ,     6.  ],\n",
       "       [    8.  ,     7.  ,  1000.  ,    34.  ,    14.  ,    18.  ,\n",
       "           12.  ,    16.  ],\n",
       "       [   16.  ,    34.  ,  5000.  ,   976.  ,   328.  ,   162.  ,\n",
       "           70.  ,    76.  ],\n",
       "       [    7.  ,    13.  ,  1000.  ,    25.  ,     8.  ,    10.  ,\n",
       "            4.  ,     7.  ],\n",
       "       [   16.  ,   108.  , 10000.  ,   905.  ,   313.  ,   169.  ,\n",
       "           63.  ,    74.  ],\n",
       "       [    6.  ,     7.  , 10000.  ,   537.  ,   264.  ,   187.  ,\n",
       "           91.  ,   159.  ],\n",
       "       [   11.  ,    18.  , 20000.  ,  3125.  ,  1205.  ,   838.  ,\n",
       "          305.  ,   286.  ],\n",
       "       [   13.  ,    11.  , 10000.  ,  1573.  ,   606.  ,   399.  ,\n",
       "          135.  ,   188.  ]])"
      ]
     },
     "execution_count": 21,
     "metadata": {},
     "output_type": "execute_result"
    }
   ],
   "source": [
    "ventas"
   ]
  },
  {
   "cell_type": "raw",
   "id": "79a3b9f6",
   "metadata": {},
   "source": [
    "Las 8 columnas:  'precio', 'precio al por menor', 'unidades vendidas',  'votos por 5 estrellas', 'votos por 4 estrellas', 'votos por 3 estrellas','votos por 2 estrellas', 'votos por 1 estrella'\n",
    "Las 62 filas: productos"
   ]
  },
  {
   "cell_type": "code",
   "execution_count": 23,
   "id": "e6a2e17b",
   "metadata": {},
   "outputs": [
    {
     "data": {
      "text/plain": [
       "array([13.  ,  9.  ,  7.  , 11.  ,  7.  , 11.  , 19.  , 11.  , 11.  ,\n",
       "        8.  , 13.  , 11.  ,  2.66,  3.67, 12.  ,  7.  ,  4.73, 11.  ,\n",
       "       11.  ,  7.  ,  5.  , 11.  ,  7.  , 11.  ,  8.  ,  9.  ,  9.  ,\n",
       "        5.74,  9.  , 11.  , 12.  ,  5.74, 12.  ,  7.  ,  3.  ,  6.  ,\n",
       "        9.  ,  7.  ,  8.  ,  2.  , 11.  , 12.  ,  8.  ,  3.86,  1.86,\n",
       "        9.  ,  7.  , 12.  ,  5.  , 12.  ,  7.  ,  5.  ,  7.  ,  5.65,\n",
       "        8.  ,  8.  , 16.  ,  7.  , 16.  ,  6.  , 11.  , 13.  ])"
      ]
     },
     "execution_count": 23,
     "metadata": {},
     "output_type": "execute_result"
    }
   ],
   "source": [
    "# Muestre el 'precio' de todos los productos\n",
    "ventas[ : , 0 ]"
   ]
  },
  {
   "cell_type": "code",
   "execution_count": 26,
   "id": "ab235fcf",
   "metadata": {},
   "outputs": [
    {
     "data": {
      "text/plain": [
       "array([ 1000.,  5000.,   100.,  5000.,  1000.,   100.,  5000.,  1000.,\n",
       "       20000.,   100.,   100., 20000.,   100.,  5000., 10000.,   100.,\n",
       "         100., 20000.,   100.,   100.,  1000.,  1000.,  1000., 20000.,\n",
       "       10000.,  1000.,  1000.,   100., 10000.,   100.,  1000., 10000.,\n",
       "       20000.,  1000.,   100.,  5000.,   100.,  1000.,   100.,  1000.,\n",
       "       20000.,  1000.,  1000.,   100.,  1000.,  1000.,  1000.,  1000.,\n",
       "        5000.,  5000.,  1000.,  1000., 10000.,  1000.,   100.,  1000.,\n",
       "        5000.,  1000., 10000., 10000., 20000., 10000.])"
      ]
     },
     "execution_count": 26,
     "metadata": {},
     "output_type": "execute_result"
    }
   ],
   "source": [
    "# Muestre las 'unidades vendidas' de todos los productos\n",
    "ventas[ : , 2 ]"
   ]
  },
  {
   "cell_type": "code",
   "execution_count": 29,
   "id": "93643b8d",
   "metadata": {},
   "outputs": [
    {
     "data": {
      "text/plain": [
       "array([  13.,   13., 1000.,   82.,   27.,   10.,    7.,   12.])"
      ]
     },
     "execution_count": 29,
     "metadata": {},
     "output_type": "execute_result"
    }
   ],
   "source": [
    "# Muestre todas las columnas del primer producto\n",
    "ventas[0,:]"
   ]
  },
  {
   "cell_type": "code",
   "execution_count": 31,
   "id": "699e5ada",
   "metadata": {},
   "outputs": [
    {
     "data": {
      "text/plain": [
       "array([  8.,   7., 100.,   9.,   7.,   2.,   0.,   3.])"
      ]
     },
     "execution_count": 31,
     "metadata": {},
     "output_type": "execute_result"
    }
   ],
   "source": [
    "# Muestre todas las columnas del décimo producto\n",
    "ventas[9,:]"
   ]
  },
  {
   "cell_type": "code",
   "execution_count": 32,
   "id": "cfc1691d",
   "metadata": {},
   "outputs": [
    {
     "data": {
      "text/plain": [
       "array([[   13.,    13.,  1000.,    82.,    27.,    10.,     7.,    12.],\n",
       "       [    9.,     8.,  5000.,   400.,   142.,   103.,    45.,    53.],\n",
       "       [    7.,     6.,   100.,    30.,    14.,     5.,     1.,     3.],\n",
       "       [   11.,    10.,  5000.,   447.,   201.,   135.,    81.,   144.],\n",
       "       [    7.,     9.,  1000.,   101.,    36.,    38.,    15.,    29.],\n",
       "       [   11.,    89.,   100.,     8.,     5.,     6.,     0.,     5.],\n",
       "       [   19.,    21.,  5000.,   897.,   289.,   149.,    74.,   152.],\n",
       "       [   11.,    10.,  1000.,   103.,    59.,    33.,     7.,    19.],\n",
       "       [   11.,    10., 20000.,   985.,   356.,   320.,   156.,   343.],\n",
       "       [    8.,     7.,   100.,     9.,     7.,     2.,     0.,     3.]])"
      ]
     },
     "execution_count": 32,
     "metadata": {},
     "output_type": "execute_result"
    }
   ],
   "source": [
    "# Muestre todas las columnas de los diez primeros productos\n",
    "ventas[:10,:]"
   ]
  },
  {
   "cell_type": "code",
   "execution_count": 35,
   "id": "da45a6b7",
   "metadata": {},
   "outputs": [
    {
     "data": {
      "text/plain": [
       "array([[    7.  ,     7.  , 10000.  ,   550.  ,   257.  ,   171.  ,\n",
       "           86.  ,   129.  ],\n",
       "       [    5.65,     6.  ,  1000.  ,    86.  ,    26.  ,    28.  ,\n",
       "            8.  ,    16.  ],\n",
       "       [    8.  ,     7.  ,   100.  ,     9.  ,     2.  ,     1.  ,\n",
       "            1.  ,     6.  ],\n",
       "       [    8.  ,     7.  ,  1000.  ,    34.  ,    14.  ,    18.  ,\n",
       "           12.  ,    16.  ],\n",
       "       [   16.  ,    34.  ,  5000.  ,   976.  ,   328.  ,   162.  ,\n",
       "           70.  ,    76.  ],\n",
       "       [    7.  ,    13.  ,  1000.  ,    25.  ,     8.  ,    10.  ,\n",
       "            4.  ,     7.  ],\n",
       "       [   16.  ,   108.  , 10000.  ,   905.  ,   313.  ,   169.  ,\n",
       "           63.  ,    74.  ],\n",
       "       [    6.  ,     7.  , 10000.  ,   537.  ,   264.  ,   187.  ,\n",
       "           91.  ,   159.  ],\n",
       "       [   11.  ,    18.  , 20000.  ,  3125.  ,  1205.  ,   838.  ,\n",
       "          305.  ,   286.  ],\n",
       "       [   13.  ,    11.  , 10000.  ,  1573.  ,   606.  ,   399.  ,\n",
       "          135.  ,   188.  ]])"
      ]
     },
     "execution_count": 35,
     "metadata": {},
     "output_type": "execute_result"
    }
   ],
   "source": [
    "# Muestre todas las columnas de los diez últimos productos\n",
    "ventas[-10:,:]"
   ]
  },
  {
   "cell_type": "markdown",
   "id": "f5fdd668",
   "metadata": {},
   "source": [
    "# Ejercicio\n",
    "* Muestre las estrellas recibidas y el nombre del producto en el indice 34\n",
    "* Muestre el precio y el precio al por menor del producto con el nombre'Summer Fashion Dabbing Pug T-Shirt Newest Men Funny T Shirts Tops Hip Hop Tee'"
   ]
  },
  {
   "cell_type": "code",
   "execution_count": 38,
   "id": "70fab725",
   "metadata": {},
   "outputs": [
    {
     "data": {
      "text/plain": [
       "('Women Fashion Casual Thai Harem Trousers Summer Hippy High Waist Pants Loose Yoga Pants',\n",
       " array([22., 13.,  6.,  4.,  2.]))"
      ]
     },
     "execution_count": 38,
     "metadata": {},
     "output_type": "execute_result"
    }
   ],
   "source": [
    "nombres[34], ventas[34, 3:]"
   ]
  },
  {
   "cell_type": "code",
   "execution_count": 49,
   "id": "586dbaaf",
   "metadata": {},
   "outputs": [
    {
     "data": {
      "text/plain": [
       "(array([26], dtype=int64),)"
      ]
     },
     "execution_count": 49,
     "metadata": {},
     "output_type": "execute_result"
    }
   ],
   "source": [
    "dato = 'Summer Fashion Dabbing Pug T-Shirt Newest Men Funny T Shirts  Tops Hip Hop Tee'\n",
    "ubicacion = np.where(nombres == dato)\n",
    "\n",
    "ubicacion"
   ]
  },
  {
   "cell_type": "code",
   "execution_count": 44,
   "id": "2a3da10f",
   "metadata": {},
   "outputs": [
    {
     "data": {
      "text/plain": [
       "array([[[ 9., 38.]]])"
      ]
     },
     "execution_count": 44,
     "metadata": {},
     "output_type": "execute_result"
    }
   ],
   "source": [
    "ventas[ubicacion, :2]"
   ]
  },
  {
   "cell_type": "code",
   "execution_count": 46,
   "id": "852ae416",
   "metadata": {},
   "outputs": [
    {
     "data": {
      "text/plain": [
       "array([False, False, False, False, False, False, False, False, False,\n",
       "       False, False, False, False, False, False, False, False, False,\n",
       "       False, False, False, False, False, False, False, False,  True,\n",
       "       False, False, False, False, False, False, False, False, False,\n",
       "       False, False, False, False, False, False, False, False, False,\n",
       "       False, False, False, False, False, False, False, False, False,\n",
       "       False, False, False, False, False, False, False, False])"
      ]
     },
     "execution_count": 46,
     "metadata": {},
     "output_type": "execute_result"
    }
   ],
   "source": [
    "dato = 'Summer Fashion Dabbing Pug T-Shirt Newest Men Funny T Shirts  Tops Hip Hop Tee'\n",
    "condicion = nombres == dato\n",
    "condicion"
   ]
  },
  {
   "cell_type": "code",
   "execution_count": 47,
   "id": "9c6780d6",
   "metadata": {},
   "outputs": [
    {
     "data": {
      "text/plain": [
       "array([[ 9., 38.]])"
      ]
     },
     "execution_count": 47,
     "metadata": {},
     "output_type": "execute_result"
    }
   ],
   "source": [
    "ventas[condicion, :2]"
   ]
  },
  {
   "cell_type": "markdown",
   "id": "39bcb4cd",
   "metadata": {},
   "source": [
    "## Operaciones\n",
    "### Puntuación total"
   ]
  },
  {
   "cell_type": "markdown",
   "id": "28bf4831",
   "metadata": {},
   "source": [
    "La **puntuación total** de un producto resulta al multiplicar **los votos por estrella** y **el número de estrellas**, por ejemplo:\n",
    "\n",
    "| 5 estrellas | 4 estrellas | 3 estrellas | 2 estrellas | 1 estrella |\n",
    "|-------------|-------------|-------------|-------------|------------|\n",
    "|      2      |      1      |      0      |      3      |     10     |\n",
    "\n",
    "total = 2\\***5** + 1\\***4** + 0\\***3** + 3\\***2** + 10\\***1**\n",
    "\n",
    "total = 30"
   ]
  },
  {
   "cell_type": "markdown",
   "id": "7ad5d39f",
   "metadata": {},
   "source": [
    "## Ejercicio\n",
    "\n",
    "Muestre la calificación total del producto con el índice 5"
   ]
  },
  {
   "cell_type": "code",
   "execution_count": 51,
   "id": "787b8688",
   "metadata": {},
   "outputs": [
    {
     "data": {
      "text/plain": [
       "83.0"
      ]
     },
     "execution_count": 51,
     "metadata": {},
     "output_type": "execute_result"
    }
   ],
   "source": [
    "total = (ventas[5, 3] * 5) + (ventas[5, 4] * 4) + (ventas[5, 5] * 3) + (ventas[5, 6] * 2) + (ventas[5, 7] * 1)\n",
    "total"
   ]
  },
  {
   "cell_type": "code",
   "execution_count": 60,
   "id": "201aa8bd",
   "metadata": {},
   "outputs": [
    {
     "name": "stdout",
     "output_type": "stream",
     "text": [
      "[8. 5. 6. 0. 5.]\n",
      "[5 4 3 2 1]\n",
      "[40. 20. 18.  0.  5.]\n",
      "83.0\n"
     ]
    }
   ],
   "source": [
    "#separar las estrellas del producto con el índice 5\n",
    "productoidx5 = ventas[5,3:] \n",
    "print(productoidx5)\n",
    "\n",
    "# definir un arreglo con las estrellas\n",
    "estrellas = np.array([5,4,3,2,1])\n",
    "print(estrellas)\n",
    "\n",
    "#multiplicación\n",
    "resultado = productoidx5 * estrellas\n",
    "print(resultado)\n",
    "\n",
    "#suma total\n",
    "total = np.sum(resultado)\n",
    "print(total)"
   ]
  },
  {
   "cell_type": "markdown",
   "id": "0db553a8",
   "metadata": {},
   "source": [
    "## Ejercicio\n",
    "* Muestre la calificación de todos los productos\n",
    "* ¿Cuáles son los nombres y el puntaje total de los diez productos con la mejor puntuación?\n",
    "* ¿Cuáles son los nombres y el puntaje total de los tres productos con la peor puntuación?\n",
    "* Muestre los gráficos"
   ]
  },
  {
   "cell_type": "markdown",
   "id": "90a157b3",
   "metadata": {},
   "source": [
    "### Muestre la calificación de todos los productos"
   ]
  },
  {
   "cell_type": "code",
   "execution_count": 71,
   "id": "1644db0e",
   "metadata": {},
   "outputs": [
    {
     "name": "stdout",
     "output_type": "stream",
     "text": [
      "[[  82.   27.   10.    7.   12.]\n",
      " [ 400.  142.  103.   45.   53.]\n",
      " [  30.   14.    5.    1.    3.]\n",
      " [ 447.  201.  135.   81.  144.]\n",
      " [ 101.   36.   38.   15.   29.]\n",
      " [   8.    5.    6.    0.    5.]\n",
      " [ 897.  289.  149.   74.  152.]\n",
      " [ 103.   59.   33.    7.   19.]\n",
      " [ 985.  356.  320.  156.  343.]\n",
      " [   9.    7.    2.    0.    3.]\n",
      " [  29.   16.   10.    7.   17.]\n",
      " [4974. 2091. 1409.  655. 1021.]\n",
      " [   1.    4.    2.    0.    5.]\n",
      " [ 181.   83.   77.   58.  111.]\n",
      " [1950.  776.  428.  184.  222.]\n",
      " [   7.    3.    5.    1.    2.]\n",
      " [  57.   16.    6.    4.    3.]\n",
      " [2679. 1403. 1317.  793. 1404.]\n",
      " [   5.    3.    1.    2.    2.]\n",
      " [  19.   12.    6.    4.    6.]\n",
      " [  80.   44.   57.   23.   48.]\n",
      " [  23.   11.   10.    3.    7.]\n",
      " [  44.   29.   21.   17.   30.]\n",
      " [1342.  691.  618.  301.  445.]\n",
      " [ 705.  296.  162.   79.   70.]\n",
      " [  40.   12.   10.   11.   26.]\n",
      " [ 216.   64.   16.    9.    7.]\n",
      " [  24.    6.   11.    2.   15.]\n",
      " [ 894.  303.  224.   92.  129.]\n",
      " [  23.    9.    8.    3.   13.]\n",
      " [ 189.  101.   59.   30.   49.]\n",
      " [ 981.  434.  368.  220.  363.]\n",
      " [ 932.  422.  317.  151.  244.]\n",
      " [ 121.   43.   24.    8.   11.]\n",
      " [  22.   13.    6.    4.    2.]\n",
      " [ 174.   96.   97.   69.  137.]\n",
      " [  17.   10.    6.    8.    6.]\n",
      " [ 330.  128.   90.   34.   54.]\n",
      " [  33.   10.    4.    2.    5.]\n",
      " [  50.   14.    6.    4.    7.]\n",
      " [3689. 1502. 1160.  592. 1086.]\n",
      " [ 178.   56.   41.   24.   45.]\n",
      " [  27.   12.    6.    2.    7.]\n",
      " [   9.    4.    2.    5.    3.]\n",
      " [  20.    2.    5.    4.    5.]\n",
      " [  32.   20.   26.   12.   34.]\n",
      " [  64.   25.   30.   18.   42.]\n",
      " [  60.   20.   13.    5.    5.]\n",
      " [ 326.  170.  193.  125.  199.]\n",
      " [ 288.  113.   60.   26.   42.]\n",
      " [  77.   44.   39.   19.   66.]\n",
      " [  33.   13.   10.   11.   35.]\n",
      " [ 550.  257.  171.   86.  129.]\n",
      " [  86.   26.   28.    8.   16.]\n",
      " [   9.    2.    1.    1.    6.]\n",
      " [  34.   14.   18.   12.   16.]\n",
      " [ 976.  328.  162.   70.   76.]\n",
      " [  25.    8.   10.    4.    7.]\n",
      " [ 905.  313.  169.   63.   74.]\n",
      " [ 537.  264.  187.   91.  159.]\n",
      " [3125. 1205.  838.  305.  286.]\n",
      " [1573.  606.  399.  135.  188.]]\n"
     ]
    }
   ],
   "source": [
    "votos = ventas[:,3:]\n",
    "print(votos)"
   ]
  },
  {
   "cell_type": "code",
   "execution_count": 73,
   "id": "3c4f88cf",
   "metadata": {},
   "outputs": [
    {
     "name": "stdout",
     "output_type": "stream",
     "text": [
      "[5 4 3 2 1]\n"
     ]
    }
   ],
   "source": [
    "estrellas = np.array([5,4,3,2,1])\n",
    "print(estrellas)"
   ]
  },
  {
   "cell_type": "code",
   "execution_count": 82,
   "id": "ef45a123",
   "metadata": {},
   "outputs": [
    {
     "data": {
      "text/plain": [
       "array([[  410.,   108.,    30.,    14.,    12.],\n",
       "       [ 2000.,   568.,   309.,    90.,    53.],\n",
       "       [  150.,    56.,    15.,     2.,     3.],\n",
       "       [ 2235.,   804.,   405.,   162.,   144.],\n",
       "       [  505.,   144.,   114.,    30.,    29.],\n",
       "       [   40.,    20.,    18.,     0.,     5.],\n",
       "       [ 4485.,  1156.,   447.,   148.,   152.],\n",
       "       [  515.,   236.,    99.,    14.,    19.],\n",
       "       [ 4925.,  1424.,   960.,   312.,   343.],\n",
       "       [   45.,    28.,     6.,     0.,     3.],\n",
       "       [  145.,    64.,    30.,    14.,    17.],\n",
       "       [24870.,  8364.,  4227.,  1310.,  1021.],\n",
       "       [    5.,    16.,     6.,     0.,     5.],\n",
       "       [  905.,   332.,   231.,   116.,   111.],\n",
       "       [ 9750.,  3104.,  1284.,   368.,   222.],\n",
       "       [   35.,    12.,    15.,     2.,     2.],\n",
       "       [  285.,    64.,    18.,     8.,     3.],\n",
       "       [13395.,  5612.,  3951.,  1586.,  1404.],\n",
       "       [   25.,    12.,     3.,     4.,     2.],\n",
       "       [   95.,    48.,    18.,     8.,     6.],\n",
       "       [  400.,   176.,   171.,    46.,    48.],\n",
       "       [  115.,    44.,    30.,     6.,     7.],\n",
       "       [  220.,   116.,    63.,    34.,    30.],\n",
       "       [ 6710.,  2764.,  1854.,   602.,   445.],\n",
       "       [ 3525.,  1184.,   486.,   158.,    70.],\n",
       "       [  200.,    48.,    30.,    22.,    26.],\n",
       "       [ 1080.,   256.,    48.,    18.,     7.],\n",
       "       [  120.,    24.,    33.,     4.,    15.],\n",
       "       [ 4470.,  1212.,   672.,   184.,   129.],\n",
       "       [  115.,    36.,    24.,     6.,    13.],\n",
       "       [  945.,   404.,   177.,    60.,    49.],\n",
       "       [ 4905.,  1736.,  1104.,   440.,   363.],\n",
       "       [ 4660.,  1688.,   951.,   302.,   244.],\n",
       "       [  605.,   172.,    72.,    16.,    11.],\n",
       "       [  110.,    52.,    18.,     8.,     2.],\n",
       "       [  870.,   384.,   291.,   138.,   137.],\n",
       "       [   85.,    40.,    18.,    16.,     6.],\n",
       "       [ 1650.,   512.,   270.,    68.,    54.],\n",
       "       [  165.,    40.,    12.,     4.,     5.],\n",
       "       [  250.,    56.,    18.,     8.,     7.],\n",
       "       [18445.,  6008.,  3480.,  1184.,  1086.],\n",
       "       [  890.,   224.,   123.,    48.,    45.],\n",
       "       [  135.,    48.,    18.,     4.,     7.],\n",
       "       [   45.,    16.,     6.,    10.,     3.],\n",
       "       [  100.,     8.,    15.,     8.,     5.],\n",
       "       [  160.,    80.,    78.,    24.,    34.],\n",
       "       [  320.,   100.,    90.,    36.,    42.],\n",
       "       [  300.,    80.,    39.,    10.,     5.],\n",
       "       [ 1630.,   680.,   579.,   250.,   199.],\n",
       "       [ 1440.,   452.,   180.,    52.,    42.],\n",
       "       [  385.,   176.,   117.,    38.,    66.],\n",
       "       [  165.,    52.,    30.,    22.,    35.],\n",
       "       [ 2750.,  1028.,   513.,   172.,   129.],\n",
       "       [  430.,   104.,    84.,    16.,    16.],\n",
       "       [   45.,     8.,     3.,     2.,     6.],\n",
       "       [  170.,    56.,    54.,    24.,    16.],\n",
       "       [ 4880.,  1312.,   486.,   140.,    76.],\n",
       "       [  125.,    32.,    30.,     8.,     7.],\n",
       "       [ 4525.,  1252.,   507.,   126.,    74.],\n",
       "       [ 2685.,  1056.,   561.,   182.,   159.],\n",
       "       [15625.,  4820.,  2514.,   610.,   286.],\n",
       "       [ 7865.,  2424.,  1197.,   270.,   188.]])"
      ]
     },
     "execution_count": 82,
     "metadata": {},
     "output_type": "execute_result"
    }
   ],
   "source": [
    "resultado = votos*estrellas\n",
    "resultado"
   ]
  },
  {
   "cell_type": "code",
   "execution_count": 87,
   "id": "d0c2186a",
   "metadata": {},
   "outputs": [
    {
     "data": {
      "text/plain": [
       "array([  574.,  3020.,   226.,  3750.,   822.,    83.,  6388.,   883.,\n",
       "        7964.,    82.,   270., 39792.,    32.,  1695., 14728.,    66.,\n",
       "         378., 25948.,    46.,   175.,   841.,   202.,   463., 12375.,\n",
       "        5423.,   326.,  1409.,   196.,  6667.,   194.,  1635.,  8548.,\n",
       "        7845.,   876.,   190.,  1820.,   165.,  2554.,   226.,   339.,\n",
       "       30203.,  1330.,   212.,    80.,   136.,   376.,   588.,   434.,\n",
       "        3338.,  2166.,   782.,   304.,  4592.,   650.,    64.,   320.,\n",
       "        6894.,   202.,  6484.,  4643., 23855., 11944.])"
      ]
     },
     "execution_count": 87,
     "metadata": {},
     "output_type": "execute_result"
    }
   ],
   "source": [
    "totales = np.sum(resultado, axis = 1)\n",
    "totales"
   ]
  },
  {
   "cell_type": "code",
   "execution_count": 93,
   "id": "e9d3c1e6",
   "metadata": {},
   "outputs": [
    {
     "data": {
      "text/plain": [
       "array([  574.,  3020.,   226.,  3750.,   822.,    83.,  6388.,   883.,\n",
       "        7964.,    82.,   270., 39792.,    32.,  1695., 14728.,    66.,\n",
       "         378., 25948.,    46.,   175.,   841.,   202.,   463., 12375.,\n",
       "        5423.,   326.,  1409.,   196.,  6667.,   194.,  1635.,  8548.,\n",
       "        7845.,   876.,   190.,  1820.,   165.,  2554.,   226.,   339.,\n",
       "       30203.,  1330.,   212.,    80.,   136.,   376.,   588.,   434.,\n",
       "        3338.,  2166.,   782.,   304.,  4592.,   650.,    64.,   320.,\n",
       "        6894.,   202.,  6484.,  4643., 23855., 11944.])"
      ]
     },
     "execution_count": 93,
     "metadata": {},
     "output_type": "execute_result"
    }
   ],
   "source": [
    "votos = ventas[:,3:]\n",
    "totales = votos[:,0]*5 + votos[:,1]*4 + votos[:,2] *3 + votos[:,3] * 2 + votos[:,4] * 1\n",
    "totales"
   ]
  },
  {
   "cell_type": "markdown",
   "id": "f971152c",
   "metadata": {},
   "source": [
    "### ¿Cuáles son los nombres y el puntaje total de los diez productos con la mejor puntuación?"
   ]
  },
  {
   "cell_type": "code",
   "execution_count": 110,
   "id": "d209b6cb",
   "metadata": {},
   "outputs": [
    {
     "name": "stdout",
     "output_type": "stream",
     "text": [
      "2019 New Fashion Spring Summer Women's Long Pants Short Sleeves Off Shoulder Jumpsuit 7845.0\n",
      "2019 New Fashion Women's Slim Plus Size Maxi Dress Ink Printing Spaghetti Strap Dress 7964.0\n",
      "2019 New Fashion Summer Women Casual Dress Round Neck Loose Big Swing Skirt Sleeveless Soild Color Beach dress 8548.0\n",
      "Summer Fashion Women's Jumpsuit Floral Print Sleeveless 5 Colors Romper 11944.0\n",
      "Sexy Women One-Piece Push Up Bikini Bandage Monokini Swimsuit Bathing Swimwear 12375.0\n",
      "Plus Size Women Floral Dress Spaghetti Strap Collect Waist A-line Summer Mini Dress 14728.0\n",
      "Womens Summer Blouse Sexy Floral Shirt Loose Kimono Cardigan Casual Jacket Tops 23855.0\n",
      "Black and White Boho Maxi Long Dress 25948.0\n",
      "Summer Fashion Trousers Women Leggings Ripped Pants Slim Pants Army Green Tights Pants 30203.0\n",
      "Mayzero New Summer Women Long Beach Dress Boho Floral Print Sexy Split 39792.0\n"
     ]
    }
   ],
   "source": [
    "indicesOrdenados = np.argsort(totales)\n",
    "\n",
    "nombresOrdenados = nombres[indicesOrdenados]\n",
    "totalesOrdenados = totales[indicesOrdenados]\n",
    "\n",
    "#nombresOrdenados[-10:], totalesOrdenado[-10:]\n",
    "\n",
    "nombresTop10 = nombresOrdenados[-10:]\n",
    "totalesTop10 = totalesOrdenado[-10:]\n",
    "\n",
    "#for indice, elemento in enumerate(nombresTop10):\n",
    "#    print(elemento, totalesTop10[indice])\n",
    "\n",
    "for indice in range(nombresTop10.size):\n",
    "    print(nombresTop10[indice], totalesTop10[indice])"
   ]
  },
  {
   "cell_type": "markdown",
   "id": "9de7145e",
   "metadata": {},
   "source": [
    "### ¿Cuáles son los nombres y el puntaje total de los tres productos con la peor puntuación?"
   ]
  },
  {
   "cell_type": "code",
   "execution_count": 106,
   "id": "56bc59a9",
   "metadata": {},
   "outputs": [
    {
     "name": "stdout",
     "output_type": "stream",
     "text": [
      "['Women Summer Shorts Lace Up Elastic Waistband Loose Thin Casual Pants Plus Size S-8XL'\n",
      " 'Women Summer Printed Plus Size Loose Casual Trousers Harlan Pants Long Pants Plus  Size S-5XL'\n",
      " 'Women Fashion Jumpsuit Short Romper V Neck Summer Playsuit Spaghetti Strap Halter Cute Beach Shorts Casual Solid Cami Rompers for Women '] [32. 46. 64.]\n"
     ]
    }
   ],
   "source": [
    "indicesOrdenados = np.argsort(totales)\n",
    "\n",
    "nombresOrdenados = nombres[indicesOrdenados]\n",
    "totalesOrdenados = totales[indicesOrdenados]\n",
    "\n",
    "nombresUltimos3 = nombresOrdenados[:3]\n",
    "totalesUltimos3 = totalesOrdenado[:3]\n",
    "\n",
    "print(nombresUltimos3, totalesUltimos3)"
   ]
  },
  {
   "cell_type": "code",
   "execution_count": 112,
   "id": "f2af757b",
   "metadata": {},
   "outputs": [
    {
     "data": {
      "text/plain": [
       "([0, 1, 2], [Text(0, 0, ''), Text(0, 0, ''), Text(0, 0, '')])"
      ]
     },
     "execution_count": 112,
     "metadata": {},
     "output_type": "execute_result"
    },
    {
     "data": {
      "image/png": "[encoded data removed]",
      "text/plain": [
       "<Figure size 432x288 with 1 Axes>"
      ]
     },
     "metadata": {
      "needs_background": "light"
     },
     "output_type": "display_data"
    }
   ],
   "source": [
    "pt.bar(nombresUltimos3, totalesUltimos3)\n",
    "pt.xticks(rotation=90)"
   ]
  },
  {
   "cell_type": "markdown",
   "id": "8b77708e",
   "metadata": {},
   "source": [
    "## Ejercicio\n",
    "* Muestre el mayor número de ventas\n",
    "* Muestre los nombres de los productos con el mayor número de unidades vendidas"
   ]
  },
  {
   "cell_type": "code",
   "execution_count": 114,
   "id": "c3207c7e",
   "metadata": {},
   "outputs": [
    {
     "data": {
      "text/plain": [
       "20000.0"
      ]
     },
     "execution_count": 114,
     "metadata": {},
     "output_type": "execute_result"
    }
   ],
   "source": [
    "maximo = max(ventas[:,2])\n",
    "maximo"
   ]
  },
  {
   "cell_type": "code",
   "execution_count": 117,
   "id": "5e1fdd76",
   "metadata": {},
   "outputs": [
    {
     "data": {
      "text/plain": [
       "array([\"2019 New Fashion Women's Slim Plus Size Maxi Dress Ink Printing Spaghetti Strap Dress\",\n",
       "       'Mayzero New Summer Women Long Beach Dress Boho Floral Print Sexy Split',\n",
       "       'Black and White Boho Maxi Long Dress',\n",
       "       'Sexy Women One-Piece Push Up Bikini Bandage Monokini Swimsuit Bathing Swimwear',\n",
       "       \"2019 New Fashion Spring Summer Women's Long Pants Short Sleeves Off Shoulder Jumpsuit\",\n",
       "       'Summer Fashion Trousers Women Leggings Ripped Pants Slim Pants Army Green Tights Pants',\n",
       "       'Womens Summer Blouse Sexy Floral Shirt Loose Kimono Cardigan Casual Jacket Tops'],\n",
       "      dtype='<U181')"
      ]
     },
     "execution_count": 117,
     "metadata": {},
     "output_type": "execute_result"
    }
   ],
   "source": [
    "condicion = ventas[:,2] == maximo\n",
    "nombres[condicion]"
   ]
  },
  {
   "cell_type": "code",
   "execution_count": 121,
   "id": "5ffc6961",
   "metadata": {},
   "outputs": [
    {
     "data": {
      "text/plain": [
       "array([\"2019 New Fashion Women's Slim Plus Size Maxi Dress Ink Printing Spaghetti Strap Dress\",\n",
       "       'Mayzero New Summer Women Long Beach Dress Boho Floral Print Sexy Split',\n",
       "       'Black and White Boho Maxi Long Dress',\n",
       "       'Sexy Women One-Piece Push Up Bikini Bandage Monokini Swimsuit Bathing Swimwear',\n",
       "       \"2019 New Fashion Spring Summer Women's Long Pants Short Sleeves Off Shoulder Jumpsuit\",\n",
       "       'Summer Fashion Trousers Women Leggings Ripped Pants Slim Pants Army Green Tights Pants',\n",
       "       'Womens Summer Blouse Sexy Floral Shirt Loose Kimono Cardigan Casual Jacket Tops'],\n",
       "      dtype='<U181')"
      ]
     },
     "execution_count": 121,
     "metadata": {},
     "output_type": "execute_result"
    }
   ],
   "source": [
    "indices = np.where(ventas[:,2] == maximo)\n",
    "nombres[indices]"
   ]
  },
  {
   "cell_type": "markdown",
   "id": "095cea56",
   "metadata": {},
   "source": [
    "## Ejercicio\n",
    "* Muestre el promedio de unidades vendidas de todos los productos\n",
    "* ¿Cuántos y cuáles son los productos que tienen el número de ventas mayor o igual que el promedio?"
   ]
  },
  {
   "cell_type": "code",
   "execution_count": 123,
   "id": "c9b23598",
   "metadata": {},
   "outputs": [
    {
     "data": {
      "text/plain": [
       "4590.322580645161"
      ]
     },
     "execution_count": 123,
     "metadata": {},
     "output_type": "execute_result"
    }
   ],
   "source": [
    "promedio = np.mean(ventas[:,2])\n",
    "promedio"
   ]
  },
  {
   "cell_type": "code",
   "execution_count": 124,
   "id": "fd6a0223",
   "metadata": {},
   "outputs": [],
   "source": [
    "condicion = ventas[:,2] >= promedio"
   ]
  },
  {
   "cell_type": "code",
   "execution_count": 126,
   "id": "d1d808d6",
   "metadata": {},
   "outputs": [
    {
     "data": {
      "text/plain": [
       "array(['Sexy Solid Ruffled Chiffon Sling Top Pure Color Women Summer Tank Top Plus Size',\n",
       "       '2018 New Fashion Women Casual Playsuit Ladies Jumpsuit Romper Summer Floral Playsuit Brand New (3 Colors)',\n",
       "       \"Good Quality 2014 Summer Hot Sale Zipper Shorts Fashion Slim Men's Causual Ripped Jeans Cropped Trousers\",\n",
       "       \"2019 New Fashion Women's Slim Plus Size Maxi Dress Ink Printing Spaghetti Strap Dress\",\n",
       "       'Mayzero New Summer Women Long Beach Dress Boho Floral Print Sexy Split',\n",
       "       'Women Lace See Through Sexy Lace up Low Waist Hollow Bikini Lingerie Set',\n",
       "       'Plus Size Women Floral Dress Spaghetti Strap Collect Waist A-line Summer Mini Dress',\n",
       "       'Black and White Boho Maxi Long Dress',\n",
       "       'Sexy Women One-Piece Push Up Bikini Bandage Monokini Swimsuit Bathing Swimwear',\n",
       "       'Women Casual Tank Tops Hollow Out Cross Tee Shirt Summer Sleeveless Halter Loose Tunic Tops Vest',\n",
       "       '2019 Summer Plus Size Tank Top for Women Spaghetti Strap  Flower Print Sleeveless Casual Top (S-6XL)',\n",
       "       '2019 New Fashion Summer Women Casual Dress Round Neck Loose Big Swing Skirt Sleeveless Soild Color Beach dress',\n",
       "       \"2019 New Fashion Spring Summer Women's Long Pants Short Sleeves Off Shoulder Jumpsuit\",\n",
       "       \"Sexy Women's Summer Casual Sleeveless Evening Party Backless Beachwear Mini Dress\",\n",
       "       'Summer Fashion Trousers Women Leggings Ripped Pants Slim Pants Army Green Tights Pants',\n",
       "       'Plus Size S-3XL New Women Fashion Loose Pants High Waist Ninth Pant Linen Trousers',\n",
       "       'Mother and Daughter Casual Boho Stripe Maxi Dress Mom & Kids Matching Set Outfit',\n",
       "       'Women Bikini Set Swimsuit Bikinis Halter Swimwear Women Beach Wear Bathing Suit Tankini Monokini',\n",
       "       'Women Fashion Lace Party Cocktail Mini Dress Ladies Summer Short Sleeve Skater Dresses ',\n",
       "       'ZANZEA Damen Sommer Mode Lose Rundhals Baumwolle Leinen 3/4 Arm Shirt Bluse Hemd Kleid Dress',\n",
       "       'Women Casual Loose Linen Trousers Solid Color Sport Yoga Comfortable Women Pants',\n",
       "       'Womens Summer Blouse Sexy Floral Shirt Loose Kimono Cardigan Casual Jacket Tops',\n",
       "       \"Summer Fashion Women's Jumpsuit Floral Print Sleeveless 5 Colors Romper\"],\n",
       "      dtype='<U181')"
      ]
     },
     "execution_count": 126,
     "metadata": {},
     "output_type": "execute_result"
    }
   ],
   "source": [
    "nombres[condicion]"
   ]
  },
  {
   "cell_type": "code",
   "execution_count": 129,
   "id": "667977c6",
   "metadata": {},
   "outputs": [
    {
     "data": {
      "text/plain": [
       "23"
      ]
     },
     "execution_count": 129,
     "metadata": {},
     "output_type": "execute_result"
    }
   ],
   "source": [
    "nombres[condicion].size"
   ]
  }
 ],
 "metadata": {
  "kernelspec": {
   "display_name": "Python 3 (ipykernel)",
   "language": "python",
   "name": "python3"
  },
  "language_info": {
   "codemirror_mode": {
    "name": "ipython",
    "version": 3
   },
   "file_extension": ".py",
   "mimetype": "text/x-python",
   "name": "python",
   "nbconvert_exporter": "python",
   "pygments_lexer": "ipython3",
   "version": "3.9.5"
  }
 },
 "nbformat": 4,
 "nbformat_minor": 5
}
