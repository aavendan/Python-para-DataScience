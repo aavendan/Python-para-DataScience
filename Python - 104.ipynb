{
 "cells": [
  {
   "cell_type": "markdown",
   "id": "8ed038b8",
   "metadata": {},
   "source": [
    "# Netflix Movies and TV Shows\n",
    "## Movies and TV Shows listings on Netflix\n",
    "\n",
    "Para la siguiente práctica, se tomó parte del dataset de las [películas y shows en Netflix](https://www.kaggle.com/shivamb/netflix-shows/notebooks) que aparece en [Kaggle](https://www.kaggle.com/). \n",
    "\n",
    "# Pandas\n",
    "\n",
    "Utilizaremos Pandas como librería de procesamiento de datos. Utilice la [documentación](https://pandas.pydata.org/) como referencia. \n",
    "\n",
    "# Dataset\n",
    "\n",
    "El dataset se encuentran en la carpeta 'netflix/netflix_titles.csv'. Está compuesto 6234 filas y por las columnas 'show_id', 'type', 'title', 'director', 'cast', 'country', 'date_added', 'release_year', 'rating', 'duration', 'listed_in', 'description'.\n"
   ]
  },
  {
   "cell_type": "code",
   "execution_count": null,
   "id": "c7f8a7ef",
   "metadata": {},
   "outputs": [],
   "source": []
  }
 ],
 "metadata": {
  "kernelspec": {
   "display_name": "Python 3 (ipykernel)",
   "language": "python",
   "name": "python3"
  },
  "language_info": {
   "codemirror_mode": {
    "name": "ipython",
    "version": 3
   },
   "file_extension": ".py",
   "mimetype": "text/x-python",
   "name": "python",
   "nbconvert_exporter": "python",
   "pygments_lexer": "ipython3",
   "version": "3.9.5"
  }
 },
 "nbformat": 4,
 "nbformat_minor": 5
}
